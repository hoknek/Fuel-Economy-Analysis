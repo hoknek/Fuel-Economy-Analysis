{
 "cells": [
  {
   "cell_type": "code",
   "execution_count": 90,
   "metadata": {},
   "outputs": [],
   "source": [
    "import pandas as pd\n",
    "import numpy as np\n",
    "%matplotlib inline\n",
    "import matplotlib.pyplot as plt"
   ]
  },
  {
   "cell_type": "code",
   "execution_count": 91,
   "metadata": {
    "scrolled": true
   },
   "outputs": [],
   "source": [
    "df_08 = pd.read_csv('./all_alpha_08.csv')\n",
    "df_18 = pd.read_csv('./all_alpha_18.csv')"
   ]
  },
  {
   "cell_type": "markdown",
   "metadata": {},
   "source": [
    "## Number of columns per dataset"
   ]
  },
  {
   "cell_type": "code",
   "execution_count": 92,
   "metadata": {
    "scrolled": true
   },
   "outputs": [
    {
     "data": {
      "text/plain": [
       "18"
      ]
     },
     "execution_count": 92,
     "metadata": {},
     "output_type": "execute_result"
    }
   ],
   "source": [
    "len(df_08.columns)"
   ]
  },
  {
   "cell_type": "code",
   "execution_count": 93,
   "metadata": {},
   "outputs": [
    {
     "data": {
      "text/plain": [
       "18"
      ]
     },
     "execution_count": 93,
     "metadata": {},
     "output_type": "execute_result"
    }
   ],
   "source": [
    "len(df_18.columns)"
   ]
  },
  {
   "cell_type": "markdown",
   "metadata": {},
   "source": [
    "## Number of records per dataset"
   ]
  },
  {
   "cell_type": "code",
   "execution_count": 94,
   "metadata": {
    "scrolled": false
   },
   "outputs": [
    {
     "data": {
      "text/plain": [
       "Model                   2404\n",
       "Displ                   2404\n",
       "Cyl                     2205\n",
       "Trans                   2205\n",
       "Drive                   2311\n",
       "Fuel                    2404\n",
       "Sales Area              2404\n",
       "Stnd                    2404\n",
       "Underhood ID            2404\n",
       "Veh Class               2404\n",
       "Air Pollution Score     2404\n",
       "FE Calc Appr            2205\n",
       "City MPG                2205\n",
       "Hwy MPG                 2205\n",
       "Cmb MPG                 2205\n",
       "Unadj Cmb MPG           2205\n",
       "Greenhouse Gas Score    2205\n",
       "SmartWay                2404\n",
       "dtype: int64"
      ]
     },
     "execution_count": 94,
     "metadata": {},
     "output_type": "execute_result"
    }
   ],
   "source": [
    "df_08.count()"
   ]
  },
  {
   "cell_type": "code",
   "execution_count": 95,
   "metadata": {
    "scrolled": true
   },
   "outputs": [
    {
     "data": {
      "text/plain": [
       "Model                   1611\n",
       "Displ                   1609\n",
       "Cyl                     1609\n",
       "Trans                   1611\n",
       "Drive                   1611\n",
       "Fuel                    1611\n",
       "Cert Region             1611\n",
       "Stnd                    1611\n",
       "Stnd Description        1611\n",
       "Underhood ID            1611\n",
       "Veh Class               1611\n",
       "Air Pollution Score     1611\n",
       "City MPG                1611\n",
       "Hwy MPG                 1611\n",
       "Cmb MPG                 1611\n",
       "Greenhouse Gas Score    1611\n",
       "SmartWay                1611\n",
       "Comb CO2                1611\n",
       "dtype: int64"
      ]
     },
     "execution_count": 95,
     "metadata": {},
     "output_type": "execute_result"
    }
   ],
   "source": [
    "df_18.count()"
   ]
  },
  {
   "cell_type": "code",
   "execution_count": 96,
   "metadata": {
    "scrolled": true
   },
   "outputs": [
    {
     "name": "stdout",
     "output_type": "stream",
     "text": [
      "<class 'pandas.core.frame.DataFrame'>\n",
      "RangeIndex: 2404 entries, 0 to 2403\n",
      "Data columns (total 18 columns):\n",
      " #   Column                Non-Null Count  Dtype  \n",
      "---  ------                --------------  -----  \n",
      " 0   Model                 2404 non-null   object \n",
      " 1   Displ                 2404 non-null   float64\n",
      " 2   Cyl                   2205 non-null   object \n",
      " 3   Trans                 2205 non-null   object \n",
      " 4   Drive                 2311 non-null   object \n",
      " 5   Fuel                  2404 non-null   object \n",
      " 6   Sales Area            2404 non-null   object \n",
      " 7   Stnd                  2404 non-null   object \n",
      " 8   Underhood ID          2404 non-null   object \n",
      " 9   Veh Class             2404 non-null   object \n",
      " 10  Air Pollution Score   2404 non-null   object \n",
      " 11  FE Calc Appr          2205 non-null   object \n",
      " 12  City MPG              2205 non-null   object \n",
      " 13  Hwy MPG               2205 non-null   object \n",
      " 14  Cmb MPG               2205 non-null   object \n",
      " 15  Unadj Cmb MPG         2205 non-null   float64\n",
      " 16  Greenhouse Gas Score  2205 non-null   object \n",
      " 17  SmartWay              2404 non-null   object \n",
      "dtypes: float64(2), object(16)\n",
      "memory usage: 338.2+ KB\n"
     ]
    }
   ],
   "source": [
    "df_08.info()"
   ]
  },
  {
   "cell_type": "code",
   "execution_count": 97,
   "metadata": {},
   "outputs": [
    {
     "name": "stdout",
     "output_type": "stream",
     "text": [
      "<class 'pandas.core.frame.DataFrame'>\n",
      "RangeIndex: 1611 entries, 0 to 1610\n",
      "Data columns (total 18 columns):\n",
      " #   Column                Non-Null Count  Dtype  \n",
      "---  ------                --------------  -----  \n",
      " 0   Model                 1611 non-null   object \n",
      " 1   Displ                 1609 non-null   float64\n",
      " 2   Cyl                   1609 non-null   float64\n",
      " 3   Trans                 1611 non-null   object \n",
      " 4   Drive                 1611 non-null   object \n",
      " 5   Fuel                  1611 non-null   object \n",
      " 6   Cert Region           1611 non-null   object \n",
      " 7   Stnd                  1611 non-null   object \n",
      " 8   Stnd Description      1611 non-null   object \n",
      " 9   Underhood ID          1611 non-null   object \n",
      " 10  Veh Class             1611 non-null   object \n",
      " 11  Air Pollution Score   1611 non-null   int64  \n",
      " 12  City MPG              1611 non-null   object \n",
      " 13  Hwy MPG               1611 non-null   object \n",
      " 14  Cmb MPG               1611 non-null   object \n",
      " 15  Greenhouse Gas Score  1611 non-null   int64  \n",
      " 16  SmartWay              1611 non-null   object \n",
      " 17  Comb CO2              1611 non-null   object \n",
      "dtypes: float64(2), int64(2), object(14)\n",
      "memory usage: 226.7+ KB\n"
     ]
    }
   ],
   "source": [
    "df_18.info()"
   ]
  },
  {
   "cell_type": "markdown",
   "metadata": {},
   "source": [
    "## Number of duplicate rows"
   ]
  },
  {
   "cell_type": "code",
   "execution_count": 98,
   "metadata": {
    "scrolled": true
   },
   "outputs": [
    {
     "data": {
      "text/plain": [
       "25"
      ]
     },
     "execution_count": 98,
     "metadata": {},
     "output_type": "execute_result"
    }
   ],
   "source": [
    "df_08.duplicated().sum()"
   ]
  },
  {
   "cell_type": "code",
   "execution_count": 99,
   "metadata": {
    "scrolled": true
   },
   "outputs": [
    {
     "data": {
      "text/plain": [
       "0"
      ]
     },
     "execution_count": 99,
     "metadata": {},
     "output_type": "execute_result"
    }
   ],
   "source": [
    "df_18.duplicated().sum()"
   ]
  },
  {
   "cell_type": "markdown",
   "metadata": {},
   "source": [
    "## Features with missing values"
   ]
  },
  {
   "cell_type": "code",
   "execution_count": 100,
   "metadata": {
    "scrolled": true
   },
   "outputs": [
    {
     "data": {
      "text/plain": [
       "Model                     0\n",
       "Displ                     0\n",
       "Cyl                     199\n",
       "Trans                   199\n",
       "Drive                    93\n",
       "Fuel                      0\n",
       "Sales Area                0\n",
       "Stnd                      0\n",
       "Underhood ID              0\n",
       "Veh Class                 0\n",
       "Air Pollution Score       0\n",
       "FE Calc Appr            199\n",
       "City MPG                199\n",
       "Hwy MPG                 199\n",
       "Cmb MPG                 199\n",
       "Unadj Cmb MPG           199\n",
       "Greenhouse Gas Score    199\n",
       "SmartWay                  0\n",
       "dtype: int64"
      ]
     },
     "execution_count": 100,
     "metadata": {},
     "output_type": "execute_result"
    }
   ],
   "source": [
    "df_08.isnull().sum()"
   ]
  },
  {
   "cell_type": "code",
   "execution_count": 101,
   "metadata": {
    "scrolled": true
   },
   "outputs": [
    {
     "data": {
      "text/plain": [
       "Model                   0\n",
       "Displ                   2\n",
       "Cyl                     2\n",
       "Trans                   0\n",
       "Drive                   0\n",
       "Fuel                    0\n",
       "Cert Region             0\n",
       "Stnd                    0\n",
       "Stnd Description        0\n",
       "Underhood ID            0\n",
       "Veh Class               0\n",
       "Air Pollution Score     0\n",
       "City MPG                0\n",
       "Hwy MPG                 0\n",
       "Cmb MPG                 0\n",
       "Greenhouse Gas Score    0\n",
       "SmartWay                0\n",
       "Comb CO2                0\n",
       "dtype: int64"
      ]
     },
     "execution_count": 101,
     "metadata": {},
     "output_type": "execute_result"
    }
   ],
   "source": [
    "df_18.isnull().sum()"
   ]
  },
  {
   "cell_type": "markdown",
   "metadata": {},
   "source": [
    "## Non-null unique values"
   ]
  },
  {
   "cell_type": "code",
   "execution_count": 102,
   "metadata": {
    "scrolled": false
   },
   "outputs": [
    {
     "data": {
      "text/plain": [
       "1757"
      ]
     },
     "execution_count": 102,
     "metadata": {},
     "output_type": "execute_result"
    }
   ],
   "source": [
    "df_08.nunique().sum()"
   ]
  },
  {
   "cell_type": "code",
   "execution_count": 103,
   "metadata": {},
   "outputs": [
    {
     "data": {
      "text/plain": [
       "1217"
      ]
     },
     "execution_count": 103,
     "metadata": {},
     "output_type": "execute_result"
    }
   ],
   "source": [
    "df_18.nunique().sum()"
   ]
  },
  {
   "cell_type": "markdown",
   "metadata": {},
   "source": [
    "## Count of unique fuel types"
   ]
  },
  {
   "cell_type": "code",
   "execution_count": 104,
   "metadata": {
    "scrolled": true
   },
   "outputs": [
    {
     "data": {
      "text/html": [
       "<div>\n",
       "<style scoped>\n",
       "    .dataframe tbody tr th:only-of-type {\n",
       "        vertical-align: middle;\n",
       "    }\n",
       "\n",
       "    .dataframe tbody tr th {\n",
       "        vertical-align: top;\n",
       "    }\n",
       "\n",
       "    .dataframe thead th {\n",
       "        text-align: right;\n",
       "    }\n",
       "</style>\n",
       "<table border=\"1\" class=\"dataframe\">\n",
       "  <thead>\n",
       "    <tr style=\"text-align: right;\">\n",
       "      <th></th>\n",
       "      <th>Displ</th>\n",
       "      <th>Unadj Cmb MPG</th>\n",
       "    </tr>\n",
       "    <tr>\n",
       "      <th>Fuel</th>\n",
       "      <th></th>\n",
       "      <th></th>\n",
       "    </tr>\n",
       "  </thead>\n",
       "  <tbody>\n",
       "    <tr>\n",
       "      <th>CNG</th>\n",
       "      <td>3.6</td>\n",
       "      <td>75.0390</td>\n",
       "    </tr>\n",
       "    <tr>\n",
       "      <th>Gasoline</th>\n",
       "      <td>8605.4</td>\n",
       "      <td>51574.5827</td>\n",
       "    </tr>\n",
       "    <tr>\n",
       "      <th>diesel</th>\n",
       "      <td>49.8</td>\n",
       "      <td>187.8593</td>\n",
       "    </tr>\n",
       "    <tr>\n",
       "      <th>ethanol</th>\n",
       "      <td>3.3</td>\n",
       "      <td>17.1283</td>\n",
       "    </tr>\n",
       "    <tr>\n",
       "      <th>ethanol/gas</th>\n",
       "      <td>350.3</td>\n",
       "      <td>880.4007</td>\n",
       "    </tr>\n",
       "  </tbody>\n",
       "</table>\n",
       "</div>"
      ],
      "text/plain": [
       "              Displ  Unadj Cmb MPG\n",
       "Fuel                              \n",
       "CNG             3.6        75.0390\n",
       "Gasoline     8605.4     51574.5827\n",
       "diesel         49.8       187.8593\n",
       "ethanol         3.3        17.1283\n",
       "ethanol/gas   350.3       880.4007"
      ]
     },
     "execution_count": 104,
     "metadata": {},
     "output_type": "execute_result"
    }
   ],
   "source": [
    "df_08.groupby(['Fuel']).sum()"
   ]
  },
  {
   "cell_type": "code",
   "execution_count": 105,
   "metadata": {
    "scrolled": true
   },
   "outputs": [
    {
     "data": {
      "text/html": [
       "<div>\n",
       "<style scoped>\n",
       "    .dataframe tbody tr th:only-of-type {\n",
       "        vertical-align: middle;\n",
       "    }\n",
       "\n",
       "    .dataframe tbody tr th {\n",
       "        vertical-align: top;\n",
       "    }\n",
       "\n",
       "    .dataframe thead th {\n",
       "        text-align: right;\n",
       "    }\n",
       "</style>\n",
       "<table border=\"1\" class=\"dataframe\">\n",
       "  <thead>\n",
       "    <tr style=\"text-align: right;\">\n",
       "      <th></th>\n",
       "      <th>Displ</th>\n",
       "      <th>Cyl</th>\n",
       "      <th>Air Pollution Score</th>\n",
       "      <th>Greenhouse Gas Score</th>\n",
       "    </tr>\n",
       "    <tr>\n",
       "      <th>Fuel</th>\n",
       "      <th></th>\n",
       "      <th></th>\n",
       "      <th></th>\n",
       "      <th></th>\n",
       "    </tr>\n",
       "  </thead>\n",
       "  <tbody>\n",
       "    <tr>\n",
       "      <th>Diesel</th>\n",
       "      <td>77.6</td>\n",
       "      <td>152.0</td>\n",
       "      <td>90</td>\n",
       "      <td>218</td>\n",
       "    </tr>\n",
       "    <tr>\n",
       "      <th>Electricity</th>\n",
       "      <td>0.0</td>\n",
       "      <td>0.0</td>\n",
       "      <td>20</td>\n",
       "      <td>20</td>\n",
       "    </tr>\n",
       "    <tr>\n",
       "      <th>Ethanol/Gas</th>\n",
       "      <td>232.4</td>\n",
       "      <td>358.0</td>\n",
       "      <td>199</td>\n",
       "      <td>198</td>\n",
       "    </tr>\n",
       "    <tr>\n",
       "      <th>Gasoline</th>\n",
       "      <td>4561.6</td>\n",
       "      <td>8212.0</td>\n",
       "      <td>5944</td>\n",
       "      <td>6918</td>\n",
       "    </tr>\n",
       "    <tr>\n",
       "      <th>Gasoline/Electricity</th>\n",
       "      <td>45.0</td>\n",
       "      <td>94.0</td>\n",
       "      <td>124</td>\n",
       "      <td>236</td>\n",
       "    </tr>\n",
       "  </tbody>\n",
       "</table>\n",
       "</div>"
      ],
      "text/plain": [
       "                       Displ     Cyl  Air Pollution Score  \\\n",
       "Fuel                                                        \n",
       "Diesel                  77.6   152.0                   90   \n",
       "Electricity              0.0     0.0                   20   \n",
       "Ethanol/Gas            232.4   358.0                  199   \n",
       "Gasoline              4561.6  8212.0                 5944   \n",
       "Gasoline/Electricity    45.0    94.0                  124   \n",
       "\n",
       "                      Greenhouse Gas Score  \n",
       "Fuel                                        \n",
       "Diesel                                 218  \n",
       "Electricity                             20  \n",
       "Ethanol/Gas                            198  \n",
       "Gasoline                              6918  \n",
       "Gasoline/Electricity                   236  "
      ]
     },
     "execution_count": 105,
     "metadata": {},
     "output_type": "execute_result"
    }
   ],
   "source": [
    "df_18.groupby(['Fuel']).sum()"
   ]
  },
  {
   "cell_type": "markdown",
   "metadata": {},
   "source": [
    "## Drop unneeded columns"
   ]
  },
  {
   "cell_type": "code",
   "execution_count": 106,
   "metadata": {
    "scrolled": false
   },
   "outputs": [],
   "source": [
    "df_08 = df_08.drop(columns=['Stnd','Underhood ID', 'FE Calc Appr'])"
   ]
  },
  {
   "cell_type": "code",
   "execution_count": 107,
   "metadata": {},
   "outputs": [],
   "source": [
    "df_18 = df_18.drop(columns=['Stnd','Stnd Description','Underhood ID'])"
   ]
  },
  {
   "cell_type": "markdown",
   "metadata": {},
   "source": [
    "## Rename 'Sales Area' column in 2008 dataframe"
   ]
  },
  {
   "cell_type": "code",
   "execution_count": 108,
   "metadata": {},
   "outputs": [],
   "source": [
    "df_08 = df_08.rename(columns={'Sales Area':'Cert Region'})"
   ]
  },
  {
   "cell_type": "markdown",
   "metadata": {},
   "source": [
    "## Make more consistent column labels"
   ]
  },
  {
   "cell_type": "code",
   "execution_count": 109,
   "metadata": {},
   "outputs": [],
   "source": [
    "df_08 = df_08.rename(columns= lambda x: x.replace(' ', '_'))\n",
    "df_18 = df_18.rename(columns= lambda x: x.replace(' ', '_'))"
   ]
  },
  {
   "cell_type": "code",
   "execution_count": 110,
   "metadata": {},
   "outputs": [
    {
     "data": {
      "text/plain": [
       "Model                   2404\n",
       "Displ                   2404\n",
       "Cyl                     2205\n",
       "Trans                   2205\n",
       "Drive                   2311\n",
       "Fuel                    2404\n",
       "Cert_Region             2404\n",
       "Veh_Class               2404\n",
       "Air_Pollution_Score     2404\n",
       "City_MPG                2205\n",
       "Hwy_MPG                 2205\n",
       "Cmb_MPG                 2205\n",
       "Unadj_Cmb_MPG           2205\n",
       "Greenhouse_Gas_Score    2205\n",
       "SmartWay                2404\n",
       "dtype: int64"
      ]
     },
     "execution_count": 110,
     "metadata": {},
     "output_type": "execute_result"
    }
   ],
   "source": [
    "df_08.count()"
   ]
  },
  {
   "cell_type": "code",
   "execution_count": 111,
   "metadata": {
    "scrolled": true
   },
   "outputs": [
    {
     "data": {
      "text/plain": [
       "Model                   1611\n",
       "Displ                   1609\n",
       "Cyl                     1609\n",
       "Trans                   1611\n",
       "Drive                   1611\n",
       "Fuel                    1611\n",
       "Cert_Region             1611\n",
       "Veh_Class               1611\n",
       "Air_Pollution_Score     1611\n",
       "City_MPG                1611\n",
       "Hwy_MPG                 1611\n",
       "Cmb_MPG                 1611\n",
       "Greenhouse_Gas_Score    1611\n",
       "SmartWay                1611\n",
       "Comb_CO2                1611\n",
       "dtype: int64"
      ]
     },
     "execution_count": 111,
     "metadata": {},
     "output_type": "execute_result"
    }
   ],
   "source": [
    "df_18.count()"
   ]
  },
  {
   "cell_type": "code",
   "execution_count": 112,
   "metadata": {},
   "outputs": [],
   "source": [
    "df_08 = df_08.drop(columns =['Unadj_Cmb_MPG'])"
   ]
  },
  {
   "cell_type": "code",
   "execution_count": 113,
   "metadata": {},
   "outputs": [],
   "source": [
    "df_18 = df_18.drop(columns=['Comb_CO2'])"
   ]
  },
  {
   "cell_type": "markdown",
   "metadata": {},
   "source": [
    "# Compare columns names and make sure they're the same"
   ]
  },
  {
   "cell_type": "code",
   "execution_count": 114,
   "metadata": {
    "scrolled": true
   },
   "outputs": [
    {
     "data": {
      "text/html": [
       "<div>\n",
       "<style scoped>\n",
       "    .dataframe tbody tr th:only-of-type {\n",
       "        vertical-align: middle;\n",
       "    }\n",
       "\n",
       "    .dataframe tbody tr th {\n",
       "        vertical-align: top;\n",
       "    }\n",
       "\n",
       "    .dataframe thead th {\n",
       "        text-align: right;\n",
       "    }\n",
       "</style>\n",
       "<table border=\"1\" class=\"dataframe\">\n",
       "  <thead>\n",
       "    <tr style=\"text-align: right;\">\n",
       "      <th></th>\n",
       "      <th>Model</th>\n",
       "      <th>Displ</th>\n",
       "      <th>Cyl</th>\n",
       "      <th>Trans</th>\n",
       "      <th>Drive</th>\n",
       "      <th>Fuel</th>\n",
       "      <th>Cert_Region</th>\n",
       "      <th>Veh_Class</th>\n",
       "      <th>Air_Pollution_Score</th>\n",
       "      <th>City_MPG</th>\n",
       "      <th>Hwy_MPG</th>\n",
       "      <th>Cmb_MPG</th>\n",
       "      <th>Greenhouse_Gas_Score</th>\n",
       "      <th>SmartWay</th>\n",
       "    </tr>\n",
       "  </thead>\n",
       "  <tbody>\n",
       "    <tr>\n",
       "      <th>0</th>\n",
       "      <td>ACURA MDX</td>\n",
       "      <td>3.7</td>\n",
       "      <td>(6 cyl)</td>\n",
       "      <td>Auto-S5</td>\n",
       "      <td>4WD</td>\n",
       "      <td>Gasoline</td>\n",
       "      <td>CA</td>\n",
       "      <td>SUV</td>\n",
       "      <td>7</td>\n",
       "      <td>15</td>\n",
       "      <td>20</td>\n",
       "      <td>17</td>\n",
       "      <td>4</td>\n",
       "      <td>no</td>\n",
       "    </tr>\n",
       "    <tr>\n",
       "      <th>1</th>\n",
       "      <td>ACURA MDX</td>\n",
       "      <td>3.7</td>\n",
       "      <td>(6 cyl)</td>\n",
       "      <td>Auto-S5</td>\n",
       "      <td>4WD</td>\n",
       "      <td>Gasoline</td>\n",
       "      <td>FA</td>\n",
       "      <td>SUV</td>\n",
       "      <td>6</td>\n",
       "      <td>15</td>\n",
       "      <td>20</td>\n",
       "      <td>17</td>\n",
       "      <td>4</td>\n",
       "      <td>no</td>\n",
       "    </tr>\n",
       "    <tr>\n",
       "      <th>2</th>\n",
       "      <td>ACURA RDX</td>\n",
       "      <td>2.3</td>\n",
       "      <td>(4 cyl)</td>\n",
       "      <td>Auto-S5</td>\n",
       "      <td>4WD</td>\n",
       "      <td>Gasoline</td>\n",
       "      <td>CA</td>\n",
       "      <td>SUV</td>\n",
       "      <td>7</td>\n",
       "      <td>17</td>\n",
       "      <td>22</td>\n",
       "      <td>19</td>\n",
       "      <td>5</td>\n",
       "      <td>no</td>\n",
       "    </tr>\n",
       "    <tr>\n",
       "      <th>3</th>\n",
       "      <td>ACURA RDX</td>\n",
       "      <td>2.3</td>\n",
       "      <td>(4 cyl)</td>\n",
       "      <td>Auto-S5</td>\n",
       "      <td>4WD</td>\n",
       "      <td>Gasoline</td>\n",
       "      <td>FA</td>\n",
       "      <td>SUV</td>\n",
       "      <td>6</td>\n",
       "      <td>17</td>\n",
       "      <td>22</td>\n",
       "      <td>19</td>\n",
       "      <td>5</td>\n",
       "      <td>no</td>\n",
       "    </tr>\n",
       "    <tr>\n",
       "      <th>4</th>\n",
       "      <td>ACURA RL</td>\n",
       "      <td>3.5</td>\n",
       "      <td>(6 cyl)</td>\n",
       "      <td>Auto-S5</td>\n",
       "      <td>4WD</td>\n",
       "      <td>Gasoline</td>\n",
       "      <td>CA</td>\n",
       "      <td>midsize car</td>\n",
       "      <td>7</td>\n",
       "      <td>16</td>\n",
       "      <td>24</td>\n",
       "      <td>19</td>\n",
       "      <td>5</td>\n",
       "      <td>no</td>\n",
       "    </tr>\n",
       "    <tr>\n",
       "      <th>...</th>\n",
       "      <td>...</td>\n",
       "      <td>...</td>\n",
       "      <td>...</td>\n",
       "      <td>...</td>\n",
       "      <td>...</td>\n",
       "      <td>...</td>\n",
       "      <td>...</td>\n",
       "      <td>...</td>\n",
       "      <td>...</td>\n",
       "      <td>...</td>\n",
       "      <td>...</td>\n",
       "      <td>...</td>\n",
       "      <td>...</td>\n",
       "      <td>...</td>\n",
       "    </tr>\n",
       "    <tr>\n",
       "      <th>2399</th>\n",
       "      <td>VOLVO XC 90</td>\n",
       "      <td>3.2</td>\n",
       "      <td>(6 cyl)</td>\n",
       "      <td>Auto-S6</td>\n",
       "      <td>4WD</td>\n",
       "      <td>Gasoline</td>\n",
       "      <td>CA</td>\n",
       "      <td>SUV</td>\n",
       "      <td>7</td>\n",
       "      <td>14</td>\n",
       "      <td>20</td>\n",
       "      <td>16</td>\n",
       "      <td>4</td>\n",
       "      <td>no</td>\n",
       "    </tr>\n",
       "    <tr>\n",
       "      <th>2400</th>\n",
       "      <td>VOLVO XC 90</td>\n",
       "      <td>4.4</td>\n",
       "      <td>(8 cyl)</td>\n",
       "      <td>Auto-S6</td>\n",
       "      <td>4WD</td>\n",
       "      <td>Gasoline</td>\n",
       "      <td>CA</td>\n",
       "      <td>SUV</td>\n",
       "      <td>7</td>\n",
       "      <td>13</td>\n",
       "      <td>19</td>\n",
       "      <td>15</td>\n",
       "      <td>3</td>\n",
       "      <td>no</td>\n",
       "    </tr>\n",
       "    <tr>\n",
       "      <th>2401</th>\n",
       "      <td>VOLVO XC 90</td>\n",
       "      <td>3.2</td>\n",
       "      <td>(6 cyl)</td>\n",
       "      <td>Auto-S6</td>\n",
       "      <td>2WD</td>\n",
       "      <td>Gasoline</td>\n",
       "      <td>FA</td>\n",
       "      <td>SUV</td>\n",
       "      <td>6</td>\n",
       "      <td>14</td>\n",
       "      <td>20</td>\n",
       "      <td>16</td>\n",
       "      <td>4</td>\n",
       "      <td>no</td>\n",
       "    </tr>\n",
       "    <tr>\n",
       "      <th>2402</th>\n",
       "      <td>VOLVO XC 90</td>\n",
       "      <td>3.2</td>\n",
       "      <td>(6 cyl)</td>\n",
       "      <td>Auto-S6</td>\n",
       "      <td>4WD</td>\n",
       "      <td>Gasoline</td>\n",
       "      <td>FA</td>\n",
       "      <td>SUV</td>\n",
       "      <td>6</td>\n",
       "      <td>14</td>\n",
       "      <td>20</td>\n",
       "      <td>16</td>\n",
       "      <td>4</td>\n",
       "      <td>no</td>\n",
       "    </tr>\n",
       "    <tr>\n",
       "      <th>2403</th>\n",
       "      <td>VOLVO XC 90</td>\n",
       "      <td>4.4</td>\n",
       "      <td>(8 cyl)</td>\n",
       "      <td>Auto-S6</td>\n",
       "      <td>4WD</td>\n",
       "      <td>Gasoline</td>\n",
       "      <td>FA</td>\n",
       "      <td>SUV</td>\n",
       "      <td>6</td>\n",
       "      <td>13</td>\n",
       "      <td>19</td>\n",
       "      <td>15</td>\n",
       "      <td>3</td>\n",
       "      <td>no</td>\n",
       "    </tr>\n",
       "  </tbody>\n",
       "</table>\n",
       "<p>2404 rows × 14 columns</p>\n",
       "</div>"
      ],
      "text/plain": [
       "            Model  Displ      Cyl    Trans Drive      Fuel Cert_Region  \\\n",
       "0       ACURA MDX    3.7  (6 cyl)  Auto-S5   4WD  Gasoline          CA   \n",
       "1       ACURA MDX    3.7  (6 cyl)  Auto-S5   4WD  Gasoline          FA   \n",
       "2       ACURA RDX    2.3  (4 cyl)  Auto-S5   4WD  Gasoline          CA   \n",
       "3       ACURA RDX    2.3  (4 cyl)  Auto-S5   4WD  Gasoline          FA   \n",
       "4        ACURA RL    3.5  (6 cyl)  Auto-S5   4WD  Gasoline          CA   \n",
       "...           ...    ...      ...      ...   ...       ...         ...   \n",
       "2399  VOLVO XC 90    3.2  (6 cyl)  Auto-S6   4WD  Gasoline          CA   \n",
       "2400  VOLVO XC 90    4.4  (8 cyl)  Auto-S6   4WD  Gasoline          CA   \n",
       "2401  VOLVO XC 90    3.2  (6 cyl)  Auto-S6   2WD  Gasoline          FA   \n",
       "2402  VOLVO XC 90    3.2  (6 cyl)  Auto-S6   4WD  Gasoline          FA   \n",
       "2403  VOLVO XC 90    4.4  (8 cyl)  Auto-S6   4WD  Gasoline          FA   \n",
       "\n",
       "        Veh_Class Air_Pollution_Score City_MPG Hwy_MPG Cmb_MPG  \\\n",
       "0             SUV                   7       15      20      17   \n",
       "1             SUV                   6       15      20      17   \n",
       "2             SUV                   7       17      22      19   \n",
       "3             SUV                   6       17      22      19   \n",
       "4     midsize car                   7       16      24      19   \n",
       "...           ...                 ...      ...     ...     ...   \n",
       "2399          SUV                   7       14      20      16   \n",
       "2400          SUV                   7       13      19      15   \n",
       "2401          SUV                   6       14      20      16   \n",
       "2402          SUV                   6       14      20      16   \n",
       "2403          SUV                   6       13      19      15   \n",
       "\n",
       "     Greenhouse_Gas_Score SmartWay  \n",
       "0                       4       no  \n",
       "1                       4       no  \n",
       "2                       5       no  \n",
       "3                       5       no  \n",
       "4                       5       no  \n",
       "...                   ...      ...  \n",
       "2399                    4       no  \n",
       "2400                    3       no  \n",
       "2401                    4       no  \n",
       "2402                    4       no  \n",
       "2403                    3       no  \n",
       "\n",
       "[2404 rows x 14 columns]"
      ]
     },
     "execution_count": 114,
     "metadata": {},
     "output_type": "execute_result"
    }
   ],
   "source": [
    "df_08"
   ]
  },
  {
   "cell_type": "code",
   "execution_count": 115,
   "metadata": {},
   "outputs": [
    {
     "data": {
      "text/html": [
       "<div>\n",
       "<style scoped>\n",
       "    .dataframe tbody tr th:only-of-type {\n",
       "        vertical-align: middle;\n",
       "    }\n",
       "\n",
       "    .dataframe tbody tr th {\n",
       "        vertical-align: top;\n",
       "    }\n",
       "\n",
       "    .dataframe thead th {\n",
       "        text-align: right;\n",
       "    }\n",
       "</style>\n",
       "<table border=\"1\" class=\"dataframe\">\n",
       "  <thead>\n",
       "    <tr style=\"text-align: right;\">\n",
       "      <th></th>\n",
       "      <th>Model</th>\n",
       "      <th>Displ</th>\n",
       "      <th>Cyl</th>\n",
       "      <th>Trans</th>\n",
       "      <th>Drive</th>\n",
       "      <th>Fuel</th>\n",
       "      <th>Cert_Region</th>\n",
       "      <th>Veh_Class</th>\n",
       "      <th>Air_Pollution_Score</th>\n",
       "      <th>City_MPG</th>\n",
       "      <th>Hwy_MPG</th>\n",
       "      <th>Cmb_MPG</th>\n",
       "      <th>Greenhouse_Gas_Score</th>\n",
       "      <th>SmartWay</th>\n",
       "    </tr>\n",
       "  </thead>\n",
       "  <tbody>\n",
       "    <tr>\n",
       "      <th>0</th>\n",
       "      <td>ACURA RDX</td>\n",
       "      <td>3.5</td>\n",
       "      <td>6.0</td>\n",
       "      <td>SemiAuto-6</td>\n",
       "      <td>2WD</td>\n",
       "      <td>Gasoline</td>\n",
       "      <td>FA</td>\n",
       "      <td>small SUV</td>\n",
       "      <td>3</td>\n",
       "      <td>20</td>\n",
       "      <td>28</td>\n",
       "      <td>23</td>\n",
       "      <td>5</td>\n",
       "      <td>No</td>\n",
       "    </tr>\n",
       "    <tr>\n",
       "      <th>1</th>\n",
       "      <td>ACURA RDX</td>\n",
       "      <td>3.5</td>\n",
       "      <td>6.0</td>\n",
       "      <td>SemiAuto-6</td>\n",
       "      <td>2WD</td>\n",
       "      <td>Gasoline</td>\n",
       "      <td>CA</td>\n",
       "      <td>small SUV</td>\n",
       "      <td>3</td>\n",
       "      <td>20</td>\n",
       "      <td>28</td>\n",
       "      <td>23</td>\n",
       "      <td>5</td>\n",
       "      <td>No</td>\n",
       "    </tr>\n",
       "    <tr>\n",
       "      <th>2</th>\n",
       "      <td>ACURA RDX</td>\n",
       "      <td>3.5</td>\n",
       "      <td>6.0</td>\n",
       "      <td>SemiAuto-6</td>\n",
       "      <td>4WD</td>\n",
       "      <td>Gasoline</td>\n",
       "      <td>FA</td>\n",
       "      <td>small SUV</td>\n",
       "      <td>3</td>\n",
       "      <td>19</td>\n",
       "      <td>27</td>\n",
       "      <td>22</td>\n",
       "      <td>4</td>\n",
       "      <td>No</td>\n",
       "    </tr>\n",
       "    <tr>\n",
       "      <th>3</th>\n",
       "      <td>ACURA RDX</td>\n",
       "      <td>3.5</td>\n",
       "      <td>6.0</td>\n",
       "      <td>SemiAuto-6</td>\n",
       "      <td>4WD</td>\n",
       "      <td>Gasoline</td>\n",
       "      <td>CA</td>\n",
       "      <td>small SUV</td>\n",
       "      <td>3</td>\n",
       "      <td>19</td>\n",
       "      <td>27</td>\n",
       "      <td>22</td>\n",
       "      <td>4</td>\n",
       "      <td>No</td>\n",
       "    </tr>\n",
       "    <tr>\n",
       "      <th>4</th>\n",
       "      <td>ACURA TLX</td>\n",
       "      <td>2.4</td>\n",
       "      <td>4.0</td>\n",
       "      <td>AMS-8</td>\n",
       "      <td>2WD</td>\n",
       "      <td>Gasoline</td>\n",
       "      <td>CA</td>\n",
       "      <td>small car</td>\n",
       "      <td>3</td>\n",
       "      <td>23</td>\n",
       "      <td>33</td>\n",
       "      <td>27</td>\n",
       "      <td>6</td>\n",
       "      <td>No</td>\n",
       "    </tr>\n",
       "    <tr>\n",
       "      <th>...</th>\n",
       "      <td>...</td>\n",
       "      <td>...</td>\n",
       "      <td>...</td>\n",
       "      <td>...</td>\n",
       "      <td>...</td>\n",
       "      <td>...</td>\n",
       "      <td>...</td>\n",
       "      <td>...</td>\n",
       "      <td>...</td>\n",
       "      <td>...</td>\n",
       "      <td>...</td>\n",
       "      <td>...</td>\n",
       "      <td>...</td>\n",
       "      <td>...</td>\n",
       "    </tr>\n",
       "    <tr>\n",
       "      <th>1606</th>\n",
       "      <td>VOLVO XC 90</td>\n",
       "      <td>2.0</td>\n",
       "      <td>4.0</td>\n",
       "      <td>SemiAuto-8</td>\n",
       "      <td>4WD</td>\n",
       "      <td>Gasoline</td>\n",
       "      <td>FA</td>\n",
       "      <td>standard SUV</td>\n",
       "      <td>5</td>\n",
       "      <td>22</td>\n",
       "      <td>28</td>\n",
       "      <td>24</td>\n",
       "      <td>5</td>\n",
       "      <td>No</td>\n",
       "    </tr>\n",
       "    <tr>\n",
       "      <th>1607</th>\n",
       "      <td>VOLVO XC 90</td>\n",
       "      <td>2.0</td>\n",
       "      <td>4.0</td>\n",
       "      <td>SemiAuto-8</td>\n",
       "      <td>4WD</td>\n",
       "      <td>Gasoline</td>\n",
       "      <td>CA</td>\n",
       "      <td>standard SUV</td>\n",
       "      <td>5</td>\n",
       "      <td>20</td>\n",
       "      <td>27</td>\n",
       "      <td>23</td>\n",
       "      <td>5</td>\n",
       "      <td>No</td>\n",
       "    </tr>\n",
       "    <tr>\n",
       "      <th>1608</th>\n",
       "      <td>VOLVO XC 90</td>\n",
       "      <td>2.0</td>\n",
       "      <td>4.0</td>\n",
       "      <td>SemiAuto-8</td>\n",
       "      <td>4WD</td>\n",
       "      <td>Gasoline</td>\n",
       "      <td>FA</td>\n",
       "      <td>standard SUV</td>\n",
       "      <td>5</td>\n",
       "      <td>20</td>\n",
       "      <td>27</td>\n",
       "      <td>23</td>\n",
       "      <td>5</td>\n",
       "      <td>No</td>\n",
       "    </tr>\n",
       "    <tr>\n",
       "      <th>1609</th>\n",
       "      <td>VOLVO XC 90</td>\n",
       "      <td>2.0</td>\n",
       "      <td>4.0</td>\n",
       "      <td>SemiAuto-8</td>\n",
       "      <td>4WD</td>\n",
       "      <td>Gasoline/Electricity</td>\n",
       "      <td>CA</td>\n",
       "      <td>standard SUV</td>\n",
       "      <td>7</td>\n",
       "      <td>26/63</td>\n",
       "      <td>30/61</td>\n",
       "      <td>27/62</td>\n",
       "      <td>10</td>\n",
       "      <td>Elite</td>\n",
       "    </tr>\n",
       "    <tr>\n",
       "      <th>1610</th>\n",
       "      <td>VOLVO XC 90</td>\n",
       "      <td>2.0</td>\n",
       "      <td>4.0</td>\n",
       "      <td>SemiAuto-8</td>\n",
       "      <td>4WD</td>\n",
       "      <td>Gasoline/Electricity</td>\n",
       "      <td>FA</td>\n",
       "      <td>standard SUV</td>\n",
       "      <td>7</td>\n",
       "      <td>26/63</td>\n",
       "      <td>30/61</td>\n",
       "      <td>27/62</td>\n",
       "      <td>10</td>\n",
       "      <td>Elite</td>\n",
       "    </tr>\n",
       "  </tbody>\n",
       "</table>\n",
       "<p>1611 rows × 14 columns</p>\n",
       "</div>"
      ],
      "text/plain": [
       "            Model  Displ  Cyl       Trans Drive                  Fuel  \\\n",
       "0       ACURA RDX    3.5  6.0  SemiAuto-6   2WD              Gasoline   \n",
       "1       ACURA RDX    3.5  6.0  SemiAuto-6   2WD              Gasoline   \n",
       "2       ACURA RDX    3.5  6.0  SemiAuto-6   4WD              Gasoline   \n",
       "3       ACURA RDX    3.5  6.0  SemiAuto-6   4WD              Gasoline   \n",
       "4       ACURA TLX    2.4  4.0       AMS-8   2WD              Gasoline   \n",
       "...           ...    ...  ...         ...   ...                   ...   \n",
       "1606  VOLVO XC 90    2.0  4.0  SemiAuto-8   4WD              Gasoline   \n",
       "1607  VOLVO XC 90    2.0  4.0  SemiAuto-8   4WD              Gasoline   \n",
       "1608  VOLVO XC 90    2.0  4.0  SemiAuto-8   4WD              Gasoline   \n",
       "1609  VOLVO XC 90    2.0  4.0  SemiAuto-8   4WD  Gasoline/Electricity   \n",
       "1610  VOLVO XC 90    2.0  4.0  SemiAuto-8   4WD  Gasoline/Electricity   \n",
       "\n",
       "     Cert_Region     Veh_Class  Air_Pollution_Score City_MPG Hwy_MPG Cmb_MPG  \\\n",
       "0             FA     small SUV                    3       20      28      23   \n",
       "1             CA     small SUV                    3       20      28      23   \n",
       "2             FA     small SUV                    3       19      27      22   \n",
       "3             CA     small SUV                    3       19      27      22   \n",
       "4             CA     small car                    3       23      33      27   \n",
       "...          ...           ...                  ...      ...     ...     ...   \n",
       "1606          FA  standard SUV                    5       22      28      24   \n",
       "1607          CA  standard SUV                    5       20      27      23   \n",
       "1608          FA  standard SUV                    5       20      27      23   \n",
       "1609          CA  standard SUV                    7    26/63   30/61   27/62   \n",
       "1610          FA  standard SUV                    7    26/63   30/61   27/62   \n",
       "\n",
       "      Greenhouse_Gas_Score SmartWay  \n",
       "0                        5       No  \n",
       "1                        5       No  \n",
       "2                        4       No  \n",
       "3                        4       No  \n",
       "4                        6       No  \n",
       "...                    ...      ...  \n",
       "1606                     5       No  \n",
       "1607                     5       No  \n",
       "1608                     5       No  \n",
       "1609                    10    Elite  \n",
       "1610                    10    Elite  \n",
       "\n",
       "[1611 rows x 14 columns]"
      ]
     },
     "execution_count": 115,
     "metadata": {},
     "output_type": "execute_result"
    }
   ],
   "source": [
    "df_18"
   ]
  },
  {
   "cell_type": "code",
   "execution_count": 116,
   "metadata": {},
   "outputs": [
    {
     "data": {
      "text/plain": [
       "array([ True,  True,  True,  True,  True,  True,  True,  True,  True,\n",
       "        True,  True,  True,  True,  True])"
      ]
     },
     "execution_count": 116,
     "metadata": {},
     "output_type": "execute_result"
    }
   ],
   "source": [
    "df_08.columns == df_18.columns"
   ]
  },
  {
   "cell_type": "markdown",
   "metadata": {},
   "source": [
    "# CHECKPOINT: SAVE EVERYTHING THUS FAR INTO A DATAFRAME"
   ]
  },
  {
   "cell_type": "code",
   "execution_count": 117,
   "metadata": {},
   "outputs": [],
   "source": [
    "df_08.to_csv('./all_alpha_08.V2.csv')\n",
    "df_18.to_csv('./all_alpha_18.V2.csv')"
   ]
  },
  {
   "cell_type": "code",
   "execution_count": 118,
   "metadata": {},
   "outputs": [
    {
     "data": {
      "text/html": [
       "<div>\n",
       "<style scoped>\n",
       "    .dataframe tbody tr th:only-of-type {\n",
       "        vertical-align: middle;\n",
       "    }\n",
       "\n",
       "    .dataframe tbody tr th {\n",
       "        vertical-align: top;\n",
       "    }\n",
       "\n",
       "    .dataframe thead th {\n",
       "        text-align: right;\n",
       "    }\n",
       "</style>\n",
       "<table border=\"1\" class=\"dataframe\">\n",
       "  <thead>\n",
       "    <tr style=\"text-align: right;\">\n",
       "      <th></th>\n",
       "      <th>Model</th>\n",
       "      <th>Displ</th>\n",
       "      <th>Cyl</th>\n",
       "      <th>Trans</th>\n",
       "      <th>Drive</th>\n",
       "      <th>Fuel</th>\n",
       "      <th>Cert_Region</th>\n",
       "      <th>Veh_Class</th>\n",
       "      <th>Air_Pollution_Score</th>\n",
       "      <th>City_MPG</th>\n",
       "      <th>Hwy_MPG</th>\n",
       "      <th>Cmb_MPG</th>\n",
       "      <th>Greenhouse_Gas_Score</th>\n",
       "      <th>SmartWay</th>\n",
       "    </tr>\n",
       "  </thead>\n",
       "  <tbody>\n",
       "    <tr>\n",
       "      <th>0</th>\n",
       "      <td>ACURA MDX</td>\n",
       "      <td>3.7</td>\n",
       "      <td>(6 cyl)</td>\n",
       "      <td>Auto-S5</td>\n",
       "      <td>4WD</td>\n",
       "      <td>Gasoline</td>\n",
       "      <td>CA</td>\n",
       "      <td>SUV</td>\n",
       "      <td>7</td>\n",
       "      <td>15</td>\n",
       "      <td>20</td>\n",
       "      <td>17</td>\n",
       "      <td>4</td>\n",
       "      <td>no</td>\n",
       "    </tr>\n",
       "    <tr>\n",
       "      <th>1</th>\n",
       "      <td>ACURA MDX</td>\n",
       "      <td>3.7</td>\n",
       "      <td>(6 cyl)</td>\n",
       "      <td>Auto-S5</td>\n",
       "      <td>4WD</td>\n",
       "      <td>Gasoline</td>\n",
       "      <td>FA</td>\n",
       "      <td>SUV</td>\n",
       "      <td>6</td>\n",
       "      <td>15</td>\n",
       "      <td>20</td>\n",
       "      <td>17</td>\n",
       "      <td>4</td>\n",
       "      <td>no</td>\n",
       "    </tr>\n",
       "    <tr>\n",
       "      <th>2</th>\n",
       "      <td>ACURA RDX</td>\n",
       "      <td>2.3</td>\n",
       "      <td>(4 cyl)</td>\n",
       "      <td>Auto-S5</td>\n",
       "      <td>4WD</td>\n",
       "      <td>Gasoline</td>\n",
       "      <td>CA</td>\n",
       "      <td>SUV</td>\n",
       "      <td>7</td>\n",
       "      <td>17</td>\n",
       "      <td>22</td>\n",
       "      <td>19</td>\n",
       "      <td>5</td>\n",
       "      <td>no</td>\n",
       "    </tr>\n",
       "    <tr>\n",
       "      <th>3</th>\n",
       "      <td>ACURA RDX</td>\n",
       "      <td>2.3</td>\n",
       "      <td>(4 cyl)</td>\n",
       "      <td>Auto-S5</td>\n",
       "      <td>4WD</td>\n",
       "      <td>Gasoline</td>\n",
       "      <td>FA</td>\n",
       "      <td>SUV</td>\n",
       "      <td>6</td>\n",
       "      <td>17</td>\n",
       "      <td>22</td>\n",
       "      <td>19</td>\n",
       "      <td>5</td>\n",
       "      <td>no</td>\n",
       "    </tr>\n",
       "    <tr>\n",
       "      <th>4</th>\n",
       "      <td>ACURA RL</td>\n",
       "      <td>3.5</td>\n",
       "      <td>(6 cyl)</td>\n",
       "      <td>Auto-S5</td>\n",
       "      <td>4WD</td>\n",
       "      <td>Gasoline</td>\n",
       "      <td>CA</td>\n",
       "      <td>midsize car</td>\n",
       "      <td>7</td>\n",
       "      <td>16</td>\n",
       "      <td>24</td>\n",
       "      <td>19</td>\n",
       "      <td>5</td>\n",
       "      <td>no</td>\n",
       "    </tr>\n",
       "    <tr>\n",
       "      <th>...</th>\n",
       "      <td>...</td>\n",
       "      <td>...</td>\n",
       "      <td>...</td>\n",
       "      <td>...</td>\n",
       "      <td>...</td>\n",
       "      <td>...</td>\n",
       "      <td>...</td>\n",
       "      <td>...</td>\n",
       "      <td>...</td>\n",
       "      <td>...</td>\n",
       "      <td>...</td>\n",
       "      <td>...</td>\n",
       "      <td>...</td>\n",
       "      <td>...</td>\n",
       "    </tr>\n",
       "    <tr>\n",
       "      <th>2399</th>\n",
       "      <td>VOLVO XC 90</td>\n",
       "      <td>3.2</td>\n",
       "      <td>(6 cyl)</td>\n",
       "      <td>Auto-S6</td>\n",
       "      <td>4WD</td>\n",
       "      <td>Gasoline</td>\n",
       "      <td>CA</td>\n",
       "      <td>SUV</td>\n",
       "      <td>7</td>\n",
       "      <td>14</td>\n",
       "      <td>20</td>\n",
       "      <td>16</td>\n",
       "      <td>4</td>\n",
       "      <td>no</td>\n",
       "    </tr>\n",
       "    <tr>\n",
       "      <th>2400</th>\n",
       "      <td>VOLVO XC 90</td>\n",
       "      <td>4.4</td>\n",
       "      <td>(8 cyl)</td>\n",
       "      <td>Auto-S6</td>\n",
       "      <td>4WD</td>\n",
       "      <td>Gasoline</td>\n",
       "      <td>CA</td>\n",
       "      <td>SUV</td>\n",
       "      <td>7</td>\n",
       "      <td>13</td>\n",
       "      <td>19</td>\n",
       "      <td>15</td>\n",
       "      <td>3</td>\n",
       "      <td>no</td>\n",
       "    </tr>\n",
       "    <tr>\n",
       "      <th>2401</th>\n",
       "      <td>VOLVO XC 90</td>\n",
       "      <td>3.2</td>\n",
       "      <td>(6 cyl)</td>\n",
       "      <td>Auto-S6</td>\n",
       "      <td>2WD</td>\n",
       "      <td>Gasoline</td>\n",
       "      <td>FA</td>\n",
       "      <td>SUV</td>\n",
       "      <td>6</td>\n",
       "      <td>14</td>\n",
       "      <td>20</td>\n",
       "      <td>16</td>\n",
       "      <td>4</td>\n",
       "      <td>no</td>\n",
       "    </tr>\n",
       "    <tr>\n",
       "      <th>2402</th>\n",
       "      <td>VOLVO XC 90</td>\n",
       "      <td>3.2</td>\n",
       "      <td>(6 cyl)</td>\n",
       "      <td>Auto-S6</td>\n",
       "      <td>4WD</td>\n",
       "      <td>Gasoline</td>\n",
       "      <td>FA</td>\n",
       "      <td>SUV</td>\n",
       "      <td>6</td>\n",
       "      <td>14</td>\n",
       "      <td>20</td>\n",
       "      <td>16</td>\n",
       "      <td>4</td>\n",
       "      <td>no</td>\n",
       "    </tr>\n",
       "    <tr>\n",
       "      <th>2403</th>\n",
       "      <td>VOLVO XC 90</td>\n",
       "      <td>4.4</td>\n",
       "      <td>(8 cyl)</td>\n",
       "      <td>Auto-S6</td>\n",
       "      <td>4WD</td>\n",
       "      <td>Gasoline</td>\n",
       "      <td>FA</td>\n",
       "      <td>SUV</td>\n",
       "      <td>6</td>\n",
       "      <td>13</td>\n",
       "      <td>19</td>\n",
       "      <td>15</td>\n",
       "      <td>3</td>\n",
       "      <td>no</td>\n",
       "    </tr>\n",
       "  </tbody>\n",
       "</table>\n",
       "<p>2404 rows × 14 columns</p>\n",
       "</div>"
      ],
      "text/plain": [
       "            Model  Displ      Cyl    Trans Drive      Fuel Cert_Region  \\\n",
       "0       ACURA MDX    3.7  (6 cyl)  Auto-S5   4WD  Gasoline          CA   \n",
       "1       ACURA MDX    3.7  (6 cyl)  Auto-S5   4WD  Gasoline          FA   \n",
       "2       ACURA RDX    2.3  (4 cyl)  Auto-S5   4WD  Gasoline          CA   \n",
       "3       ACURA RDX    2.3  (4 cyl)  Auto-S5   4WD  Gasoline          FA   \n",
       "4        ACURA RL    3.5  (6 cyl)  Auto-S5   4WD  Gasoline          CA   \n",
       "...           ...    ...      ...      ...   ...       ...         ...   \n",
       "2399  VOLVO XC 90    3.2  (6 cyl)  Auto-S6   4WD  Gasoline          CA   \n",
       "2400  VOLVO XC 90    4.4  (8 cyl)  Auto-S6   4WD  Gasoline          CA   \n",
       "2401  VOLVO XC 90    3.2  (6 cyl)  Auto-S6   2WD  Gasoline          FA   \n",
       "2402  VOLVO XC 90    3.2  (6 cyl)  Auto-S6   4WD  Gasoline          FA   \n",
       "2403  VOLVO XC 90    4.4  (8 cyl)  Auto-S6   4WD  Gasoline          FA   \n",
       "\n",
       "        Veh_Class Air_Pollution_Score City_MPG Hwy_MPG Cmb_MPG  \\\n",
       "0             SUV                   7       15      20      17   \n",
       "1             SUV                   6       15      20      17   \n",
       "2             SUV                   7       17      22      19   \n",
       "3             SUV                   6       17      22      19   \n",
       "4     midsize car                   7       16      24      19   \n",
       "...           ...                 ...      ...     ...     ...   \n",
       "2399          SUV                   7       14      20      16   \n",
       "2400          SUV                   7       13      19      15   \n",
       "2401          SUV                   6       14      20      16   \n",
       "2402          SUV                   6       14      20      16   \n",
       "2403          SUV                   6       13      19      15   \n",
       "\n",
       "     Greenhouse_Gas_Score SmartWay  \n",
       "0                       4       no  \n",
       "1                       4       no  \n",
       "2                       5       no  \n",
       "3                       5       no  \n",
       "4                       5       no  \n",
       "...                   ...      ...  \n",
       "2399                    4       no  \n",
       "2400                    3       no  \n",
       "2401                    4       no  \n",
       "2402                    4       no  \n",
       "2403                    3       no  \n",
       "\n",
       "[2404 rows x 14 columns]"
      ]
     },
     "execution_count": 118,
     "metadata": {},
     "output_type": "execute_result"
    }
   ],
   "source": [
    "df_08"
   ]
  },
  {
   "cell_type": "markdown",
   "metadata": {},
   "source": [
    "## Only return records with a 'CA' cert_region"
   ]
  },
  {
   "cell_type": "code",
   "execution_count": 119,
   "metadata": {
    "scrolled": true
   },
   "outputs": [
    {
     "data": {
      "text/plain": [
       "FA    1157\n",
       "CA    1084\n",
       "FC     163\n",
       "Name: Cert_Region, dtype: int64"
      ]
     },
     "execution_count": 119,
     "metadata": {},
     "output_type": "execute_result"
    }
   ],
   "source": [
    "df_08.Cert_Region.value_counts()"
   ]
  },
  {
   "cell_type": "code",
   "execution_count": 120,
   "metadata": {
    "scrolled": true
   },
   "outputs": [
    {
     "data": {
      "text/plain": [
       "FA    813\n",
       "CA    798\n",
       "Name: Cert_Region, dtype: int64"
      ]
     },
     "execution_count": 120,
     "metadata": {},
     "output_type": "execute_result"
    }
   ],
   "source": [
    "df_18.Cert_Region.value_counts()"
   ]
  },
  {
   "cell_type": "code",
   "execution_count": 121,
   "metadata": {},
   "outputs": [],
   "source": [
    "df_08_CA = df_08.query('Cert_Region == \"CA\"')"
   ]
  },
  {
   "cell_type": "code",
   "execution_count": 122,
   "metadata": {},
   "outputs": [],
   "source": [
    "df_18_CA = df_18.query('Cert_Region == \"CA\"')"
   ]
  },
  {
   "cell_type": "code",
   "execution_count": 123,
   "metadata": {
    "scrolled": true
   },
   "outputs": [
    {
     "data": {
      "text/plain": [
       "CA    1084\n",
       "Name: Cert_Region, dtype: int64"
      ]
     },
     "execution_count": 123,
     "metadata": {},
     "output_type": "execute_result"
    }
   ],
   "source": [
    "df_08_CA.Cert_Region.value_counts()"
   ]
  },
  {
   "cell_type": "code",
   "execution_count": 124,
   "metadata": {},
   "outputs": [
    {
     "data": {
      "text/plain": [
       "CA    798\n",
       "Name: Cert_Region, dtype: int64"
      ]
     },
     "execution_count": 124,
     "metadata": {},
     "output_type": "execute_result"
    }
   ],
   "source": [
    "df_18_CA.Cert_Region.value_counts()"
   ]
  },
  {
   "cell_type": "markdown",
   "metadata": {},
   "source": [
    "## Drop 'cert_region' column from each df, since our 'cert_region' is implied"
   ]
  },
  {
   "cell_type": "code",
   "execution_count": 125,
   "metadata": {},
   "outputs": [],
   "source": [
    "df_08.drop(columns=['Cert_Region'], axis=1, inplace=True)"
   ]
  },
  {
   "cell_type": "code",
   "execution_count": 126,
   "metadata": {
    "scrolled": true
   },
   "outputs": [
    {
     "data": {
      "text/html": [
       "<div>\n",
       "<style scoped>\n",
       "    .dataframe tbody tr th:only-of-type {\n",
       "        vertical-align: middle;\n",
       "    }\n",
       "\n",
       "    .dataframe tbody tr th {\n",
       "        vertical-align: top;\n",
       "    }\n",
       "\n",
       "    .dataframe thead th {\n",
       "        text-align: right;\n",
       "    }\n",
       "</style>\n",
       "<table border=\"1\" class=\"dataframe\">\n",
       "  <thead>\n",
       "    <tr style=\"text-align: right;\">\n",
       "      <th></th>\n",
       "      <th>Model</th>\n",
       "      <th>Displ</th>\n",
       "      <th>Cyl</th>\n",
       "      <th>Trans</th>\n",
       "      <th>Drive</th>\n",
       "      <th>Fuel</th>\n",
       "      <th>Veh_Class</th>\n",
       "      <th>Air_Pollution_Score</th>\n",
       "      <th>City_MPG</th>\n",
       "      <th>Hwy_MPG</th>\n",
       "      <th>Cmb_MPG</th>\n",
       "      <th>Greenhouse_Gas_Score</th>\n",
       "      <th>SmartWay</th>\n",
       "    </tr>\n",
       "  </thead>\n",
       "  <tbody>\n",
       "    <tr>\n",
       "      <th>0</th>\n",
       "      <td>ACURA MDX</td>\n",
       "      <td>3.7</td>\n",
       "      <td>(6 cyl)</td>\n",
       "      <td>Auto-S5</td>\n",
       "      <td>4WD</td>\n",
       "      <td>Gasoline</td>\n",
       "      <td>SUV</td>\n",
       "      <td>7</td>\n",
       "      <td>15</td>\n",
       "      <td>20</td>\n",
       "      <td>17</td>\n",
       "      <td>4</td>\n",
       "      <td>no</td>\n",
       "    </tr>\n",
       "    <tr>\n",
       "      <th>1</th>\n",
       "      <td>ACURA MDX</td>\n",
       "      <td>3.7</td>\n",
       "      <td>(6 cyl)</td>\n",
       "      <td>Auto-S5</td>\n",
       "      <td>4WD</td>\n",
       "      <td>Gasoline</td>\n",
       "      <td>SUV</td>\n",
       "      <td>6</td>\n",
       "      <td>15</td>\n",
       "      <td>20</td>\n",
       "      <td>17</td>\n",
       "      <td>4</td>\n",
       "      <td>no</td>\n",
       "    </tr>\n",
       "    <tr>\n",
       "      <th>2</th>\n",
       "      <td>ACURA RDX</td>\n",
       "      <td>2.3</td>\n",
       "      <td>(4 cyl)</td>\n",
       "      <td>Auto-S5</td>\n",
       "      <td>4WD</td>\n",
       "      <td>Gasoline</td>\n",
       "      <td>SUV</td>\n",
       "      <td>7</td>\n",
       "      <td>17</td>\n",
       "      <td>22</td>\n",
       "      <td>19</td>\n",
       "      <td>5</td>\n",
       "      <td>no</td>\n",
       "    </tr>\n",
       "    <tr>\n",
       "      <th>3</th>\n",
       "      <td>ACURA RDX</td>\n",
       "      <td>2.3</td>\n",
       "      <td>(4 cyl)</td>\n",
       "      <td>Auto-S5</td>\n",
       "      <td>4WD</td>\n",
       "      <td>Gasoline</td>\n",
       "      <td>SUV</td>\n",
       "      <td>6</td>\n",
       "      <td>17</td>\n",
       "      <td>22</td>\n",
       "      <td>19</td>\n",
       "      <td>5</td>\n",
       "      <td>no</td>\n",
       "    </tr>\n",
       "    <tr>\n",
       "      <th>4</th>\n",
       "      <td>ACURA RL</td>\n",
       "      <td>3.5</td>\n",
       "      <td>(6 cyl)</td>\n",
       "      <td>Auto-S5</td>\n",
       "      <td>4WD</td>\n",
       "      <td>Gasoline</td>\n",
       "      <td>midsize car</td>\n",
       "      <td>7</td>\n",
       "      <td>16</td>\n",
       "      <td>24</td>\n",
       "      <td>19</td>\n",
       "      <td>5</td>\n",
       "      <td>no</td>\n",
       "    </tr>\n",
       "  </tbody>\n",
       "</table>\n",
       "</div>"
      ],
      "text/plain": [
       "       Model  Displ      Cyl    Trans Drive      Fuel    Veh_Class  \\\n",
       "0  ACURA MDX    3.7  (6 cyl)  Auto-S5   4WD  Gasoline          SUV   \n",
       "1  ACURA MDX    3.7  (6 cyl)  Auto-S5   4WD  Gasoline          SUV   \n",
       "2  ACURA RDX    2.3  (4 cyl)  Auto-S5   4WD  Gasoline          SUV   \n",
       "3  ACURA RDX    2.3  (4 cyl)  Auto-S5   4WD  Gasoline          SUV   \n",
       "4   ACURA RL    3.5  (6 cyl)  Auto-S5   4WD  Gasoline  midsize car   \n",
       "\n",
       "  Air_Pollution_Score City_MPG Hwy_MPG Cmb_MPG Greenhouse_Gas_Score SmartWay  \n",
       "0                   7       15      20      17                    4       no  \n",
       "1                   6       15      20      17                    4       no  \n",
       "2                   7       17      22      19                    5       no  \n",
       "3                   6       17      22      19                    5       no  \n",
       "4                   7       16      24      19                    5       no  "
      ]
     },
     "execution_count": 126,
     "metadata": {},
     "output_type": "execute_result"
    }
   ],
   "source": [
    "df_08.head()"
   ]
  },
  {
   "cell_type": "code",
   "execution_count": 127,
   "metadata": {},
   "outputs": [],
   "source": [
    "df_18.drop(columns=['Cert_Region'], axis=1, inplace=True)"
   ]
  },
  {
   "cell_type": "code",
   "execution_count": 128,
   "metadata": {},
   "outputs": [
    {
     "data": {
      "text/html": [
       "<div>\n",
       "<style scoped>\n",
       "    .dataframe tbody tr th:only-of-type {\n",
       "        vertical-align: middle;\n",
       "    }\n",
       "\n",
       "    .dataframe tbody tr th {\n",
       "        vertical-align: top;\n",
       "    }\n",
       "\n",
       "    .dataframe thead th {\n",
       "        text-align: right;\n",
       "    }\n",
       "</style>\n",
       "<table border=\"1\" class=\"dataframe\">\n",
       "  <thead>\n",
       "    <tr style=\"text-align: right;\">\n",
       "      <th></th>\n",
       "      <th>Model</th>\n",
       "      <th>Displ</th>\n",
       "      <th>Cyl</th>\n",
       "      <th>Trans</th>\n",
       "      <th>Drive</th>\n",
       "      <th>Fuel</th>\n",
       "      <th>Veh_Class</th>\n",
       "      <th>Air_Pollution_Score</th>\n",
       "      <th>City_MPG</th>\n",
       "      <th>Hwy_MPG</th>\n",
       "      <th>Cmb_MPG</th>\n",
       "      <th>Greenhouse_Gas_Score</th>\n",
       "      <th>SmartWay</th>\n",
       "    </tr>\n",
       "  </thead>\n",
       "  <tbody>\n",
       "    <tr>\n",
       "      <th>0</th>\n",
       "      <td>ACURA RDX</td>\n",
       "      <td>3.5</td>\n",
       "      <td>6.0</td>\n",
       "      <td>SemiAuto-6</td>\n",
       "      <td>2WD</td>\n",
       "      <td>Gasoline</td>\n",
       "      <td>small SUV</td>\n",
       "      <td>3</td>\n",
       "      <td>20</td>\n",
       "      <td>28</td>\n",
       "      <td>23</td>\n",
       "      <td>5</td>\n",
       "      <td>No</td>\n",
       "    </tr>\n",
       "    <tr>\n",
       "      <th>1</th>\n",
       "      <td>ACURA RDX</td>\n",
       "      <td>3.5</td>\n",
       "      <td>6.0</td>\n",
       "      <td>SemiAuto-6</td>\n",
       "      <td>2WD</td>\n",
       "      <td>Gasoline</td>\n",
       "      <td>small SUV</td>\n",
       "      <td>3</td>\n",
       "      <td>20</td>\n",
       "      <td>28</td>\n",
       "      <td>23</td>\n",
       "      <td>5</td>\n",
       "      <td>No</td>\n",
       "    </tr>\n",
       "    <tr>\n",
       "      <th>2</th>\n",
       "      <td>ACURA RDX</td>\n",
       "      <td>3.5</td>\n",
       "      <td>6.0</td>\n",
       "      <td>SemiAuto-6</td>\n",
       "      <td>4WD</td>\n",
       "      <td>Gasoline</td>\n",
       "      <td>small SUV</td>\n",
       "      <td>3</td>\n",
       "      <td>19</td>\n",
       "      <td>27</td>\n",
       "      <td>22</td>\n",
       "      <td>4</td>\n",
       "      <td>No</td>\n",
       "    </tr>\n",
       "    <tr>\n",
       "      <th>3</th>\n",
       "      <td>ACURA RDX</td>\n",
       "      <td>3.5</td>\n",
       "      <td>6.0</td>\n",
       "      <td>SemiAuto-6</td>\n",
       "      <td>4WD</td>\n",
       "      <td>Gasoline</td>\n",
       "      <td>small SUV</td>\n",
       "      <td>3</td>\n",
       "      <td>19</td>\n",
       "      <td>27</td>\n",
       "      <td>22</td>\n",
       "      <td>4</td>\n",
       "      <td>No</td>\n",
       "    </tr>\n",
       "    <tr>\n",
       "      <th>4</th>\n",
       "      <td>ACURA TLX</td>\n",
       "      <td>2.4</td>\n",
       "      <td>4.0</td>\n",
       "      <td>AMS-8</td>\n",
       "      <td>2WD</td>\n",
       "      <td>Gasoline</td>\n",
       "      <td>small car</td>\n",
       "      <td>3</td>\n",
       "      <td>23</td>\n",
       "      <td>33</td>\n",
       "      <td>27</td>\n",
       "      <td>6</td>\n",
       "      <td>No</td>\n",
       "    </tr>\n",
       "  </tbody>\n",
       "</table>\n",
       "</div>"
      ],
      "text/plain": [
       "       Model  Displ  Cyl       Trans Drive      Fuel  Veh_Class  \\\n",
       "0  ACURA RDX    3.5  6.0  SemiAuto-6   2WD  Gasoline  small SUV   \n",
       "1  ACURA RDX    3.5  6.0  SemiAuto-6   2WD  Gasoline  small SUV   \n",
       "2  ACURA RDX    3.5  6.0  SemiAuto-6   4WD  Gasoline  small SUV   \n",
       "3  ACURA RDX    3.5  6.0  SemiAuto-6   4WD  Gasoline  small SUV   \n",
       "4  ACURA TLX    2.4  4.0       AMS-8   2WD  Gasoline  small car   \n",
       "\n",
       "   Air_Pollution_Score City_MPG Hwy_MPG Cmb_MPG  Greenhouse_Gas_Score SmartWay  \n",
       "0                    3       20      28      23                     5       No  \n",
       "1                    3       20      28      23                     5       No  \n",
       "2                    3       19      27      22                     4       No  \n",
       "3                    3       19      27      22                     4       No  \n",
       "4                    3       23      33      27                     6       No  "
      ]
     },
     "execution_count": 128,
     "metadata": {},
     "output_type": "execute_result"
    }
   ],
   "source": [
    "df_18.head()"
   ]
  },
  {
   "cell_type": "markdown",
   "metadata": {},
   "source": [
    "## Drop records with missing values"
   ]
  },
  {
   "cell_type": "code",
   "execution_count": 129,
   "metadata": {
    "scrolled": true
   },
   "outputs": [],
   "source": [
    "x = df_18.query(f'Air_Pollution_Score == {df_18.Air_Pollution_Score.max()}').fillna(value=0)"
   ]
  },
  {
   "cell_type": "code",
   "execution_count": 130,
   "metadata": {},
   "outputs": [],
   "source": [
    "df_18 = df_18.append(x)"
   ]
  },
  {
   "cell_type": "code",
   "execution_count": 131,
   "metadata": {
    "scrolled": false
   },
   "outputs": [
    {
     "data": {
      "text/html": [
       "<div>\n",
       "<style scoped>\n",
       "    .dataframe tbody tr th:only-of-type {\n",
       "        vertical-align: middle;\n",
       "    }\n",
       "\n",
       "    .dataframe tbody tr th {\n",
       "        vertical-align: top;\n",
       "    }\n",
       "\n",
       "    .dataframe thead th {\n",
       "        text-align: right;\n",
       "    }\n",
       "</style>\n",
       "<table border=\"1\" class=\"dataframe\">\n",
       "  <thead>\n",
       "    <tr style=\"text-align: right;\">\n",
       "      <th></th>\n",
       "      <th>Model</th>\n",
       "      <th>Displ</th>\n",
       "      <th>Cyl</th>\n",
       "      <th>Trans</th>\n",
       "      <th>Drive</th>\n",
       "      <th>Fuel</th>\n",
       "      <th>Veh_Class</th>\n",
       "      <th>Air_Pollution_Score</th>\n",
       "      <th>City_MPG</th>\n",
       "      <th>Hwy_MPG</th>\n",
       "      <th>Cmb_MPG</th>\n",
       "      <th>Greenhouse_Gas_Score</th>\n",
       "      <th>SmartWay</th>\n",
       "    </tr>\n",
       "  </thead>\n",
       "  <tbody>\n",
       "    <tr>\n",
       "      <th>996</th>\n",
       "      <td>KIA Soul Electric</td>\n",
       "      <td>NaN</td>\n",
       "      <td>NaN</td>\n",
       "      <td>Auto-1</td>\n",
       "      <td>2WD</td>\n",
       "      <td>Electricity</td>\n",
       "      <td>station wagon</td>\n",
       "      <td>10</td>\n",
       "      <td>124</td>\n",
       "      <td>93</td>\n",
       "      <td>108</td>\n",
       "      <td>10</td>\n",
       "      <td>Elite</td>\n",
       "    </tr>\n",
       "    <tr>\n",
       "      <th>997</th>\n",
       "      <td>KIA Soul Electric</td>\n",
       "      <td>NaN</td>\n",
       "      <td>NaN</td>\n",
       "      <td>Auto-1</td>\n",
       "      <td>2WD</td>\n",
       "      <td>Electricity</td>\n",
       "      <td>station wagon</td>\n",
       "      <td>10</td>\n",
       "      <td>124</td>\n",
       "      <td>93</td>\n",
       "      <td>108</td>\n",
       "      <td>10</td>\n",
       "      <td>Elite</td>\n",
       "    </tr>\n",
       "    <tr>\n",
       "      <th>996</th>\n",
       "      <td>KIA Soul Electric</td>\n",
       "      <td>0.0</td>\n",
       "      <td>0.0</td>\n",
       "      <td>Auto-1</td>\n",
       "      <td>2WD</td>\n",
       "      <td>Electricity</td>\n",
       "      <td>station wagon</td>\n",
       "      <td>10</td>\n",
       "      <td>124</td>\n",
       "      <td>93</td>\n",
       "      <td>108</td>\n",
       "      <td>10</td>\n",
       "      <td>Elite</td>\n",
       "    </tr>\n",
       "    <tr>\n",
       "      <th>997</th>\n",
       "      <td>KIA Soul Electric</td>\n",
       "      <td>0.0</td>\n",
       "      <td>0.0</td>\n",
       "      <td>Auto-1</td>\n",
       "      <td>2WD</td>\n",
       "      <td>Electricity</td>\n",
       "      <td>station wagon</td>\n",
       "      <td>10</td>\n",
       "      <td>124</td>\n",
       "      <td>93</td>\n",
       "      <td>108</td>\n",
       "      <td>10</td>\n",
       "      <td>Elite</td>\n",
       "    </tr>\n",
       "  </tbody>\n",
       "</table>\n",
       "</div>"
      ],
      "text/plain": [
       "                 Model  Displ  Cyl   Trans Drive         Fuel      Veh_Class  \\\n",
       "996  KIA Soul Electric    NaN  NaN  Auto-1   2WD  Electricity  station wagon   \n",
       "997  KIA Soul Electric    NaN  NaN  Auto-1   2WD  Electricity  station wagon   \n",
       "996  KIA Soul Electric    0.0  0.0  Auto-1   2WD  Electricity  station wagon   \n",
       "997  KIA Soul Electric    0.0  0.0  Auto-1   2WD  Electricity  station wagon   \n",
       "\n",
       "     Air_Pollution_Score City_MPG Hwy_MPG Cmb_MPG  Greenhouse_Gas_Score  \\\n",
       "996                   10      124      93     108                    10   \n",
       "997                   10      124      93     108                    10   \n",
       "996                   10      124      93     108                    10   \n",
       "997                   10      124      93     108                    10   \n",
       "\n",
       "    SmartWay  \n",
       "996    Elite  \n",
       "997    Elite  \n",
       "996    Elite  \n",
       "997    Elite  "
      ]
     },
     "execution_count": 131,
     "metadata": {},
     "output_type": "execute_result"
    }
   ],
   "source": [
    "df_18.query(f'Air_Pollution_Score == {df_18.Air_Pollution_Score.max()}')"
   ]
  },
  {
   "cell_type": "code",
   "execution_count": 132,
   "metadata": {},
   "outputs": [],
   "source": [
    "df_08.dropna(inplace=True)\n",
    "df_18.dropna(inplace=True)"
   ]
  },
  {
   "cell_type": "code",
   "execution_count": 133,
   "metadata": {
    "scrolled": true
   },
   "outputs": [
    {
     "data": {
      "text/html": [
       "<div>\n",
       "<style scoped>\n",
       "    .dataframe tbody tr th:only-of-type {\n",
       "        vertical-align: middle;\n",
       "    }\n",
       "\n",
       "    .dataframe tbody tr th {\n",
       "        vertical-align: top;\n",
       "    }\n",
       "\n",
       "    .dataframe thead th {\n",
       "        text-align: right;\n",
       "    }\n",
       "</style>\n",
       "<table border=\"1\" class=\"dataframe\">\n",
       "  <thead>\n",
       "    <tr style=\"text-align: right;\">\n",
       "      <th></th>\n",
       "      <th>Model</th>\n",
       "      <th>Displ</th>\n",
       "      <th>Cyl</th>\n",
       "      <th>Trans</th>\n",
       "      <th>Drive</th>\n",
       "      <th>Fuel</th>\n",
       "      <th>Veh_Class</th>\n",
       "      <th>Air_Pollution_Score</th>\n",
       "      <th>City_MPG</th>\n",
       "      <th>Hwy_MPG</th>\n",
       "      <th>Cmb_MPG</th>\n",
       "      <th>Greenhouse_Gas_Score</th>\n",
       "      <th>SmartWay</th>\n",
       "    </tr>\n",
       "  </thead>\n",
       "  <tbody>\n",
       "    <tr>\n",
       "      <th>996</th>\n",
       "      <td>KIA Soul Electric</td>\n",
       "      <td>0.0</td>\n",
       "      <td>0.0</td>\n",
       "      <td>Auto-1</td>\n",
       "      <td>2WD</td>\n",
       "      <td>Electricity</td>\n",
       "      <td>station wagon</td>\n",
       "      <td>10</td>\n",
       "      <td>124</td>\n",
       "      <td>93</td>\n",
       "      <td>108</td>\n",
       "      <td>10</td>\n",
       "      <td>Elite</td>\n",
       "    </tr>\n",
       "    <tr>\n",
       "      <th>997</th>\n",
       "      <td>KIA Soul Electric</td>\n",
       "      <td>0.0</td>\n",
       "      <td>0.0</td>\n",
       "      <td>Auto-1</td>\n",
       "      <td>2WD</td>\n",
       "      <td>Electricity</td>\n",
       "      <td>station wagon</td>\n",
       "      <td>10</td>\n",
       "      <td>124</td>\n",
       "      <td>93</td>\n",
       "      <td>108</td>\n",
       "      <td>10</td>\n",
       "      <td>Elite</td>\n",
       "    </tr>\n",
       "  </tbody>\n",
       "</table>\n",
       "</div>"
      ],
      "text/plain": [
       "                 Model  Displ  Cyl   Trans Drive         Fuel      Veh_Class  \\\n",
       "996  KIA Soul Electric    0.0  0.0  Auto-1   2WD  Electricity  station wagon   \n",
       "997  KIA Soul Electric    0.0  0.0  Auto-1   2WD  Electricity  station wagon   \n",
       "\n",
       "     Air_Pollution_Score City_MPG Hwy_MPG Cmb_MPG  Greenhouse_Gas_Score  \\\n",
       "996                   10      124      93     108                    10   \n",
       "997                   10      124      93     108                    10   \n",
       "\n",
       "    SmartWay  \n",
       "996    Elite  \n",
       "997    Elite  "
      ]
     },
     "execution_count": 133,
     "metadata": {},
     "output_type": "execute_result"
    }
   ],
   "source": [
    "df_18.query(f'Air_Pollution_Score == {df_18.Air_Pollution_Score.max()}')"
   ]
  },
  {
   "cell_type": "code",
   "execution_count": 134,
   "metadata": {},
   "outputs": [],
   "source": [
    "df_08.drop_duplicates(inplace=True)\n",
    "df_18.drop_duplicates(inplace=True)"
   ]
  },
  {
   "cell_type": "code",
   "execution_count": 135,
   "metadata": {},
   "outputs": [
    {
     "data": {
      "text/plain": [
       "0"
      ]
     },
     "execution_count": 135,
     "metadata": {},
     "output_type": "execute_result"
    }
   ],
   "source": [
    "df_08.duplicated().sum()"
   ]
  },
  {
   "cell_type": "code",
   "execution_count": 136,
   "metadata": {},
   "outputs": [
    {
     "data": {
      "text/plain": [
       "0"
      ]
     },
     "execution_count": 136,
     "metadata": {},
     "output_type": "execute_result"
    }
   ],
   "source": [
    "df_18.duplicated().sum()"
   ]
  },
  {
   "cell_type": "markdown",
   "metadata": {},
   "source": [
    "# CHECKPOINT: SAVE EVERYTHING TO .CSV"
   ]
  },
  {
   "cell_type": "code",
   "execution_count": 137,
   "metadata": {},
   "outputs": [],
   "source": [
    "df_08.to_csv('df_08_v3.csv', index=False)\n",
    "df_18.to_csv('df_18_v3.csv', index=False)"
   ]
  },
  {
   "cell_type": "code",
   "execution_count": 138,
   "metadata": {},
   "outputs": [],
   "source": [
    "df_08 = pd.read_csv('df_08_v3.csv')\n",
    "df_18 = pd.read_csv('df_18_v3.csv')"
   ]
  },
  {
   "cell_type": "code",
   "execution_count": 139,
   "metadata": {},
   "outputs": [
    {
     "data": {
      "text/html": [
       "<div>\n",
       "<style scoped>\n",
       "    .dataframe tbody tr th:only-of-type {\n",
       "        vertical-align: middle;\n",
       "    }\n",
       "\n",
       "    .dataframe tbody tr th {\n",
       "        vertical-align: top;\n",
       "    }\n",
       "\n",
       "    .dataframe thead th {\n",
       "        text-align: right;\n",
       "    }\n",
       "</style>\n",
       "<table border=\"1\" class=\"dataframe\">\n",
       "  <thead>\n",
       "    <tr style=\"text-align: right;\">\n",
       "      <th></th>\n",
       "      <th>Model</th>\n",
       "      <th>Displ</th>\n",
       "      <th>Cyl</th>\n",
       "      <th>Trans</th>\n",
       "      <th>Drive</th>\n",
       "      <th>Fuel</th>\n",
       "      <th>Veh_Class</th>\n",
       "      <th>Air_Pollution_Score</th>\n",
       "      <th>City_MPG</th>\n",
       "      <th>Hwy_MPG</th>\n",
       "      <th>Cmb_MPG</th>\n",
       "      <th>Greenhouse_Gas_Score</th>\n",
       "      <th>SmartWay</th>\n",
       "    </tr>\n",
       "  </thead>\n",
       "  <tbody>\n",
       "    <tr>\n",
       "      <th>0</th>\n",
       "      <td>ACURA MDX</td>\n",
       "      <td>3.7</td>\n",
       "      <td>(6 cyl)</td>\n",
       "      <td>Auto-S5</td>\n",
       "      <td>4WD</td>\n",
       "      <td>Gasoline</td>\n",
       "      <td>SUV</td>\n",
       "      <td>7</td>\n",
       "      <td>15</td>\n",
       "      <td>20</td>\n",
       "      <td>17</td>\n",
       "      <td>4</td>\n",
       "      <td>no</td>\n",
       "    </tr>\n",
       "    <tr>\n",
       "      <th>1</th>\n",
       "      <td>ACURA MDX</td>\n",
       "      <td>3.7</td>\n",
       "      <td>(6 cyl)</td>\n",
       "      <td>Auto-S5</td>\n",
       "      <td>4WD</td>\n",
       "      <td>Gasoline</td>\n",
       "      <td>SUV</td>\n",
       "      <td>6</td>\n",
       "      <td>15</td>\n",
       "      <td>20</td>\n",
       "      <td>17</td>\n",
       "      <td>4</td>\n",
       "      <td>no</td>\n",
       "    </tr>\n",
       "    <tr>\n",
       "      <th>2</th>\n",
       "      <td>ACURA RDX</td>\n",
       "      <td>2.3</td>\n",
       "      <td>(4 cyl)</td>\n",
       "      <td>Auto-S5</td>\n",
       "      <td>4WD</td>\n",
       "      <td>Gasoline</td>\n",
       "      <td>SUV</td>\n",
       "      <td>7</td>\n",
       "      <td>17</td>\n",
       "      <td>22</td>\n",
       "      <td>19</td>\n",
       "      <td>5</td>\n",
       "      <td>no</td>\n",
       "    </tr>\n",
       "    <tr>\n",
       "      <th>3</th>\n",
       "      <td>ACURA RDX</td>\n",
       "      <td>2.3</td>\n",
       "      <td>(4 cyl)</td>\n",
       "      <td>Auto-S5</td>\n",
       "      <td>4WD</td>\n",
       "      <td>Gasoline</td>\n",
       "      <td>SUV</td>\n",
       "      <td>6</td>\n",
       "      <td>17</td>\n",
       "      <td>22</td>\n",
       "      <td>19</td>\n",
       "      <td>5</td>\n",
       "      <td>no</td>\n",
       "    </tr>\n",
       "    <tr>\n",
       "      <th>4</th>\n",
       "      <td>ACURA RL</td>\n",
       "      <td>3.5</td>\n",
       "      <td>(6 cyl)</td>\n",
       "      <td>Auto-S5</td>\n",
       "      <td>4WD</td>\n",
       "      <td>Gasoline</td>\n",
       "      <td>midsize car</td>\n",
       "      <td>7</td>\n",
       "      <td>16</td>\n",
       "      <td>24</td>\n",
       "      <td>19</td>\n",
       "      <td>5</td>\n",
       "      <td>no</td>\n",
       "    </tr>\n",
       "  </tbody>\n",
       "</table>\n",
       "</div>"
      ],
      "text/plain": [
       "       Model  Displ      Cyl    Trans Drive      Fuel    Veh_Class  \\\n",
       "0  ACURA MDX    3.7  (6 cyl)  Auto-S5   4WD  Gasoline          SUV   \n",
       "1  ACURA MDX    3.7  (6 cyl)  Auto-S5   4WD  Gasoline          SUV   \n",
       "2  ACURA RDX    2.3  (4 cyl)  Auto-S5   4WD  Gasoline          SUV   \n",
       "3  ACURA RDX    2.3  (4 cyl)  Auto-S5   4WD  Gasoline          SUV   \n",
       "4   ACURA RL    3.5  (6 cyl)  Auto-S5   4WD  Gasoline  midsize car   \n",
       "\n",
       "  Air_Pollution_Score City_MPG Hwy_MPG Cmb_MPG Greenhouse_Gas_Score SmartWay  \n",
       "0                   7       15      20      17                    4       no  \n",
       "1                   6       15      20      17                    4       no  \n",
       "2                   7       17      22      19                    5       no  \n",
       "3                   6       17      22      19                    5       no  \n",
       "4                   7       16      24      19                    5       no  "
      ]
     },
     "execution_count": 139,
     "metadata": {},
     "output_type": "execute_result"
    }
   ],
   "source": [
    "df_08.head()"
   ]
  },
  {
   "cell_type": "markdown",
   "metadata": {},
   "source": [
    "## Fix all datatypes"
   ]
  },
  {
   "cell_type": "code",
   "execution_count": 140,
   "metadata": {
    "scrolled": true
   },
   "outputs": [
    {
     "data": {
      "text/plain": [
       "Model                    object\n",
       "Displ                   float64\n",
       "Cyl                      object\n",
       "Trans                    object\n",
       "Drive                    object\n",
       "Fuel                     object\n",
       "Veh_Class                object\n",
       "Air_Pollution_Score      object\n",
       "City_MPG                 object\n",
       "Hwy_MPG                  object\n",
       "Cmb_MPG                  object\n",
       "Greenhouse_Gas_Score     object\n",
       "SmartWay                 object\n",
       "dtype: object"
      ]
     },
     "execution_count": 140,
     "metadata": {},
     "output_type": "execute_result"
    }
   ],
   "source": [
    "df_08.dtypes"
   ]
  },
  {
   "cell_type": "code",
   "execution_count": 141,
   "metadata": {
    "scrolled": true
   },
   "outputs": [
    {
     "data": {
      "text/plain": [
       "Model                    object\n",
       "Displ                   float64\n",
       "Cyl                     float64\n",
       "Trans                    object\n",
       "Drive                    object\n",
       "Fuel                     object\n",
       "Veh_Class                object\n",
       "Air_Pollution_Score       int64\n",
       "City_MPG                 object\n",
       "Hwy_MPG                  object\n",
       "Cmb_MPG                  object\n",
       "Greenhouse_Gas_Score      int64\n",
       "SmartWay                 object\n",
       "dtype: object"
      ]
     },
     "execution_count": 141,
     "metadata": {},
     "output_type": "execute_result"
    }
   ],
   "source": [
    "df_18.dtypes"
   ]
  },
  {
   "cell_type": "code",
   "execution_count": 142,
   "metadata": {
    "scrolled": true
   },
   "outputs": [
    {
     "data": {
      "text/plain": [
       "(6 cyl)     646\n",
       "(4 cyl)     455\n",
       "(8 cyl)     392\n",
       "(5 cyl)     109\n",
       "(12 cyl)     30\n",
       "(10 cyl)     15\n",
       "(2 cyl)       2\n",
       "(16 cyl)      1\n",
       "Name: Cyl, dtype: int64"
      ]
     },
     "execution_count": 142,
     "metadata": {},
     "output_type": "execute_result"
    }
   ],
   "source": [
    "df_08.Cyl.value_counts()"
   ]
  },
  {
   "cell_type": "code",
   "execution_count": 143,
   "metadata": {
    "scrolled": true
   },
   "outputs": [
    {
     "data": {
      "text/plain": [
       "4.0     384\n",
       "6.0     259\n",
       "8.0     159\n",
       "3.0      18\n",
       "12.0      9\n",
       "5.0       2\n",
       "0.0       1\n",
       "16.0      1\n",
       "Name: Cyl, dtype: int64"
      ]
     },
     "execution_count": 143,
     "metadata": {},
     "output_type": "execute_result"
    }
   ],
   "source": [
    "df_18.Cyl.value_counts()"
   ]
  },
  {
   "cell_type": "code",
   "execution_count": 144,
   "metadata": {
    "scrolled": true
   },
   "outputs": [
    {
     "data": {
      "text/plain": [
       "6     646\n",
       "4     455\n",
       "8     392\n",
       "5     109\n",
       "12     30\n",
       "10     15\n",
       "2       2\n",
       "16      1\n",
       "Name: Cyl, dtype: int64"
      ]
     },
     "execution_count": 144,
     "metadata": {},
     "output_type": "execute_result"
    }
   ],
   "source": [
    "df_08.Cyl = df_08.Cyl.str.extract('(\\d+)').astype(int)\n",
    "df_08.Cyl.value_counts()"
   ]
  },
  {
   "cell_type": "code",
   "execution_count": 145,
   "metadata": {},
   "outputs": [
    {
     "data": {
      "text/plain": [
       "4     384\n",
       "6     259\n",
       "8     159\n",
       "3      18\n",
       "12      9\n",
       "5       2\n",
       "16      1\n",
       "0       1\n",
       "Name: Cyl, dtype: int64"
      ]
     },
     "execution_count": 145,
     "metadata": {},
     "output_type": "execute_result"
    }
   ],
   "source": [
    "df_18.Cyl = df_18.Cyl.astype(int)\n",
    "df_18.Cyl.value_counts()"
   ]
  },
  {
   "cell_type": "markdown",
   "metadata": {},
   "source": [
    "# CHECKPOINT: SAVE EVERYTHING TO .CSV"
   ]
  },
  {
   "cell_type": "code",
   "execution_count": 146,
   "metadata": {},
   "outputs": [],
   "source": [
    "df_08.to_csv('df_08_v4.csv', index=False)\n",
    "df_18.to_csv('df_18_v4.csv', index=False)"
   ]
  },
  {
   "cell_type": "code",
   "execution_count": 147,
   "metadata": {},
   "outputs": [],
   "source": [
    "df_08 = pd.read_csv('df_08_v4.csv')\n",
    "df_18 = pd.read_csv('df_18_v4.csv')"
   ]
  },
  {
   "cell_type": "code",
   "execution_count": 148,
   "metadata": {},
   "outputs": [
    {
     "data": {
      "text/html": [
       "<div>\n",
       "<style scoped>\n",
       "    .dataframe tbody tr th:only-of-type {\n",
       "        vertical-align: middle;\n",
       "    }\n",
       "\n",
       "    .dataframe tbody tr th {\n",
       "        vertical-align: top;\n",
       "    }\n",
       "\n",
       "    .dataframe thead th {\n",
       "        text-align: right;\n",
       "    }\n",
       "</style>\n",
       "<table border=\"1\" class=\"dataframe\">\n",
       "  <thead>\n",
       "    <tr style=\"text-align: right;\">\n",
       "      <th></th>\n",
       "      <th>Model</th>\n",
       "      <th>Displ</th>\n",
       "      <th>Cyl</th>\n",
       "      <th>Trans</th>\n",
       "      <th>Drive</th>\n",
       "      <th>Fuel</th>\n",
       "      <th>Veh_Class</th>\n",
       "      <th>Air_Pollution_Score</th>\n",
       "      <th>City_MPG</th>\n",
       "      <th>Hwy_MPG</th>\n",
       "      <th>Cmb_MPG</th>\n",
       "      <th>Greenhouse_Gas_Score</th>\n",
       "      <th>SmartWay</th>\n",
       "    </tr>\n",
       "  </thead>\n",
       "  <tbody>\n",
       "    <tr>\n",
       "      <th>0</th>\n",
       "      <td>ACURA MDX</td>\n",
       "      <td>3.7</td>\n",
       "      <td>6</td>\n",
       "      <td>Auto-S5</td>\n",
       "      <td>4WD</td>\n",
       "      <td>Gasoline</td>\n",
       "      <td>SUV</td>\n",
       "      <td>7</td>\n",
       "      <td>15</td>\n",
       "      <td>20</td>\n",
       "      <td>17</td>\n",
       "      <td>4</td>\n",
       "      <td>no</td>\n",
       "    </tr>\n",
       "    <tr>\n",
       "      <th>1</th>\n",
       "      <td>ACURA MDX</td>\n",
       "      <td>3.7</td>\n",
       "      <td>6</td>\n",
       "      <td>Auto-S5</td>\n",
       "      <td>4WD</td>\n",
       "      <td>Gasoline</td>\n",
       "      <td>SUV</td>\n",
       "      <td>6</td>\n",
       "      <td>15</td>\n",
       "      <td>20</td>\n",
       "      <td>17</td>\n",
       "      <td>4</td>\n",
       "      <td>no</td>\n",
       "    </tr>\n",
       "    <tr>\n",
       "      <th>2</th>\n",
       "      <td>ACURA RDX</td>\n",
       "      <td>2.3</td>\n",
       "      <td>4</td>\n",
       "      <td>Auto-S5</td>\n",
       "      <td>4WD</td>\n",
       "      <td>Gasoline</td>\n",
       "      <td>SUV</td>\n",
       "      <td>7</td>\n",
       "      <td>17</td>\n",
       "      <td>22</td>\n",
       "      <td>19</td>\n",
       "      <td>5</td>\n",
       "      <td>no</td>\n",
       "    </tr>\n",
       "    <tr>\n",
       "      <th>3</th>\n",
       "      <td>ACURA RDX</td>\n",
       "      <td>2.3</td>\n",
       "      <td>4</td>\n",
       "      <td>Auto-S5</td>\n",
       "      <td>4WD</td>\n",
       "      <td>Gasoline</td>\n",
       "      <td>SUV</td>\n",
       "      <td>6</td>\n",
       "      <td>17</td>\n",
       "      <td>22</td>\n",
       "      <td>19</td>\n",
       "      <td>5</td>\n",
       "      <td>no</td>\n",
       "    </tr>\n",
       "    <tr>\n",
       "      <th>4</th>\n",
       "      <td>ACURA RL</td>\n",
       "      <td>3.5</td>\n",
       "      <td>6</td>\n",
       "      <td>Auto-S5</td>\n",
       "      <td>4WD</td>\n",
       "      <td>Gasoline</td>\n",
       "      <td>midsize car</td>\n",
       "      <td>7</td>\n",
       "      <td>16</td>\n",
       "      <td>24</td>\n",
       "      <td>19</td>\n",
       "      <td>5</td>\n",
       "      <td>no</td>\n",
       "    </tr>\n",
       "  </tbody>\n",
       "</table>\n",
       "</div>"
      ],
      "text/plain": [
       "       Model  Displ  Cyl    Trans Drive      Fuel    Veh_Class  \\\n",
       "0  ACURA MDX    3.7    6  Auto-S5   4WD  Gasoline          SUV   \n",
       "1  ACURA MDX    3.7    6  Auto-S5   4WD  Gasoline          SUV   \n",
       "2  ACURA RDX    2.3    4  Auto-S5   4WD  Gasoline          SUV   \n",
       "3  ACURA RDX    2.3    4  Auto-S5   4WD  Gasoline          SUV   \n",
       "4   ACURA RL    3.5    6  Auto-S5   4WD  Gasoline  midsize car   \n",
       "\n",
       "  Air_Pollution_Score City_MPG Hwy_MPG Cmb_MPG Greenhouse_Gas_Score SmartWay  \n",
       "0                   7       15      20      17                    4       no  \n",
       "1                   6       15      20      17                    4       no  \n",
       "2                   7       17      22      19                    5       no  \n",
       "3                   6       17      22      19                    5       no  \n",
       "4                   7       16      24      19                    5       no  "
      ]
     },
     "execution_count": 148,
     "metadata": {},
     "output_type": "execute_result"
    }
   ],
   "source": [
    "df_08.head()"
   ]
  },
  {
   "cell_type": "markdown",
   "metadata": {},
   "source": [
    "## Change datatypes in 'air_pollution' column"
   ]
  },
  {
   "cell_type": "code",
   "execution_count": 149,
   "metadata": {},
   "outputs": [
    {
     "data": {
      "text/plain": [
       "6      940\n",
       "7      490\n",
       "9.5     80\n",
       "6/6     32\n",
       "3       31\n",
       "9       23\n",
       "3/3     20\n",
       "8       15\n",
       "7/7     12\n",
       "1        6\n",
       "6/4      1\n",
       "Name: Air_Pollution_Score, dtype: int64"
      ]
     },
     "execution_count": 149,
     "metadata": {},
     "output_type": "execute_result"
    }
   ],
   "source": [
    "df_08.Air_Pollution_Score.value_counts()"
   ]
  },
  {
   "cell_type": "markdown",
   "metadata": {},
   "source": [
    "## Find records with slashed '/' values and separate them into their own separate records"
   ]
  },
  {
   "cell_type": "markdown",
   "metadata": {},
   "source": [
    "#### Select all rows with records of slashed values"
   ]
  },
  {
   "cell_type": "code",
   "execution_count": 150,
   "metadata": {
    "scrolled": true
   },
   "outputs": [
    {
     "data": {
      "text/html": [
       "<div>\n",
       "<style scoped>\n",
       "    .dataframe tbody tr th:only-of-type {\n",
       "        vertical-align: middle;\n",
       "    }\n",
       "\n",
       "    .dataframe tbody tr th {\n",
       "        vertical-align: top;\n",
       "    }\n",
       "\n",
       "    .dataframe thead th {\n",
       "        text-align: right;\n",
       "    }\n",
       "</style>\n",
       "<table border=\"1\" class=\"dataframe\">\n",
       "  <thead>\n",
       "    <tr style=\"text-align: right;\">\n",
       "      <th></th>\n",
       "      <th>Model</th>\n",
       "      <th>Displ</th>\n",
       "      <th>Cyl</th>\n",
       "      <th>Trans</th>\n",
       "      <th>Drive</th>\n",
       "      <th>Fuel</th>\n",
       "      <th>Veh_Class</th>\n",
       "      <th>Air_Pollution_Score</th>\n",
       "      <th>City_MPG</th>\n",
       "      <th>Hwy_MPG</th>\n",
       "      <th>Cmb_MPG</th>\n",
       "      <th>Greenhouse_Gas_Score</th>\n",
       "      <th>SmartWay</th>\n",
       "    </tr>\n",
       "  </thead>\n",
       "  <tbody>\n",
       "    <tr>\n",
       "      <th>209</th>\n",
       "      <td>CHEVROLET Avalanche 1500</td>\n",
       "      <td>5.3</td>\n",
       "      <td>8</td>\n",
       "      <td>Auto-L4</td>\n",
       "      <td>2WD</td>\n",
       "      <td>ethanol/gas</td>\n",
       "      <td>SUV</td>\n",
       "      <td>7/7</td>\n",
       "      <td>11/14</td>\n",
       "      <td>15/20</td>\n",
       "      <td>12/16</td>\n",
       "      <td>6/4</td>\n",
       "      <td>no</td>\n",
       "    </tr>\n",
       "    <tr>\n",
       "      <th>210</th>\n",
       "      <td>CHEVROLET Avalanche 1500</td>\n",
       "      <td>5.3</td>\n",
       "      <td>8</td>\n",
       "      <td>Auto-L4</td>\n",
       "      <td>4WD</td>\n",
       "      <td>ethanol/gas</td>\n",
       "      <td>SUV</td>\n",
       "      <td>7/7</td>\n",
       "      <td>11/14</td>\n",
       "      <td>14/19</td>\n",
       "      <td>12/16</td>\n",
       "      <td>6/4</td>\n",
       "      <td>no</td>\n",
       "    </tr>\n",
       "    <tr>\n",
       "      <th>214</th>\n",
       "      <td>CHEVROLET Avalanche 1500</td>\n",
       "      <td>5.3</td>\n",
       "      <td>8</td>\n",
       "      <td>Auto-L4</td>\n",
       "      <td>2WD</td>\n",
       "      <td>ethanol/gas</td>\n",
       "      <td>SUV</td>\n",
       "      <td>6/6</td>\n",
       "      <td>11/14</td>\n",
       "      <td>15/20</td>\n",
       "      <td>12/16</td>\n",
       "      <td>6/4</td>\n",
       "      <td>no</td>\n",
       "    </tr>\n",
       "    <tr>\n",
       "      <th>215</th>\n",
       "      <td>CHEVROLET Avalanche 1500</td>\n",
       "      <td>5.3</td>\n",
       "      <td>8</td>\n",
       "      <td>Auto-L4</td>\n",
       "      <td>4WD</td>\n",
       "      <td>ethanol/gas</td>\n",
       "      <td>SUV</td>\n",
       "      <td>6/6</td>\n",
       "      <td>11/14</td>\n",
       "      <td>14/19</td>\n",
       "      <td>12/16</td>\n",
       "      <td>6/4</td>\n",
       "      <td>no</td>\n",
       "    </tr>\n",
       "    <tr>\n",
       "      <th>262</th>\n",
       "      <td>CHEVROLET Express 1500</td>\n",
       "      <td>5.3</td>\n",
       "      <td>8</td>\n",
       "      <td>Auto-L4</td>\n",
       "      <td>4WD</td>\n",
       "      <td>ethanol/gas</td>\n",
       "      <td>van</td>\n",
       "      <td>6/6</td>\n",
       "      <td>9/12</td>\n",
       "      <td>12/16</td>\n",
       "      <td>10/14</td>\n",
       "      <td>4/2</td>\n",
       "      <td>no</td>\n",
       "    </tr>\n",
       "  </tbody>\n",
       "</table>\n",
       "</div>"
      ],
      "text/plain": [
       "                        Model  Displ  Cyl    Trans Drive         Fuel  \\\n",
       "209  CHEVROLET Avalanche 1500    5.3    8  Auto-L4   2WD  ethanol/gas   \n",
       "210  CHEVROLET Avalanche 1500    5.3    8  Auto-L4   4WD  ethanol/gas   \n",
       "214  CHEVROLET Avalanche 1500    5.3    8  Auto-L4   2WD  ethanol/gas   \n",
       "215  CHEVROLET Avalanche 1500    5.3    8  Auto-L4   4WD  ethanol/gas   \n",
       "262    CHEVROLET Express 1500    5.3    8  Auto-L4   4WD  ethanol/gas   \n",
       "\n",
       "    Veh_Class Air_Pollution_Score City_MPG Hwy_MPG Cmb_MPG  \\\n",
       "209       SUV                 7/7    11/14   15/20   12/16   \n",
       "210       SUV                 7/7    11/14   14/19   12/16   \n",
       "214       SUV                 6/6    11/14   15/20   12/16   \n",
       "215       SUV                 6/6    11/14   14/19   12/16   \n",
       "262       van                 6/6     9/12   12/16   10/14   \n",
       "\n",
       "    Greenhouse_Gas_Score SmartWay  \n",
       "209                  6/4       no  \n",
       "210                  6/4       no  \n",
       "214                  6/4       no  \n",
       "215                  6/4       no  \n",
       "262                  4/2       no  "
      ]
     },
     "execution_count": 150,
     "metadata": {},
     "output_type": "execute_result"
    }
   ],
   "source": [
    "hybrid_08 = df_08[df_08.Fuel.str.contains('/')]\n",
    "hybrid_08.head() "
   ]
  },
  {
   "cell_type": "code",
   "execution_count": 151,
   "metadata": {},
   "outputs": [],
   "source": [
    "df1 = hybrid_08.copy()\n",
    "df2 = hybrid_08.copy()\n"
   ]
  },
  {
   "cell_type": "code",
   "execution_count": 152,
   "metadata": {
    "scrolled": false
   },
   "outputs": [
    {
     "data": {
      "text/html": [
       "<div>\n",
       "<style scoped>\n",
       "    .dataframe tbody tr th:only-of-type {\n",
       "        vertical-align: middle;\n",
       "    }\n",
       "\n",
       "    .dataframe tbody tr th {\n",
       "        vertical-align: top;\n",
       "    }\n",
       "\n",
       "    .dataframe thead th {\n",
       "        text-align: right;\n",
       "    }\n",
       "</style>\n",
       "<table border=\"1\" class=\"dataframe\">\n",
       "  <thead>\n",
       "    <tr style=\"text-align: right;\">\n",
       "      <th></th>\n",
       "      <th>Model</th>\n",
       "      <th>Displ</th>\n",
       "      <th>Cyl</th>\n",
       "      <th>Trans</th>\n",
       "      <th>Drive</th>\n",
       "      <th>Fuel</th>\n",
       "      <th>Veh_Class</th>\n",
       "      <th>Air_Pollution_Score</th>\n",
       "      <th>City_MPG</th>\n",
       "      <th>Hwy_MPG</th>\n",
       "      <th>Cmb_MPG</th>\n",
       "      <th>Greenhouse_Gas_Score</th>\n",
       "      <th>SmartWay</th>\n",
       "    </tr>\n",
       "  </thead>\n",
       "  <tbody>\n",
       "    <tr>\n",
       "      <th>209</th>\n",
       "      <td>CHEVROLET Avalanche 1500</td>\n",
       "      <td>5.3</td>\n",
       "      <td>8</td>\n",
       "      <td>Auto-L4</td>\n",
       "      <td>2WD</td>\n",
       "      <td>ethanol/gas</td>\n",
       "      <td>SUV</td>\n",
       "      <td>7/7</td>\n",
       "      <td>11/14</td>\n",
       "      <td>15/20</td>\n",
       "      <td>12/16</td>\n",
       "      <td>6/4</td>\n",
       "      <td>no</td>\n",
       "    </tr>\n",
       "    <tr>\n",
       "      <th>210</th>\n",
       "      <td>CHEVROLET Avalanche 1500</td>\n",
       "      <td>5.3</td>\n",
       "      <td>8</td>\n",
       "      <td>Auto-L4</td>\n",
       "      <td>4WD</td>\n",
       "      <td>ethanol/gas</td>\n",
       "      <td>SUV</td>\n",
       "      <td>7/7</td>\n",
       "      <td>11/14</td>\n",
       "      <td>14/19</td>\n",
       "      <td>12/16</td>\n",
       "      <td>6/4</td>\n",
       "      <td>no</td>\n",
       "    </tr>\n",
       "    <tr>\n",
       "      <th>214</th>\n",
       "      <td>CHEVROLET Avalanche 1500</td>\n",
       "      <td>5.3</td>\n",
       "      <td>8</td>\n",
       "      <td>Auto-L4</td>\n",
       "      <td>2WD</td>\n",
       "      <td>ethanol/gas</td>\n",
       "      <td>SUV</td>\n",
       "      <td>6/6</td>\n",
       "      <td>11/14</td>\n",
       "      <td>15/20</td>\n",
       "      <td>12/16</td>\n",
       "      <td>6/4</td>\n",
       "      <td>no</td>\n",
       "    </tr>\n",
       "    <tr>\n",
       "      <th>215</th>\n",
       "      <td>CHEVROLET Avalanche 1500</td>\n",
       "      <td>5.3</td>\n",
       "      <td>8</td>\n",
       "      <td>Auto-L4</td>\n",
       "      <td>4WD</td>\n",
       "      <td>ethanol/gas</td>\n",
       "      <td>SUV</td>\n",
       "      <td>6/6</td>\n",
       "      <td>11/14</td>\n",
       "      <td>14/19</td>\n",
       "      <td>12/16</td>\n",
       "      <td>6/4</td>\n",
       "      <td>no</td>\n",
       "    </tr>\n",
       "    <tr>\n",
       "      <th>262</th>\n",
       "      <td>CHEVROLET Express 1500</td>\n",
       "      <td>5.3</td>\n",
       "      <td>8</td>\n",
       "      <td>Auto-L4</td>\n",
       "      <td>4WD</td>\n",
       "      <td>ethanol/gas</td>\n",
       "      <td>van</td>\n",
       "      <td>6/6</td>\n",
       "      <td>9/12</td>\n",
       "      <td>12/16</td>\n",
       "      <td>10/14</td>\n",
       "      <td>4/2</td>\n",
       "      <td>no</td>\n",
       "    </tr>\n",
       "    <tr>\n",
       "      <th>...</th>\n",
       "      <td>...</td>\n",
       "      <td>...</td>\n",
       "      <td>...</td>\n",
       "      <td>...</td>\n",
       "      <td>...</td>\n",
       "      <td>...</td>\n",
       "      <td>...</td>\n",
       "      <td>...</td>\n",
       "      <td>...</td>\n",
       "      <td>...</td>\n",
       "      <td>...</td>\n",
       "      <td>...</td>\n",
       "      <td>...</td>\n",
       "    </tr>\n",
       "    <tr>\n",
       "      <th>1149</th>\n",
       "      <td>MITSUBISHI Raider</td>\n",
       "      <td>4.7</td>\n",
       "      <td>8</td>\n",
       "      <td>Auto-L5</td>\n",
       "      <td>4WD</td>\n",
       "      <td>ethanol/gas</td>\n",
       "      <td>pickup</td>\n",
       "      <td>3/3</td>\n",
       "      <td>9/14</td>\n",
       "      <td>12/19</td>\n",
       "      <td>10/15</td>\n",
       "      <td>4/3</td>\n",
       "      <td>no</td>\n",
       "    </tr>\n",
       "    <tr>\n",
       "      <th>1175</th>\n",
       "      <td>NISSAN Armada</td>\n",
       "      <td>5.6</td>\n",
       "      <td>8</td>\n",
       "      <td>Auto-L5</td>\n",
       "      <td>2WD</td>\n",
       "      <td>ethanol/gas</td>\n",
       "      <td>SUV</td>\n",
       "      <td>6/6</td>\n",
       "      <td>9/12</td>\n",
       "      <td>13/18</td>\n",
       "      <td>10/14</td>\n",
       "      <td>4/2</td>\n",
       "      <td>no</td>\n",
       "    </tr>\n",
       "    <tr>\n",
       "      <th>1176</th>\n",
       "      <td>NISSAN Armada</td>\n",
       "      <td>5.6</td>\n",
       "      <td>8</td>\n",
       "      <td>Auto-L5</td>\n",
       "      <td>4WD</td>\n",
       "      <td>ethanol/gas</td>\n",
       "      <td>SUV</td>\n",
       "      <td>6/6</td>\n",
       "      <td>9/12</td>\n",
       "      <td>13/17</td>\n",
       "      <td>10/14</td>\n",
       "      <td>4/2</td>\n",
       "      <td>no</td>\n",
       "    </tr>\n",
       "    <tr>\n",
       "      <th>1211</th>\n",
       "      <td>NISSAN Titan</td>\n",
       "      <td>5.6</td>\n",
       "      <td>8</td>\n",
       "      <td>Auto-L5</td>\n",
       "      <td>2WD</td>\n",
       "      <td>ethanol/gas</td>\n",
       "      <td>pickup</td>\n",
       "      <td>6/6</td>\n",
       "      <td>9/12</td>\n",
       "      <td>13/17</td>\n",
       "      <td>10/14</td>\n",
       "      <td>4/2</td>\n",
       "      <td>no</td>\n",
       "    </tr>\n",
       "    <tr>\n",
       "      <th>1212</th>\n",
       "      <td>NISSAN Titan</td>\n",
       "      <td>5.6</td>\n",
       "      <td>8</td>\n",
       "      <td>Auto-L5</td>\n",
       "      <td>4WD</td>\n",
       "      <td>ethanol/gas</td>\n",
       "      <td>pickup</td>\n",
       "      <td>6/6</td>\n",
       "      <td>9/12</td>\n",
       "      <td>12/17</td>\n",
       "      <td>10/14</td>\n",
       "      <td>4/2</td>\n",
       "      <td>no</td>\n",
       "    </tr>\n",
       "  </tbody>\n",
       "</table>\n",
       "<p>65 rows × 13 columns</p>\n",
       "</div>"
      ],
      "text/plain": [
       "                         Model  Displ  Cyl    Trans Drive         Fuel  \\\n",
       "209   CHEVROLET Avalanche 1500    5.3    8  Auto-L4   2WD  ethanol/gas   \n",
       "210   CHEVROLET Avalanche 1500    5.3    8  Auto-L4   4WD  ethanol/gas   \n",
       "214   CHEVROLET Avalanche 1500    5.3    8  Auto-L4   2WD  ethanol/gas   \n",
       "215   CHEVROLET Avalanche 1500    5.3    8  Auto-L4   4WD  ethanol/gas   \n",
       "262     CHEVROLET Express 1500    5.3    8  Auto-L4   4WD  ethanol/gas   \n",
       "...                        ...    ...  ...      ...   ...          ...   \n",
       "1149         MITSUBISHI Raider    4.7    8  Auto-L5   4WD  ethanol/gas   \n",
       "1175             NISSAN Armada    5.6    8  Auto-L5   2WD  ethanol/gas   \n",
       "1176             NISSAN Armada    5.6    8  Auto-L5   4WD  ethanol/gas   \n",
       "1211              NISSAN Titan    5.6    8  Auto-L5   2WD  ethanol/gas   \n",
       "1212              NISSAN Titan    5.6    8  Auto-L5   4WD  ethanol/gas   \n",
       "\n",
       "     Veh_Class Air_Pollution_Score City_MPG Hwy_MPG Cmb_MPG  \\\n",
       "209        SUV                 7/7    11/14   15/20   12/16   \n",
       "210        SUV                 7/7    11/14   14/19   12/16   \n",
       "214        SUV                 6/6    11/14   15/20   12/16   \n",
       "215        SUV                 6/6    11/14   14/19   12/16   \n",
       "262        van                 6/6     9/12   12/16   10/14   \n",
       "...        ...                 ...      ...     ...     ...   \n",
       "1149    pickup                 3/3     9/14   12/19   10/15   \n",
       "1175       SUV                 6/6     9/12   13/18   10/14   \n",
       "1176       SUV                 6/6     9/12   13/17   10/14   \n",
       "1211    pickup                 6/6     9/12   13/17   10/14   \n",
       "1212    pickup                 6/6     9/12   12/17   10/14   \n",
       "\n",
       "     Greenhouse_Gas_Score SmartWay  \n",
       "209                   6/4       no  \n",
       "210                   6/4       no  \n",
       "214                   6/4       no  \n",
       "215                   6/4       no  \n",
       "262                   4/2       no  \n",
       "...                   ...      ...  \n",
       "1149                  4/3       no  \n",
       "1175                  4/2       no  \n",
       "1176                  4/2       no  \n",
       "1211                  4/2       no  \n",
       "1212                  4/2       no  \n",
       "\n",
       "[65 rows x 13 columns]"
      ]
     },
     "execution_count": 152,
     "metadata": {},
     "output_type": "execute_result"
    }
   ],
   "source": [
    "df1"
   ]
  },
  {
   "cell_type": "code",
   "execution_count": 153,
   "metadata": {},
   "outputs": [
    {
     "data": {
      "text/plain": [
       "0"
      ]
     },
     "execution_count": 153,
     "metadata": {},
     "output_type": "execute_result"
    }
   ],
   "source": [
    "df1.duplicated().sum()"
   ]
  },
  {
   "cell_type": "code",
   "execution_count": 154,
   "metadata": {
    "scrolled": true
   },
   "outputs": [
    {
     "data": {
      "text/plain": [
       "0"
      ]
     },
     "execution_count": 154,
     "metadata": {},
     "output_type": "execute_result"
    }
   ],
   "source": [
    "df2.duplicated().sum()"
   ]
  },
  {
   "cell_type": "code",
   "execution_count": 155,
   "metadata": {},
   "outputs": [],
   "source": [
    "columns_to_split = ['Fuel', 'Air_Pollution_Score', 'City_MPG', 'Hwy_MPG', 'Cmb_MPG', 'Greenhouse_Gas_Score']"
   ]
  },
  {
   "cell_type": "code",
   "execution_count": 156,
   "metadata": {},
   "outputs": [],
   "source": [
    "for i in columns_to_split:\n",
    "    df1[i] = df1[i].apply(lambda x:x.split('/')[0])\n",
    "    df2[i] = df2[i].apply(lambda x:x.split('/')[1])"
   ]
  },
  {
   "cell_type": "code",
   "execution_count": 157,
   "metadata": {
    "scrolled": true
   },
   "outputs": [
    {
     "data": {
      "text/html": [
       "<div>\n",
       "<style scoped>\n",
       "    .dataframe tbody tr th:only-of-type {\n",
       "        vertical-align: middle;\n",
       "    }\n",
       "\n",
       "    .dataframe tbody tr th {\n",
       "        vertical-align: top;\n",
       "    }\n",
       "\n",
       "    .dataframe thead th {\n",
       "        text-align: right;\n",
       "    }\n",
       "</style>\n",
       "<table border=\"1\" class=\"dataframe\">\n",
       "  <thead>\n",
       "    <tr style=\"text-align: right;\">\n",
       "      <th></th>\n",
       "      <th>Model</th>\n",
       "      <th>Displ</th>\n",
       "      <th>Cyl</th>\n",
       "      <th>Trans</th>\n",
       "      <th>Drive</th>\n",
       "      <th>Fuel</th>\n",
       "      <th>Veh_Class</th>\n",
       "      <th>Air_Pollution_Score</th>\n",
       "      <th>City_MPG</th>\n",
       "      <th>Hwy_MPG</th>\n",
       "      <th>Cmb_MPG</th>\n",
       "      <th>Greenhouse_Gas_Score</th>\n",
       "      <th>SmartWay</th>\n",
       "    </tr>\n",
       "  </thead>\n",
       "  <tbody>\n",
       "    <tr>\n",
       "      <th>209</th>\n",
       "      <td>CHEVROLET Avalanche 1500</td>\n",
       "      <td>5.3</td>\n",
       "      <td>8</td>\n",
       "      <td>Auto-L4</td>\n",
       "      <td>2WD</td>\n",
       "      <td>ethanol</td>\n",
       "      <td>SUV</td>\n",
       "      <td>7</td>\n",
       "      <td>11</td>\n",
       "      <td>15</td>\n",
       "      <td>12</td>\n",
       "      <td>6</td>\n",
       "      <td>no</td>\n",
       "    </tr>\n",
       "    <tr>\n",
       "      <th>210</th>\n",
       "      <td>CHEVROLET Avalanche 1500</td>\n",
       "      <td>5.3</td>\n",
       "      <td>8</td>\n",
       "      <td>Auto-L4</td>\n",
       "      <td>4WD</td>\n",
       "      <td>ethanol</td>\n",
       "      <td>SUV</td>\n",
       "      <td>7</td>\n",
       "      <td>11</td>\n",
       "      <td>14</td>\n",
       "      <td>12</td>\n",
       "      <td>6</td>\n",
       "      <td>no</td>\n",
       "    </tr>\n",
       "    <tr>\n",
       "      <th>214</th>\n",
       "      <td>CHEVROLET Avalanche 1500</td>\n",
       "      <td>5.3</td>\n",
       "      <td>8</td>\n",
       "      <td>Auto-L4</td>\n",
       "      <td>2WD</td>\n",
       "      <td>ethanol</td>\n",
       "      <td>SUV</td>\n",
       "      <td>6</td>\n",
       "      <td>11</td>\n",
       "      <td>15</td>\n",
       "      <td>12</td>\n",
       "      <td>6</td>\n",
       "      <td>no</td>\n",
       "    </tr>\n",
       "    <tr>\n",
       "      <th>215</th>\n",
       "      <td>CHEVROLET Avalanche 1500</td>\n",
       "      <td>5.3</td>\n",
       "      <td>8</td>\n",
       "      <td>Auto-L4</td>\n",
       "      <td>4WD</td>\n",
       "      <td>ethanol</td>\n",
       "      <td>SUV</td>\n",
       "      <td>6</td>\n",
       "      <td>11</td>\n",
       "      <td>14</td>\n",
       "      <td>12</td>\n",
       "      <td>6</td>\n",
       "      <td>no</td>\n",
       "    </tr>\n",
       "    <tr>\n",
       "      <th>262</th>\n",
       "      <td>CHEVROLET Express 1500</td>\n",
       "      <td>5.3</td>\n",
       "      <td>8</td>\n",
       "      <td>Auto-L4</td>\n",
       "      <td>4WD</td>\n",
       "      <td>ethanol</td>\n",
       "      <td>van</td>\n",
       "      <td>6</td>\n",
       "      <td>9</td>\n",
       "      <td>12</td>\n",
       "      <td>10</td>\n",
       "      <td>4</td>\n",
       "      <td>no</td>\n",
       "    </tr>\n",
       "  </tbody>\n",
       "</table>\n",
       "</div>"
      ],
      "text/plain": [
       "                        Model  Displ  Cyl    Trans Drive     Fuel Veh_Class  \\\n",
       "209  CHEVROLET Avalanche 1500    5.3    8  Auto-L4   2WD  ethanol       SUV   \n",
       "210  CHEVROLET Avalanche 1500    5.3    8  Auto-L4   4WD  ethanol       SUV   \n",
       "214  CHEVROLET Avalanche 1500    5.3    8  Auto-L4   2WD  ethanol       SUV   \n",
       "215  CHEVROLET Avalanche 1500    5.3    8  Auto-L4   4WD  ethanol       SUV   \n",
       "262    CHEVROLET Express 1500    5.3    8  Auto-L4   4WD  ethanol       van   \n",
       "\n",
       "    Air_Pollution_Score City_MPG Hwy_MPG Cmb_MPG Greenhouse_Gas_Score SmartWay  \n",
       "209                   7       11      15      12                    6       no  \n",
       "210                   7       11      14      12                    6       no  \n",
       "214                   6       11      15      12                    6       no  \n",
       "215                   6       11      14      12                    6       no  \n",
       "262                   6        9      12      10                    4       no  "
      ]
     },
     "execution_count": 157,
     "metadata": {},
     "output_type": "execute_result"
    }
   ],
   "source": [
    "df1.head()"
   ]
  },
  {
   "cell_type": "code",
   "execution_count": 158,
   "metadata": {
    "scrolled": true
   },
   "outputs": [
    {
     "data": {
      "text/html": [
       "<div>\n",
       "<style scoped>\n",
       "    .dataframe tbody tr th:only-of-type {\n",
       "        vertical-align: middle;\n",
       "    }\n",
       "\n",
       "    .dataframe tbody tr th {\n",
       "        vertical-align: top;\n",
       "    }\n",
       "\n",
       "    .dataframe thead th {\n",
       "        text-align: right;\n",
       "    }\n",
       "</style>\n",
       "<table border=\"1\" class=\"dataframe\">\n",
       "  <thead>\n",
       "    <tr style=\"text-align: right;\">\n",
       "      <th></th>\n",
       "      <th>Model</th>\n",
       "      <th>Displ</th>\n",
       "      <th>Cyl</th>\n",
       "      <th>Trans</th>\n",
       "      <th>Drive</th>\n",
       "      <th>Fuel</th>\n",
       "      <th>Veh_Class</th>\n",
       "      <th>Air_Pollution_Score</th>\n",
       "      <th>City_MPG</th>\n",
       "      <th>Hwy_MPG</th>\n",
       "      <th>Cmb_MPG</th>\n",
       "      <th>Greenhouse_Gas_Score</th>\n",
       "      <th>SmartWay</th>\n",
       "    </tr>\n",
       "  </thead>\n",
       "  <tbody>\n",
       "    <tr>\n",
       "      <th>209</th>\n",
       "      <td>CHEVROLET Avalanche 1500</td>\n",
       "      <td>5.3</td>\n",
       "      <td>8</td>\n",
       "      <td>Auto-L4</td>\n",
       "      <td>2WD</td>\n",
       "      <td>gas</td>\n",
       "      <td>SUV</td>\n",
       "      <td>7</td>\n",
       "      <td>14</td>\n",
       "      <td>20</td>\n",
       "      <td>16</td>\n",
       "      <td>4</td>\n",
       "      <td>no</td>\n",
       "    </tr>\n",
       "    <tr>\n",
       "      <th>210</th>\n",
       "      <td>CHEVROLET Avalanche 1500</td>\n",
       "      <td>5.3</td>\n",
       "      <td>8</td>\n",
       "      <td>Auto-L4</td>\n",
       "      <td>4WD</td>\n",
       "      <td>gas</td>\n",
       "      <td>SUV</td>\n",
       "      <td>7</td>\n",
       "      <td>14</td>\n",
       "      <td>19</td>\n",
       "      <td>16</td>\n",
       "      <td>4</td>\n",
       "      <td>no</td>\n",
       "    </tr>\n",
       "    <tr>\n",
       "      <th>214</th>\n",
       "      <td>CHEVROLET Avalanche 1500</td>\n",
       "      <td>5.3</td>\n",
       "      <td>8</td>\n",
       "      <td>Auto-L4</td>\n",
       "      <td>2WD</td>\n",
       "      <td>gas</td>\n",
       "      <td>SUV</td>\n",
       "      <td>6</td>\n",
       "      <td>14</td>\n",
       "      <td>20</td>\n",
       "      <td>16</td>\n",
       "      <td>4</td>\n",
       "      <td>no</td>\n",
       "    </tr>\n",
       "    <tr>\n",
       "      <th>215</th>\n",
       "      <td>CHEVROLET Avalanche 1500</td>\n",
       "      <td>5.3</td>\n",
       "      <td>8</td>\n",
       "      <td>Auto-L4</td>\n",
       "      <td>4WD</td>\n",
       "      <td>gas</td>\n",
       "      <td>SUV</td>\n",
       "      <td>6</td>\n",
       "      <td>14</td>\n",
       "      <td>19</td>\n",
       "      <td>16</td>\n",
       "      <td>4</td>\n",
       "      <td>no</td>\n",
       "    </tr>\n",
       "    <tr>\n",
       "      <th>262</th>\n",
       "      <td>CHEVROLET Express 1500</td>\n",
       "      <td>5.3</td>\n",
       "      <td>8</td>\n",
       "      <td>Auto-L4</td>\n",
       "      <td>4WD</td>\n",
       "      <td>gas</td>\n",
       "      <td>van</td>\n",
       "      <td>6</td>\n",
       "      <td>12</td>\n",
       "      <td>16</td>\n",
       "      <td>14</td>\n",
       "      <td>2</td>\n",
       "      <td>no</td>\n",
       "    </tr>\n",
       "  </tbody>\n",
       "</table>\n",
       "</div>"
      ],
      "text/plain": [
       "                        Model  Displ  Cyl    Trans Drive Fuel Veh_Class  \\\n",
       "209  CHEVROLET Avalanche 1500    5.3    8  Auto-L4   2WD  gas       SUV   \n",
       "210  CHEVROLET Avalanche 1500    5.3    8  Auto-L4   4WD  gas       SUV   \n",
       "214  CHEVROLET Avalanche 1500    5.3    8  Auto-L4   2WD  gas       SUV   \n",
       "215  CHEVROLET Avalanche 1500    5.3    8  Auto-L4   4WD  gas       SUV   \n",
       "262    CHEVROLET Express 1500    5.3    8  Auto-L4   4WD  gas       van   \n",
       "\n",
       "    Air_Pollution_Score City_MPG Hwy_MPG Cmb_MPG Greenhouse_Gas_Score SmartWay  \n",
       "209                   7       14      20      16                    4       no  \n",
       "210                   7       14      19      16                    4       no  \n",
       "214                   6       14      20      16                    4       no  \n",
       "215                   6       14      19      16                    4       no  \n",
       "262                   6       12      16      14                    2       no  "
      ]
     },
     "execution_count": 158,
     "metadata": {},
     "output_type": "execute_result"
    }
   ],
   "source": [
    "df2.head()"
   ]
  },
  {
   "cell_type": "code",
   "execution_count": 159,
   "metadata": {
    "scrolled": true
   },
   "outputs": [
    {
     "data": {
      "text/html": [
       "<div>\n",
       "<style scoped>\n",
       "    .dataframe tbody tr th:only-of-type {\n",
       "        vertical-align: middle;\n",
       "    }\n",
       "\n",
       "    .dataframe tbody tr th {\n",
       "        vertical-align: top;\n",
       "    }\n",
       "\n",
       "    .dataframe thead th {\n",
       "        text-align: right;\n",
       "    }\n",
       "</style>\n",
       "<table border=\"1\" class=\"dataframe\">\n",
       "  <thead>\n",
       "    <tr style=\"text-align: right;\">\n",
       "      <th></th>\n",
       "      <th>Model</th>\n",
       "      <th>Displ</th>\n",
       "      <th>Cyl</th>\n",
       "      <th>Trans</th>\n",
       "      <th>Drive</th>\n",
       "      <th>Fuel</th>\n",
       "      <th>Veh_Class</th>\n",
       "      <th>Air_Pollution_Score</th>\n",
       "      <th>City_MPG</th>\n",
       "      <th>Hwy_MPG</th>\n",
       "      <th>Cmb_MPG</th>\n",
       "      <th>Greenhouse_Gas_Score</th>\n",
       "      <th>SmartWay</th>\n",
       "    </tr>\n",
       "  </thead>\n",
       "  <tbody>\n",
       "    <tr>\n",
       "      <th>209</th>\n",
       "      <td>CHEVROLET Avalanche 1500</td>\n",
       "      <td>5.3</td>\n",
       "      <td>8</td>\n",
       "      <td>Auto-L4</td>\n",
       "      <td>2WD</td>\n",
       "      <td>ethanol</td>\n",
       "      <td>SUV</td>\n",
       "      <td>7</td>\n",
       "      <td>11</td>\n",
       "      <td>15</td>\n",
       "      <td>12</td>\n",
       "      <td>6</td>\n",
       "      <td>no</td>\n",
       "    </tr>\n",
       "    <tr>\n",
       "      <th>210</th>\n",
       "      <td>CHEVROLET Avalanche 1500</td>\n",
       "      <td>5.3</td>\n",
       "      <td>8</td>\n",
       "      <td>Auto-L4</td>\n",
       "      <td>4WD</td>\n",
       "      <td>ethanol</td>\n",
       "      <td>SUV</td>\n",
       "      <td>7</td>\n",
       "      <td>11</td>\n",
       "      <td>14</td>\n",
       "      <td>12</td>\n",
       "      <td>6</td>\n",
       "      <td>no</td>\n",
       "    </tr>\n",
       "    <tr>\n",
       "      <th>214</th>\n",
       "      <td>CHEVROLET Avalanche 1500</td>\n",
       "      <td>5.3</td>\n",
       "      <td>8</td>\n",
       "      <td>Auto-L4</td>\n",
       "      <td>2WD</td>\n",
       "      <td>ethanol</td>\n",
       "      <td>SUV</td>\n",
       "      <td>6</td>\n",
       "      <td>11</td>\n",
       "      <td>15</td>\n",
       "      <td>12</td>\n",
       "      <td>6</td>\n",
       "      <td>no</td>\n",
       "    </tr>\n",
       "    <tr>\n",
       "      <th>215</th>\n",
       "      <td>CHEVROLET Avalanche 1500</td>\n",
       "      <td>5.3</td>\n",
       "      <td>8</td>\n",
       "      <td>Auto-L4</td>\n",
       "      <td>4WD</td>\n",
       "      <td>ethanol</td>\n",
       "      <td>SUV</td>\n",
       "      <td>6</td>\n",
       "      <td>11</td>\n",
       "      <td>14</td>\n",
       "      <td>12</td>\n",
       "      <td>6</td>\n",
       "      <td>no</td>\n",
       "    </tr>\n",
       "    <tr>\n",
       "      <th>262</th>\n",
       "      <td>CHEVROLET Express 1500</td>\n",
       "      <td>5.3</td>\n",
       "      <td>8</td>\n",
       "      <td>Auto-L4</td>\n",
       "      <td>4WD</td>\n",
       "      <td>ethanol</td>\n",
       "      <td>van</td>\n",
       "      <td>6</td>\n",
       "      <td>9</td>\n",
       "      <td>12</td>\n",
       "      <td>10</td>\n",
       "      <td>4</td>\n",
       "      <td>no</td>\n",
       "    </tr>\n",
       "    <tr>\n",
       "      <th>...</th>\n",
       "      <td>...</td>\n",
       "      <td>...</td>\n",
       "      <td>...</td>\n",
       "      <td>...</td>\n",
       "      <td>...</td>\n",
       "      <td>...</td>\n",
       "      <td>...</td>\n",
       "      <td>...</td>\n",
       "      <td>...</td>\n",
       "      <td>...</td>\n",
       "      <td>...</td>\n",
       "      <td>...</td>\n",
       "      <td>...</td>\n",
       "    </tr>\n",
       "    <tr>\n",
       "      <th>1149</th>\n",
       "      <td>MITSUBISHI Raider</td>\n",
       "      <td>4.7</td>\n",
       "      <td>8</td>\n",
       "      <td>Auto-L5</td>\n",
       "      <td>4WD</td>\n",
       "      <td>gas</td>\n",
       "      <td>pickup</td>\n",
       "      <td>3</td>\n",
       "      <td>14</td>\n",
       "      <td>19</td>\n",
       "      <td>15</td>\n",
       "      <td>3</td>\n",
       "      <td>no</td>\n",
       "    </tr>\n",
       "    <tr>\n",
       "      <th>1175</th>\n",
       "      <td>NISSAN Armada</td>\n",
       "      <td>5.6</td>\n",
       "      <td>8</td>\n",
       "      <td>Auto-L5</td>\n",
       "      <td>2WD</td>\n",
       "      <td>gas</td>\n",
       "      <td>SUV</td>\n",
       "      <td>6</td>\n",
       "      <td>12</td>\n",
       "      <td>18</td>\n",
       "      <td>14</td>\n",
       "      <td>2</td>\n",
       "      <td>no</td>\n",
       "    </tr>\n",
       "    <tr>\n",
       "      <th>1176</th>\n",
       "      <td>NISSAN Armada</td>\n",
       "      <td>5.6</td>\n",
       "      <td>8</td>\n",
       "      <td>Auto-L5</td>\n",
       "      <td>4WD</td>\n",
       "      <td>gas</td>\n",
       "      <td>SUV</td>\n",
       "      <td>6</td>\n",
       "      <td>12</td>\n",
       "      <td>17</td>\n",
       "      <td>14</td>\n",
       "      <td>2</td>\n",
       "      <td>no</td>\n",
       "    </tr>\n",
       "    <tr>\n",
       "      <th>1211</th>\n",
       "      <td>NISSAN Titan</td>\n",
       "      <td>5.6</td>\n",
       "      <td>8</td>\n",
       "      <td>Auto-L5</td>\n",
       "      <td>2WD</td>\n",
       "      <td>gas</td>\n",
       "      <td>pickup</td>\n",
       "      <td>6</td>\n",
       "      <td>12</td>\n",
       "      <td>17</td>\n",
       "      <td>14</td>\n",
       "      <td>2</td>\n",
       "      <td>no</td>\n",
       "    </tr>\n",
       "    <tr>\n",
       "      <th>1212</th>\n",
       "      <td>NISSAN Titan</td>\n",
       "      <td>5.6</td>\n",
       "      <td>8</td>\n",
       "      <td>Auto-L5</td>\n",
       "      <td>4WD</td>\n",
       "      <td>gas</td>\n",
       "      <td>pickup</td>\n",
       "      <td>6</td>\n",
       "      <td>12</td>\n",
       "      <td>17</td>\n",
       "      <td>14</td>\n",
       "      <td>2</td>\n",
       "      <td>no</td>\n",
       "    </tr>\n",
       "  </tbody>\n",
       "</table>\n",
       "<p>130 rows × 13 columns</p>\n",
       "</div>"
      ],
      "text/plain": [
       "                         Model  Displ  Cyl    Trans Drive     Fuel Veh_Class  \\\n",
       "209   CHEVROLET Avalanche 1500    5.3    8  Auto-L4   2WD  ethanol       SUV   \n",
       "210   CHEVROLET Avalanche 1500    5.3    8  Auto-L4   4WD  ethanol       SUV   \n",
       "214   CHEVROLET Avalanche 1500    5.3    8  Auto-L4   2WD  ethanol       SUV   \n",
       "215   CHEVROLET Avalanche 1500    5.3    8  Auto-L4   4WD  ethanol       SUV   \n",
       "262     CHEVROLET Express 1500    5.3    8  Auto-L4   4WD  ethanol       van   \n",
       "...                        ...    ...  ...      ...   ...      ...       ...   \n",
       "1149         MITSUBISHI Raider    4.7    8  Auto-L5   4WD      gas    pickup   \n",
       "1175             NISSAN Armada    5.6    8  Auto-L5   2WD      gas       SUV   \n",
       "1176             NISSAN Armada    5.6    8  Auto-L5   4WD      gas       SUV   \n",
       "1211              NISSAN Titan    5.6    8  Auto-L5   2WD      gas    pickup   \n",
       "1212              NISSAN Titan    5.6    8  Auto-L5   4WD      gas    pickup   \n",
       "\n",
       "     Air_Pollution_Score City_MPG Hwy_MPG Cmb_MPG Greenhouse_Gas_Score  \\\n",
       "209                    7       11      15      12                    6   \n",
       "210                    7       11      14      12                    6   \n",
       "214                    6       11      15      12                    6   \n",
       "215                    6       11      14      12                    6   \n",
       "262                    6        9      12      10                    4   \n",
       "...                  ...      ...     ...     ...                  ...   \n",
       "1149                   3       14      19      15                    3   \n",
       "1175                   6       12      18      14                    2   \n",
       "1176                   6       12      17      14                    2   \n",
       "1211                   6       12      17      14                    2   \n",
       "1212                   6       12      17      14                    2   \n",
       "\n",
       "     SmartWay  \n",
       "209        no  \n",
       "210        no  \n",
       "214        no  \n",
       "215        no  \n",
       "262        no  \n",
       "...       ...  \n",
       "1149       no  \n",
       "1175       no  \n",
       "1176       no  \n",
       "1211       no  \n",
       "1212       no  \n",
       "\n",
       "[130 rows x 13 columns]"
      ]
     },
     "execution_count": 159,
     "metadata": {},
     "output_type": "execute_result"
    }
   ],
   "source": [
    "df1.append(df2)"
   ]
  },
  {
   "cell_type": "code",
   "execution_count": 160,
   "metadata": {},
   "outputs": [],
   "source": [
    "df_08.drop(hybrid_08.index, inplace=True)\n",
    "df_08 = df_08.append(df1.append(df2), ignore_index=True)"
   ]
  },
  {
   "cell_type": "markdown",
   "metadata": {},
   "source": [
    "### Repeat for 2018"
   ]
  },
  {
   "cell_type": "code",
   "execution_count": 161,
   "metadata": {},
   "outputs": [],
   "source": [
    "hybrid_18 = df_18[df_18.Fuel.str.contains('/')]"
   ]
  },
  {
   "cell_type": "code",
   "execution_count": 162,
   "metadata": {},
   "outputs": [],
   "source": [
    "df1 = hybrid_18.copy()\n",
    "df2 = hybrid_18.copy()"
   ]
  },
  {
   "cell_type": "code",
   "execution_count": 163,
   "metadata": {},
   "outputs": [],
   "source": [
    "columns_to_split = ['Fuel', 'City_MPG', 'Hwy_MPG', 'Cmb_MPG']"
   ]
  },
  {
   "cell_type": "code",
   "execution_count": 164,
   "metadata": {},
   "outputs": [],
   "source": [
    "for c in columns_to_split:\n",
    "    df1[c] = df1[c].apply(lambda x:x.split('/')[0])\n",
    "    df2[c] = df2[c].apply(lambda x:x.split('/')[1])"
   ]
  },
  {
   "cell_type": "code",
   "execution_count": 165,
   "metadata": {},
   "outputs": [],
   "source": [
    "df_18.drop(hybrid_18.index, inplace=True)\n",
    "df_18 = df_18.append(df1.append(df2), ignore_index=True)"
   ]
  },
  {
   "cell_type": "code",
   "execution_count": 166,
   "metadata": {
    "scrolled": true
   },
   "outputs": [
    {
     "data": {
      "text/html": [
       "<div>\n",
       "<style scoped>\n",
       "    .dataframe tbody tr th:only-of-type {\n",
       "        vertical-align: middle;\n",
       "    }\n",
       "\n",
       "    .dataframe tbody tr th {\n",
       "        vertical-align: top;\n",
       "    }\n",
       "\n",
       "    .dataframe thead th {\n",
       "        text-align: right;\n",
       "    }\n",
       "</style>\n",
       "<table border=\"1\" class=\"dataframe\">\n",
       "  <thead>\n",
       "    <tr style=\"text-align: right;\">\n",
       "      <th></th>\n",
       "      <th>Model</th>\n",
       "      <th>Displ</th>\n",
       "      <th>Cyl</th>\n",
       "      <th>Trans</th>\n",
       "      <th>Drive</th>\n",
       "      <th>Fuel</th>\n",
       "      <th>Veh_Class</th>\n",
       "      <th>Air_Pollution_Score</th>\n",
       "      <th>City_MPG</th>\n",
       "      <th>Hwy_MPG</th>\n",
       "      <th>Cmb_MPG</th>\n",
       "      <th>Greenhouse_Gas_Score</th>\n",
       "      <th>SmartWay</th>\n",
       "    </tr>\n",
       "  </thead>\n",
       "  <tbody>\n",
       "  </tbody>\n",
       "</table>\n",
       "</div>"
      ],
      "text/plain": [
       "Empty DataFrame\n",
       "Columns: [Model, Displ, Cyl, Trans, Drive, Fuel, Veh_Class, Air_Pollution_Score, City_MPG, Hwy_MPG, Cmb_MPG, Greenhouse_Gas_Score, SmartWay]\n",
       "Index: []"
      ]
     },
     "execution_count": 166,
     "metadata": {},
     "output_type": "execute_result"
    }
   ],
   "source": [
    "df_18[df_18.City_MPG.str.contains('/')]"
   ]
  },
  {
   "cell_type": "code",
   "execution_count": 167,
   "metadata": {
    "scrolled": true
   },
   "outputs": [
    {
     "data": {
      "text/plain": [
       "Gasoline    1575\n",
       "ethanol       66\n",
       "gas           65\n",
       "diesel         7\n",
       "CNG            2\n",
       "Name: Fuel, dtype: int64"
      ]
     },
     "execution_count": 167,
     "metadata": {},
     "output_type": "execute_result"
    }
   ],
   "source": [
    "df_08.Fuel.value_counts()"
   ]
  },
  {
   "cell_type": "code",
   "execution_count": 168,
   "metadata": {
    "scrolled": true
   },
   "outputs": [
    {
     "data": {
      "text/plain": [
       "Gasoline       783\n",
       "Gas             30\n",
       "Ethanol         30\n",
       "Diesel          19\n",
       "Electricity     13\n",
       "Name: Fuel, dtype: int64"
      ]
     },
     "execution_count": 168,
     "metadata": {},
     "output_type": "execute_result"
    }
   ],
   "source": [
    "df_18.Fuel.value_counts()"
   ]
  },
  {
   "cell_type": "code",
   "execution_count": 169,
   "metadata": {
    "scrolled": true
   },
   "outputs": [
    {
     "data": {
      "text/plain": [
       "Gasoline    1575\n",
       "ethanol       66\n",
       "gas           65\n",
       "diesel         7\n",
       "CNG            2\n",
       "Name: Fuel, dtype: int64"
      ]
     },
     "execution_count": 169,
     "metadata": {},
     "output_type": "execute_result"
    }
   ],
   "source": [
    "df_08.Fuel.value_counts()"
   ]
  },
  {
   "cell_type": "code",
   "execution_count": null,
   "metadata": {},
   "outputs": [],
   "source": []
  },
  {
   "cell_type": "markdown",
   "metadata": {},
   "source": [
    "## Gas/Gasoline?"
   ]
  },
  {
   "cell_type": "code",
   "execution_count": 170,
   "metadata": {},
   "outputs": [],
   "source": [
    "gas_type_08 = df_08.query('Fuel == \"gas\"').copy()\n",
    "gas_type_08.replace(to_replace='gas', value='Gasoline', inplace=True)\n",
    "df_08.drop(gas_type_08.index, inplace=True)\n",
    "df_08 = df_08.append(gas_type_08)"
   ]
  },
  {
   "cell_type": "code",
   "execution_count": 171,
   "metadata": {
    "scrolled": true
   },
   "outputs": [
    {
     "data": {
      "text/plain": [
       "Gasoline    1640\n",
       "ethanol       66\n",
       "diesel         7\n",
       "CNG            2\n",
       "Name: Fuel, dtype: int64"
      ]
     },
     "execution_count": 171,
     "metadata": {},
     "output_type": "execute_result"
    }
   ],
   "source": [
    "df_08.Fuel.value_counts()"
   ]
  },
  {
   "cell_type": "code",
   "execution_count": 172,
   "metadata": {},
   "outputs": [],
   "source": [
    "gas_type_18 = df_18.query('Fuel == \"Gas\"').copy()\n",
    "gas_type_18.replace(to_replace='gas', value='Gasoline', inplace=True)\n",
    "df_18.drop(gas_type_18.index, inplace=True)\n",
    "df_18 = df_18.append(gas_type_18)"
   ]
  },
  {
   "cell_type": "code",
   "execution_count": 173,
   "metadata": {},
   "outputs": [
    {
     "data": {
      "text/plain": [
       "Gasoline    1640\n",
       "ethanol       66\n",
       "diesel         7\n",
       "CNG            2\n",
       "Name: Fuel, dtype: int64"
      ]
     },
     "execution_count": 173,
     "metadata": {},
     "output_type": "execute_result"
    }
   ],
   "source": [
    "df_08.Fuel.value_counts()"
   ]
  },
  {
   "cell_type": "markdown",
   "metadata": {},
   "source": [
    "## Fix `*_mpg, greenhouse_gas_score and air_pollution_score` datatypes"
   ]
  },
  {
   "cell_type": "code",
   "execution_count": 174,
   "metadata": {
    "scrolled": false
   },
   "outputs": [
    {
     "data": {
      "text/plain": [
       "Model                    object\n",
       "Displ                   float64\n",
       "Cyl                       int64\n",
       "Trans                    object\n",
       "Drive                    object\n",
       "Fuel                     object\n",
       "Veh_Class                object\n",
       "Air_Pollution_Score      object\n",
       "City_MPG                 object\n",
       "Hwy_MPG                  object\n",
       "Cmb_MPG                  object\n",
       "Greenhouse_Gas_Score     object\n",
       "SmartWay                 object\n",
       "dtype: object"
      ]
     },
     "execution_count": 174,
     "metadata": {},
     "output_type": "execute_result"
    }
   ],
   "source": [
    "df_08.dtypes"
   ]
  },
  {
   "cell_type": "code",
   "execution_count": 175,
   "metadata": {
    "scrolled": true
   },
   "outputs": [
    {
     "data": {
      "text/plain": [
       "Model                    object\n",
       "Displ                   float64\n",
       "Cyl                       int64\n",
       "Trans                    object\n",
       "Drive                    object\n",
       "Fuel                     object\n",
       "Veh_Class                object\n",
       "Air_Pollution_Score       int64\n",
       "City_MPG                 object\n",
       "Hwy_MPG                  object\n",
       "Cmb_MPG                  object\n",
       "Greenhouse_Gas_Score      int64\n",
       "SmartWay                 object\n",
       "dtype: object"
      ]
     },
     "execution_count": 175,
     "metadata": {},
     "output_type": "execute_result"
    }
   ],
   "source": [
    "df_18.dtypes"
   ]
  },
  {
   "cell_type": "code",
   "execution_count": 176,
   "metadata": {},
   "outputs": [],
   "source": [
    "df_08.City_MPG = df_08.City_MPG.astype(int)\n",
    "df_08.Hwy_MPG = df_08.Hwy_MPG.astype(int)\n",
    "df_08.Cmb_MPG = df_08.Cmb_MPG.astype(int)\n",
    "\n",
    "df_18.City_MPG = df_18.City_MPG.astype(int)\n",
    "df_18.Hwy_MPG = df_18.Hwy_MPG.astype(int)\n",
    "df_18.Cmb_MPG = df_18.Cmb_MPG.astype(int)\n"
   ]
  },
  {
   "cell_type": "code",
   "execution_count": 177,
   "metadata": {
    "scrolled": true
   },
   "outputs": [
    {
     "data": {
      "text/plain": [
       "Model                    True\n",
       "Displ                    True\n",
       "Cyl                      True\n",
       "Trans                    True\n",
       "Drive                    True\n",
       "Fuel                     True\n",
       "Veh_Class                True\n",
       "Air_Pollution_Score     False\n",
       "City_MPG                 True\n",
       "Hwy_MPG                  True\n",
       "Cmb_MPG                  True\n",
       "Greenhouse_Gas_Score    False\n",
       "SmartWay                 True\n",
       "dtype: bool"
      ]
     },
     "execution_count": 177,
     "metadata": {},
     "output_type": "execute_result"
    }
   ],
   "source": [
    "df_08.dtypes == df_18.dtypes"
   ]
  },
  {
   "cell_type": "code",
   "execution_count": 178,
   "metadata": {},
   "outputs": [
    {
     "ename": "AttributeError",
     "evalue": "'Series' object has no attribute 'astypes'",
     "output_type": "error",
     "traceback": [
      "\u001b[0;31m---------------------------------------------------------------------------\u001b[0m",
      "\u001b[0;31mAttributeError\u001b[0m                            Traceback (most recent call last)",
      "\u001b[0;32m<ipython-input-178-d93c1d88d69a>\u001b[0m in \u001b[0;36m<module>\u001b[0;34m\u001b[0m\n\u001b[1;32m      1\u001b[0m \u001b[0mdf_08\u001b[0m\u001b[0;34m.\u001b[0m\u001b[0mAir_Pollution_Score\u001b[0m \u001b[0;34m=\u001b[0m \u001b[0mdf_08\u001b[0m\u001b[0;34m.\u001b[0m\u001b[0mAir_Pollution_Score\u001b[0m\u001b[0;34m.\u001b[0m\u001b[0mastype\u001b[0m\u001b[0;34m(\u001b[0m\u001b[0mfloat\u001b[0m\u001b[0;34m)\u001b[0m\u001b[0;34m.\u001b[0m\u001b[0mastype\u001b[0m\u001b[0;34m(\u001b[0m\u001b[0mint\u001b[0m\u001b[0;34m)\u001b[0m\u001b[0;34m\u001b[0m\u001b[0;34m\u001b[0m\u001b[0m\n\u001b[0;32m----> 2\u001b[0;31m \u001b[0mdf_08\u001b[0m\u001b[0;34m.\u001b[0m\u001b[0mGreenhouse_Gas_Score\u001b[0m \u001b[0;34m=\u001b[0m \u001b[0mdf_08\u001b[0m\u001b[0;34m.\u001b[0m\u001b[0mGreenhouse_Gas_Score\u001b[0m\u001b[0;34m.\u001b[0m\u001b[0mastypes\u001b[0m\u001b[0;34m(\u001b[0m\u001b[0mint\u001b[0m\u001b[0;34m)\u001b[0m\u001b[0;34m\u001b[0m\u001b[0;34m\u001b[0m\u001b[0m\n\u001b[0m",
      "\u001b[0;32m~/opt/anaconda3/lib/python3.7/site-packages/pandas/core/generic.py\u001b[0m in \u001b[0;36m__getattr__\u001b[0;34m(self, name)\u001b[0m\n\u001b[1;32m   5272\u001b[0m             \u001b[0;32mif\u001b[0m \u001b[0mself\u001b[0m\u001b[0;34m.\u001b[0m\u001b[0m_info_axis\u001b[0m\u001b[0;34m.\u001b[0m\u001b[0m_can_hold_identifiers_and_holds_name\u001b[0m\u001b[0;34m(\u001b[0m\u001b[0mname\u001b[0m\u001b[0;34m)\u001b[0m\u001b[0;34m:\u001b[0m\u001b[0;34m\u001b[0m\u001b[0;34m\u001b[0m\u001b[0m\n\u001b[1;32m   5273\u001b[0m                 \u001b[0;32mreturn\u001b[0m \u001b[0mself\u001b[0m\u001b[0;34m[\u001b[0m\u001b[0mname\u001b[0m\u001b[0;34m]\u001b[0m\u001b[0;34m\u001b[0m\u001b[0;34m\u001b[0m\u001b[0m\n\u001b[0;32m-> 5274\u001b[0;31m             \u001b[0;32mreturn\u001b[0m \u001b[0mobject\u001b[0m\u001b[0;34m.\u001b[0m\u001b[0m__getattribute__\u001b[0m\u001b[0;34m(\u001b[0m\u001b[0mself\u001b[0m\u001b[0;34m,\u001b[0m \u001b[0mname\u001b[0m\u001b[0;34m)\u001b[0m\u001b[0;34m\u001b[0m\u001b[0;34m\u001b[0m\u001b[0m\n\u001b[0m\u001b[1;32m   5275\u001b[0m \u001b[0;34m\u001b[0m\u001b[0m\n\u001b[1;32m   5276\u001b[0m     \u001b[0;32mdef\u001b[0m \u001b[0m__setattr__\u001b[0m\u001b[0;34m(\u001b[0m\u001b[0mself\u001b[0m\u001b[0;34m,\u001b[0m \u001b[0mname\u001b[0m\u001b[0;34m:\u001b[0m \u001b[0mstr\u001b[0m\u001b[0;34m,\u001b[0m \u001b[0mvalue\u001b[0m\u001b[0;34m)\u001b[0m \u001b[0;34m->\u001b[0m \u001b[0;32mNone\u001b[0m\u001b[0;34m:\u001b[0m\u001b[0;34m\u001b[0m\u001b[0;34m\u001b[0m\u001b[0m\n",
      "\u001b[0;31mAttributeError\u001b[0m: 'Series' object has no attribute 'astypes'"
     ]
    }
   ],
   "source": [
    "df_08.Air_Pollution_Score = df_08.Air_Pollution_Score.astype(float).astype(int)\n",
    "df_08.Greenhouse_Gas_Score = df_08.Greenhouse_Gas_Score.astypes(int)"
   ]
  },
  {
   "cell_type": "code",
   "execution_count": 179,
   "metadata": {
    "scrolled": true
   },
   "outputs": [
    {
     "data": {
      "text/plain": [
       "6     471\n",
       "7     284\n",
       "5     279\n",
       "4     271\n",
       "3     127\n",
       "8     112\n",
       "2     105\n",
       "0      25\n",
       "1      19\n",
       "9      18\n",
       "10      4\n",
       "Name: Greenhouse_Gas_Score, dtype: int64"
      ]
     },
     "execution_count": 179,
     "metadata": {},
     "output_type": "execute_result"
    }
   ],
   "source": [
    "df_08.Greenhouse_Gas_Score.value_counts()"
   ]
  },
  {
   "cell_type": "code",
   "execution_count": 180,
   "metadata": {
    "scrolled": true
   },
   "outputs": [
    {
     "data": {
      "text/plain": [
       "6    1005\n",
       "7     514\n",
       "9     103\n",
       "3      71\n",
       "8      15\n",
       "1       6\n",
       "4       1\n",
       "Name: Air_Pollution_Score, dtype: int64"
      ]
     },
     "execution_count": 180,
     "metadata": {},
     "output_type": "execute_result"
    }
   ],
   "source": [
    "df_08.Air_Pollution_Score.value_counts()"
   ]
  },
  {
   "cell_type": "code",
   "execution_count": 181,
   "metadata": {},
   "outputs": [
    {
     "data": {
      "text/plain": [
       "Model                    True\n",
       "Displ                    True\n",
       "Cyl                      True\n",
       "Trans                    True\n",
       "Drive                    True\n",
       "Fuel                     True\n",
       "Veh_Class                True\n",
       "Air_Pollution_Score      True\n",
       "City_MPG                 True\n",
       "Hwy_MPG                  True\n",
       "Cmb_MPG                  True\n",
       "Greenhouse_Gas_Score    False\n",
       "SmartWay                 True\n",
       "dtype: bool"
      ]
     },
     "execution_count": 181,
     "metadata": {},
     "output_type": "execute_result"
    }
   ],
   "source": [
    "df_08.dtypes == df_18.dtypes"
   ]
  },
  {
   "cell_type": "markdown",
   "metadata": {},
   "source": [
    "# CHECKPOINT: SAVE EVERYTHING"
   ]
  },
  {
   "cell_type": "code",
   "execution_count": 182,
   "metadata": {},
   "outputs": [],
   "source": [
    "df_08.to_csv('df_08_v5.csv', index=False)\n",
    "df_18.to_csv('df_18_v5.csv', index=False)\n",
    "\n",
    "df_08 = pd.read_csv('df_08_v5.csv')\n",
    "df_18 = pd.read_csv('df_18_v5.csv')"
   ]
  },
  {
   "cell_type": "code",
   "execution_count": 183,
   "metadata": {},
   "outputs": [
    {
     "data": {
      "text/html": [
       "<div>\n",
       "<style scoped>\n",
       "    .dataframe tbody tr th:only-of-type {\n",
       "        vertical-align: middle;\n",
       "    }\n",
       "\n",
       "    .dataframe tbody tr th {\n",
       "        vertical-align: top;\n",
       "    }\n",
       "\n",
       "    .dataframe thead th {\n",
       "        text-align: right;\n",
       "    }\n",
       "</style>\n",
       "<table border=\"1\" class=\"dataframe\">\n",
       "  <thead>\n",
       "    <tr style=\"text-align: right;\">\n",
       "      <th></th>\n",
       "      <th>Model</th>\n",
       "      <th>Displ</th>\n",
       "      <th>Cyl</th>\n",
       "      <th>Trans</th>\n",
       "      <th>Drive</th>\n",
       "      <th>Fuel</th>\n",
       "      <th>Veh_Class</th>\n",
       "      <th>Air_Pollution_Score</th>\n",
       "      <th>City_MPG</th>\n",
       "      <th>Hwy_MPG</th>\n",
       "      <th>Cmb_MPG</th>\n",
       "      <th>Greenhouse_Gas_Score</th>\n",
       "      <th>SmartWay</th>\n",
       "    </tr>\n",
       "  </thead>\n",
       "  <tbody>\n",
       "    <tr>\n",
       "      <th>0</th>\n",
       "      <td>ACURA MDX</td>\n",
       "      <td>3.7</td>\n",
       "      <td>6</td>\n",
       "      <td>Auto-S5</td>\n",
       "      <td>4WD</td>\n",
       "      <td>Gasoline</td>\n",
       "      <td>SUV</td>\n",
       "      <td>7</td>\n",
       "      <td>15</td>\n",
       "      <td>20</td>\n",
       "      <td>17</td>\n",
       "      <td>4</td>\n",
       "      <td>no</td>\n",
       "    </tr>\n",
       "  </tbody>\n",
       "</table>\n",
       "</div>"
      ],
      "text/plain": [
       "       Model  Displ  Cyl    Trans Drive      Fuel Veh_Class  \\\n",
       "0  ACURA MDX    3.7    6  Auto-S5   4WD  Gasoline       SUV   \n",
       "\n",
       "   Air_Pollution_Score  City_MPG  Hwy_MPG  Cmb_MPG  Greenhouse_Gas_Score  \\\n",
       "0                    7        15       20       17                     4   \n",
       "\n",
       "  SmartWay  \n",
       "0       no  "
      ]
     },
     "execution_count": 183,
     "metadata": {},
     "output_type": "execute_result"
    }
   ],
   "source": [
    "df_08.head(1)"
   ]
  },
  {
   "cell_type": "markdown",
   "metadata": {},
   "source": [
    "# Create visuals of findings"
   ]
  },
  {
   "cell_type": "markdown",
   "metadata": {},
   "source": [
    "## Fix `greenhouse_gas_score, air_pollution_score` datatypes"
   ]
  },
  {
   "cell_type": "code",
   "execution_count": 184,
   "metadata": {
    "scrolled": false
   },
   "outputs": [
    {
     "data": {
      "image/png": "[encoded data removed]",
      "text/plain": [
       "<Figure size 576x360 with 1 Axes>"
      ]
     },
     "metadata": {
      "needs_background": "light"
     },
     "output_type": "display_data"
    }
   ],
   "source": [
    "df_08.Greenhouse_Gas_Score.hist(figsize=(8, 5));"
   ]
  },
  {
   "cell_type": "code",
   "execution_count": 185,
   "metadata": {},
   "outputs": [
    {
     "data": {
      "text/plain": [
       "6     471\n",
       "7     284\n",
       "5     279\n",
       "4     271\n",
       "3     127\n",
       "8     112\n",
       "2     105\n",
       "0      25\n",
       "1      19\n",
       "9      18\n",
       "10      4\n",
       "Name: Greenhouse_Gas_Score, dtype: int64"
      ]
     },
     "execution_count": 185,
     "metadata": {},
     "output_type": "execute_result"
    }
   ],
   "source": [
    "df_08.Greenhouse_Gas_Score.value_counts()"
   ]
  },
  {
   "cell_type": "code",
   "execution_count": 186,
   "metadata": {
    "scrolled": true
   },
   "outputs": [
    {
     "data": {
      "image/png": "[encoded data removed]",
      "text/plain": [
       "<Figure size 576x360 with 1 Axes>"
      ]
     },
     "metadata": {
      "needs_background": "light"
     },
     "output_type": "display_data"
    }
   ],
   "source": [
    "df_18.Greenhouse_Gas_Score.hist(figsize=(8, 5));"
   ]
  },
  {
   "cell_type": "code",
   "execution_count": 187,
   "metadata": {
    "scrolled": true
   },
   "outputs": [
    {
     "data": {
      "text/plain": [
       "5     241\n",
       "4     177\n",
       "3     174\n",
       "6     116\n",
       "7      67\n",
       "2      36\n",
       "10     25\n",
       "8      20\n",
       "1      12\n",
       "9       7\n",
       "Name: Greenhouse_Gas_Score, dtype: int64"
      ]
     },
     "execution_count": 187,
     "metadata": {},
     "output_type": "execute_result"
    }
   ],
   "source": [
    "df_18.Greenhouse_Gas_Score.value_counts()"
   ]
  },
  {
   "cell_type": "code",
   "execution_count": 188,
   "metadata": {},
   "outputs": [
    {
     "data": {
      "image/png": "[encoded data removed]",
      "text/plain": [
       "<Figure size 648x432 with 1 Axes>"
      ]
     },
     "metadata": {
      "needs_background": "light"
     },
     "output_type": "display_data"
    }
   ],
   "source": [
    "df_08.plot(kind='scatter', x='Cmb_MPG', y='Displ', figsize=(9,6))\n",
    "plt.title('Combined MPG based on Displacement (2008)')\n",
    "plt.xlabel('Combined MPG')\n",
    "plt.ylabel('Displacement');"
   ]
  },
  {
   "cell_type": "markdown",
   "metadata": {},
   "source": [
    "## How many more car models use alternative fuels in 2018 as opposed to 2008?\n",
    "* ### May need to Google the answer to find out which fuel types are considered 'alternative'"
   ]
  },
  {
   "cell_type": "code",
   "execution_count": 189,
   "metadata": {
    "scrolled": true
   },
   "outputs": [
    {
     "data": {
      "text/plain": [
       "1"
      ]
     },
     "execution_count": 189,
     "metadata": {},
     "output_type": "execute_result"
    }
   ],
   "source": [
    "alt_fuels_08 = df_08.query('Fuel in [\"CNG\", \"Ethanol\"]').Model\n",
    "alt_fuels_08.nunique()"
   ]
  },
  {
   "cell_type": "code",
   "execution_count": 190,
   "metadata": {
    "scrolled": true
   },
   "outputs": [
    {
     "data": {
      "text/plain": [
       "29"
      ]
     },
     "execution_count": 190,
     "metadata": {},
     "output_type": "execute_result"
    }
   ],
   "source": [
    "alt_fuels_18 = df_18.query('Fuel in [\"Electricity\", \"Ethanol\"]').Model\n",
    "alt_fuels_18.nunique()"
   ]
  },
  {
   "cell_type": "code",
   "execution_count": 191,
   "metadata": {},
   "outputs": [
    {
     "name": "stdout",
     "output_type": "stream",
     "text": [
      "There are 28 more vehicles that uses alternative fuels.\n"
     ]
    }
   ],
   "source": [
    "print(f'There are {(alt_fuels_18.nunique())-(alt_fuels_08.nunique())} more vehicles that uses alternative fuels.')"
   ]
  },
  {
   "cell_type": "markdown",
   "metadata": {},
   "source": [
    "## How much has the average fuel economy improved since 2008?"
   ]
  },
  {
   "cell_type": "code",
   "execution_count": 192,
   "metadata": {},
   "outputs": [],
   "source": [
    "fuel_eco_08 = df_08.Cmb_MPG.mean()\n",
    "fuel_eco_18 = df_18.Cmb_MPG.mean()"
   ]
  },
  {
   "cell_type": "code",
   "execution_count": 193,
   "metadata": {},
   "outputs": [
    {
     "name": "stdout",
     "output_type": "stream",
     "text": [
      "Fuel efficiency in 2018 is greater than 2008 by 4.53 MPG\n"
     ]
    }
   ],
   "source": [
    "print(f\"Fuel efficiency in 2018 is greater than 2008 by {round((fuel_eco_18 - fuel_eco_08), 2)} MPG\")"
   ]
  },
  {
   "cell_type": "markdown",
   "metadata": {},
   "source": [
    "## Which type of vehicle's fuel economy has improved the most since 2008?"
   ]
  },
  {
   "cell_type": "code",
   "execution_count": 194,
   "metadata": {},
   "outputs": [
    {
     "data": {
      "text/html": [
       "<div>\n",
       "<style scoped>\n",
       "    .dataframe tbody tr th:only-of-type {\n",
       "        vertical-align: middle;\n",
       "    }\n",
       "\n",
       "    .dataframe tbody tr th {\n",
       "        vertical-align: top;\n",
       "    }\n",
       "\n",
       "    .dataframe thead th {\n",
       "        text-align: right;\n",
       "    }\n",
       "</style>\n",
       "<table border=\"1\" class=\"dataframe\">\n",
       "  <thead>\n",
       "    <tr style=\"text-align: right;\">\n",
       "      <th></th>\n",
       "      <th>Model</th>\n",
       "      <th>Displ</th>\n",
       "      <th>Cyl</th>\n",
       "      <th>Trans</th>\n",
       "      <th>Drive</th>\n",
       "      <th>Fuel</th>\n",
       "      <th>Veh_Class</th>\n",
       "      <th>Air_Pollution_Score</th>\n",
       "      <th>City_MPG</th>\n",
       "      <th>Hwy_MPG</th>\n",
       "      <th>Cmb_MPG</th>\n",
       "      <th>Greenhouse_Gas_Score</th>\n",
       "      <th>SmartWay</th>\n",
       "    </tr>\n",
       "  </thead>\n",
       "  <tbody>\n",
       "    <tr>\n",
       "      <th>0</th>\n",
       "      <td>ACURA MDX</td>\n",
       "      <td>3.7</td>\n",
       "      <td>6</td>\n",
       "      <td>Auto-S5</td>\n",
       "      <td>4WD</td>\n",
       "      <td>Gasoline</td>\n",
       "      <td>SUV</td>\n",
       "      <td>7</td>\n",
       "      <td>15</td>\n",
       "      <td>20</td>\n",
       "      <td>17</td>\n",
       "      <td>4</td>\n",
       "      <td>no</td>\n",
       "    </tr>\n",
       "    <tr>\n",
       "      <th>1</th>\n",
       "      <td>ACURA MDX</td>\n",
       "      <td>3.7</td>\n",
       "      <td>6</td>\n",
       "      <td>Auto-S5</td>\n",
       "      <td>4WD</td>\n",
       "      <td>Gasoline</td>\n",
       "      <td>SUV</td>\n",
       "      <td>6</td>\n",
       "      <td>15</td>\n",
       "      <td>20</td>\n",
       "      <td>17</td>\n",
       "      <td>4</td>\n",
       "      <td>no</td>\n",
       "    </tr>\n",
       "    <tr>\n",
       "      <th>2</th>\n",
       "      <td>ACURA RDX</td>\n",
       "      <td>2.3</td>\n",
       "      <td>4</td>\n",
       "      <td>Auto-S5</td>\n",
       "      <td>4WD</td>\n",
       "      <td>Gasoline</td>\n",
       "      <td>SUV</td>\n",
       "      <td>7</td>\n",
       "      <td>17</td>\n",
       "      <td>22</td>\n",
       "      <td>19</td>\n",
       "      <td>5</td>\n",
       "      <td>no</td>\n",
       "    </tr>\n",
       "    <tr>\n",
       "      <th>3</th>\n",
       "      <td>ACURA RDX</td>\n",
       "      <td>2.3</td>\n",
       "      <td>4</td>\n",
       "      <td>Auto-S5</td>\n",
       "      <td>4WD</td>\n",
       "      <td>Gasoline</td>\n",
       "      <td>SUV</td>\n",
       "      <td>6</td>\n",
       "      <td>17</td>\n",
       "      <td>22</td>\n",
       "      <td>19</td>\n",
       "      <td>5</td>\n",
       "      <td>no</td>\n",
       "    </tr>\n",
       "    <tr>\n",
       "      <th>4</th>\n",
       "      <td>ACURA RL</td>\n",
       "      <td>3.5</td>\n",
       "      <td>6</td>\n",
       "      <td>Auto-S5</td>\n",
       "      <td>4WD</td>\n",
       "      <td>Gasoline</td>\n",
       "      <td>midsize car</td>\n",
       "      <td>7</td>\n",
       "      <td>16</td>\n",
       "      <td>24</td>\n",
       "      <td>19</td>\n",
       "      <td>5</td>\n",
       "      <td>no</td>\n",
       "    </tr>\n",
       "  </tbody>\n",
       "</table>\n",
       "</div>"
      ],
      "text/plain": [
       "       Model  Displ  Cyl    Trans Drive      Fuel    Veh_Class  \\\n",
       "0  ACURA MDX    3.7    6  Auto-S5   4WD  Gasoline          SUV   \n",
       "1  ACURA MDX    3.7    6  Auto-S5   4WD  Gasoline          SUV   \n",
       "2  ACURA RDX    2.3    4  Auto-S5   4WD  Gasoline          SUV   \n",
       "3  ACURA RDX    2.3    4  Auto-S5   4WD  Gasoline          SUV   \n",
       "4   ACURA RL    3.5    6  Auto-S5   4WD  Gasoline  midsize car   \n",
       "\n",
       "   Air_Pollution_Score  City_MPG  Hwy_MPG  Cmb_MPG  Greenhouse_Gas_Score  \\\n",
       "0                    7        15       20       17                     4   \n",
       "1                    6        15       20       17                     4   \n",
       "2                    7        17       22       19                     5   \n",
       "3                    6        17       22       19                     5   \n",
       "4                    7        16       24       19                     5   \n",
       "\n",
       "  SmartWay  \n",
       "0       no  \n",
       "1       no  \n",
       "2       no  \n",
       "3       no  \n",
       "4       no  "
      ]
     },
     "execution_count": 194,
     "metadata": {},
     "output_type": "execute_result"
    }
   ],
   "source": [
    "df_08.head()"
   ]
  },
  {
   "cell_type": "code",
   "execution_count": 195,
   "metadata": {
    "scrolled": true
   },
   "outputs": [
    {
     "data": {
      "text/plain": [
       "SUV              508\n",
       "small car        504\n",
       "pickup           217\n",
       "midsize car      216\n",
       "large car        108\n",
       "station wagon     90\n",
       "van               37\n",
       "minivan           35\n",
       "Name: Veh_Class, dtype: int64"
      ]
     },
     "execution_count": 195,
     "metadata": {},
     "output_type": "execute_result"
    }
   ],
   "source": [
    "df_08.Veh_Class.value_counts()"
   ]
  },
  {
   "cell_type": "code",
   "execution_count": 196,
   "metadata": {},
   "outputs": [],
   "source": [
    "fuel_eco_08 = df_08.copy()\n",
    "fuel_eco_18 = df_18.copy()\n",
    "\n",
    "fuel_eco_18.drop(fuel_eco_18.query('Veh_Class == \"special purpose\"').index, inplace=True)"
   ]
  },
  {
   "cell_type": "code",
   "execution_count": 197,
   "metadata": {
    "scrolled": true
   },
   "outputs": [
    {
     "data": {
      "text/plain": [
       "small car          296\n",
       "midsize car        146\n",
       "small SUV          117\n",
       "standard SUV        90\n",
       "large car           89\n",
       "pickup              78\n",
       "station wagon       40\n",
       "special purpose     14\n",
       "minivan              5\n",
       "Name: Veh_Class, dtype: int64"
      ]
     },
     "execution_count": 197,
     "metadata": {},
     "output_type": "execute_result"
    }
   ],
   "source": [
    "df_18.Veh_Class.value_counts()"
   ]
  },
  {
   "cell_type": "code",
   "execution_count": 198,
   "metadata": {
    "scrolled": false
   },
   "outputs": [
    {
     "data": {
      "text/html": [
       "<div>\n",
       "<style scoped>\n",
       "    .dataframe tbody tr th:only-of-type {\n",
       "        vertical-align: middle;\n",
       "    }\n",
       "\n",
       "    .dataframe tbody tr th {\n",
       "        vertical-align: top;\n",
       "    }\n",
       "\n",
       "    .dataframe thead th {\n",
       "        text-align: right;\n",
       "    }\n",
       "</style>\n",
       "<table border=\"1\" class=\"dataframe\">\n",
       "  <thead>\n",
       "    <tr style=\"text-align: right;\">\n",
       "      <th></th>\n",
       "      <th>Model</th>\n",
       "      <th>Displ</th>\n",
       "      <th>Cyl</th>\n",
       "      <th>Trans</th>\n",
       "      <th>Drive</th>\n",
       "      <th>Fuel</th>\n",
       "      <th>Veh_Class</th>\n",
       "      <th>Air_Pollution_Score</th>\n",
       "      <th>City_MPG</th>\n",
       "      <th>Hwy_MPG</th>\n",
       "      <th>Cmb_MPG</th>\n",
       "      <th>Greenhouse_Gas_Score</th>\n",
       "      <th>SmartWay</th>\n",
       "    </tr>\n",
       "  </thead>\n",
       "  <tbody>\n",
       "  </tbody>\n",
       "</table>\n",
       "</div>"
      ],
      "text/plain": [
       "Empty DataFrame\n",
       "Columns: [Model, Displ, Cyl, Trans, Drive, Fuel, Veh_Class, Air_Pollution_Score, City_MPG, Hwy_MPG, Cmb_MPG, Greenhouse_Gas_Score, SmartWay]\n",
       "Index: []"
      ]
     },
     "execution_count": 198,
     "metadata": {},
     "output_type": "execute_result"
    }
   ],
   "source": [
    "fuel_eco_18.query('Veh_Class == \"special purpose\"')"
   ]
  },
  {
   "cell_type": "code",
   "execution_count": 199,
   "metadata": {
    "scrolled": true
   },
   "outputs": [
    {
     "data": {
      "text/html": [
       "<div>\n",
       "<style scoped>\n",
       "    .dataframe tbody tr th:only-of-type {\n",
       "        vertical-align: middle;\n",
       "    }\n",
       "\n",
       "    .dataframe tbody tr th {\n",
       "        vertical-align: top;\n",
       "    }\n",
       "\n",
       "    .dataframe thead th {\n",
       "        text-align: right;\n",
       "    }\n",
       "</style>\n",
       "<table border=\"1\" class=\"dataframe\">\n",
       "  <thead>\n",
       "    <tr style=\"text-align: right;\">\n",
       "      <th></th>\n",
       "      <th>Model</th>\n",
       "      <th>Displ</th>\n",
       "      <th>Cyl</th>\n",
       "      <th>Trans</th>\n",
       "      <th>Drive</th>\n",
       "      <th>Fuel</th>\n",
       "      <th>Veh_Class</th>\n",
       "      <th>Air_Pollution_Score</th>\n",
       "      <th>City_MPG</th>\n",
       "      <th>Hwy_MPG</th>\n",
       "      <th>Cmb_MPG</th>\n",
       "      <th>Greenhouse_Gas_Score</th>\n",
       "      <th>SmartWay</th>\n",
       "    </tr>\n",
       "  </thead>\n",
       "  <tbody>\n",
       "    <tr>\n",
       "      <th>0</th>\n",
       "      <td>ACURA RDX</td>\n",
       "      <td>3.5</td>\n",
       "      <td>6</td>\n",
       "      <td>SemiAuto-6</td>\n",
       "      <td>2WD</td>\n",
       "      <td>Gasoline</td>\n",
       "      <td>small SUV</td>\n",
       "      <td>3</td>\n",
       "      <td>20</td>\n",
       "      <td>28</td>\n",
       "      <td>23</td>\n",
       "      <td>5</td>\n",
       "      <td>No</td>\n",
       "    </tr>\n",
       "    <tr>\n",
       "      <th>1</th>\n",
       "      <td>ACURA RDX</td>\n",
       "      <td>3.5</td>\n",
       "      <td>6</td>\n",
       "      <td>SemiAuto-6</td>\n",
       "      <td>4WD</td>\n",
       "      <td>Gasoline</td>\n",
       "      <td>small SUV</td>\n",
       "      <td>3</td>\n",
       "      <td>19</td>\n",
       "      <td>27</td>\n",
       "      <td>22</td>\n",
       "      <td>4</td>\n",
       "      <td>No</td>\n",
       "    </tr>\n",
       "    <tr>\n",
       "      <th>11</th>\n",
       "      <td>ALFA ROMEO Stelvio AWD</td>\n",
       "      <td>2.0</td>\n",
       "      <td>4</td>\n",
       "      <td>Auto-8</td>\n",
       "      <td>4WD</td>\n",
       "      <td>Gasoline</td>\n",
       "      <td>small SUV</td>\n",
       "      <td>3</td>\n",
       "      <td>22</td>\n",
       "      <td>28</td>\n",
       "      <td>24</td>\n",
       "      <td>5</td>\n",
       "      <td>No</td>\n",
       "    </tr>\n",
       "    <tr>\n",
       "      <th>30</th>\n",
       "      <td>AUDI Q5</td>\n",
       "      <td>2.0</td>\n",
       "      <td>4</td>\n",
       "      <td>SemiAuto-7</td>\n",
       "      <td>4WD</td>\n",
       "      <td>Gasoline</td>\n",
       "      <td>small SUV</td>\n",
       "      <td>3</td>\n",
       "      <td>23</td>\n",
       "      <td>27</td>\n",
       "      <td>25</td>\n",
       "      <td>5</td>\n",
       "      <td>No</td>\n",
       "    </tr>\n",
       "    <tr>\n",
       "      <th>39</th>\n",
       "      <td>AUDI SQ5</td>\n",
       "      <td>3.0</td>\n",
       "      <td>6</td>\n",
       "      <td>AMS-8</td>\n",
       "      <td>4WD</td>\n",
       "      <td>Gasoline</td>\n",
       "      <td>small SUV</td>\n",
       "      <td>5</td>\n",
       "      <td>19</td>\n",
       "      <td>24</td>\n",
       "      <td>21</td>\n",
       "      <td>4</td>\n",
       "      <td>No</td>\n",
       "    </tr>\n",
       "    <tr>\n",
       "      <th>...</th>\n",
       "      <td>...</td>\n",
       "      <td>...</td>\n",
       "      <td>...</td>\n",
       "      <td>...</td>\n",
       "      <td>...</td>\n",
       "      <td>...</td>\n",
       "      <td>...</td>\n",
       "      <td>...</td>\n",
       "      <td>...</td>\n",
       "      <td>...</td>\n",
       "      <td>...</td>\n",
       "      <td>...</td>\n",
       "      <td>...</td>\n",
       "    </tr>\n",
       "    <tr>\n",
       "      <th>843</th>\n",
       "      <td>VOLVO XC 60</td>\n",
       "      <td>2.0</td>\n",
       "      <td>4</td>\n",
       "      <td>SemiAuto-8</td>\n",
       "      <td>4WD</td>\n",
       "      <td>Electricity</td>\n",
       "      <td>small SUV</td>\n",
       "      <td>7</td>\n",
       "      <td>60</td>\n",
       "      <td>58</td>\n",
       "      <td>59</td>\n",
       "      <td>10</td>\n",
       "      <td>Elite</td>\n",
       "    </tr>\n",
       "    <tr>\n",
       "      <th>857</th>\n",
       "      <td>DODGE Journey</td>\n",
       "      <td>3.6</td>\n",
       "      <td>6</td>\n",
       "      <td>Auto-6</td>\n",
       "      <td>2WD</td>\n",
       "      <td>Gas</td>\n",
       "      <td>small SUV</td>\n",
       "      <td>3</td>\n",
       "      <td>17</td>\n",
       "      <td>25</td>\n",
       "      <td>19</td>\n",
       "      <td>3</td>\n",
       "      <td>No</td>\n",
       "    </tr>\n",
       "    <tr>\n",
       "      <th>867</th>\n",
       "      <td>JEEP Cherokee</td>\n",
       "      <td>2.4</td>\n",
       "      <td>4</td>\n",
       "      <td>Auto-9</td>\n",
       "      <td>2WD</td>\n",
       "      <td>Gas</td>\n",
       "      <td>small SUV</td>\n",
       "      <td>3</td>\n",
       "      <td>21</td>\n",
       "      <td>30</td>\n",
       "      <td>25</td>\n",
       "      <td>5</td>\n",
       "      <td>No</td>\n",
       "    </tr>\n",
       "    <tr>\n",
       "      <th>868</th>\n",
       "      <td>JEEP Cherokee</td>\n",
       "      <td>2.4</td>\n",
       "      <td>4</td>\n",
       "      <td>Auto-9</td>\n",
       "      <td>4WD</td>\n",
       "      <td>Gas</td>\n",
       "      <td>small SUV</td>\n",
       "      <td>3</td>\n",
       "      <td>21</td>\n",
       "      <td>28</td>\n",
       "      <td>23</td>\n",
       "      <td>5</td>\n",
       "      <td>No</td>\n",
       "    </tr>\n",
       "    <tr>\n",
       "      <th>870</th>\n",
       "      <td>MERCEDES-BENZ GLA250 4Matic</td>\n",
       "      <td>2.0</td>\n",
       "      <td>4</td>\n",
       "      <td>AutoMan-7</td>\n",
       "      <td>4WD</td>\n",
       "      <td>Gas</td>\n",
       "      <td>small SUV</td>\n",
       "      <td>5</td>\n",
       "      <td>23</td>\n",
       "      <td>31</td>\n",
       "      <td>26</td>\n",
       "      <td>5</td>\n",
       "      <td>No</td>\n",
       "    </tr>\n",
       "  </tbody>\n",
       "</table>\n",
       "<p>117 rows × 13 columns</p>\n",
       "</div>"
      ],
      "text/plain": [
       "                           Model  Displ  Cyl       Trans Drive         Fuel  \\\n",
       "0                      ACURA RDX    3.5    6  SemiAuto-6   2WD     Gasoline   \n",
       "1                      ACURA RDX    3.5    6  SemiAuto-6   4WD     Gasoline   \n",
       "11        ALFA ROMEO Stelvio AWD    2.0    4      Auto-8   4WD     Gasoline   \n",
       "30                       AUDI Q5    2.0    4  SemiAuto-7   4WD     Gasoline   \n",
       "39                      AUDI SQ5    3.0    6       AMS-8   4WD     Gasoline   \n",
       "..                           ...    ...  ...         ...   ...          ...   \n",
       "843                  VOLVO XC 60    2.0    4  SemiAuto-8   4WD  Electricity   \n",
       "857                DODGE Journey    3.6    6      Auto-6   2WD          Gas   \n",
       "867                JEEP Cherokee    2.4    4      Auto-9   2WD          Gas   \n",
       "868                JEEP Cherokee    2.4    4      Auto-9   4WD          Gas   \n",
       "870  MERCEDES-BENZ GLA250 4Matic    2.0    4   AutoMan-7   4WD          Gas   \n",
       "\n",
       "     Veh_Class  Air_Pollution_Score  City_MPG  Hwy_MPG  Cmb_MPG  \\\n",
       "0    small SUV                    3        20       28       23   \n",
       "1    small SUV                    3        19       27       22   \n",
       "11   small SUV                    3        22       28       24   \n",
       "30   small SUV                    3        23       27       25   \n",
       "39   small SUV                    5        19       24       21   \n",
       "..         ...                  ...       ...      ...      ...   \n",
       "843  small SUV                    7        60       58       59   \n",
       "857  small SUV                    3        17       25       19   \n",
       "867  small SUV                    3        21       30       25   \n",
       "868  small SUV                    3        21       28       23   \n",
       "870  small SUV                    5        23       31       26   \n",
       "\n",
       "     Greenhouse_Gas_Score SmartWay  \n",
       "0                       5       No  \n",
       "1                       4       No  \n",
       "11                      5       No  \n",
       "30                      5       No  \n",
       "39                      4       No  \n",
       "..                    ...      ...  \n",
       "843                    10    Elite  \n",
       "857                     3       No  \n",
       "867                     5       No  \n",
       "868                     5       No  \n",
       "870                     5       No  \n",
       "\n",
       "[117 rows x 13 columns]"
      ]
     },
     "execution_count": 199,
     "metadata": {},
     "output_type": "execute_result"
    }
   ],
   "source": [
    "fuel_eco_18[fuel_eco_18['Veh_Class'] == 'small SUV'].copy()"
   ]
  },
  {
   "cell_type": "code",
   "execution_count": 201,
   "metadata": {
    "scrolled": true
   },
   "outputs": [],
   "source": [
    "columns = ['small SUV', 'standard SUV']\n",
    "\n",
    "for c in columns:\n",
    "    records = fuel_eco_18[fuel_eco_18['Veh_Class'] == c].copy()\n",
    "    records.replace(to_replace=c, value='SUV', inplace=True)\n",
    "    fuel_eco_18.drop(fuel_eco_18[fuel_eco_18['Veh_Class'] == c].index, inplace=True)\n",
    "    fuel_eco_18 = fuel_eco_18.append(records)"
   ]
  },
  {
   "cell_type": "code",
   "execution_count": 202,
   "metadata": {
    "scrolled": true
   },
   "outputs": [
    {
     "data": {
      "text/plain": [
       "small car        296\n",
       "SUV              207\n",
       "midsize car      146\n",
       "large car         89\n",
       "pickup            78\n",
       "station wagon     40\n",
       "minivan            5\n",
       "Name: Veh_Class, dtype: int64"
      ]
     },
     "execution_count": 202,
     "metadata": {},
     "output_type": "execute_result"
    }
   ],
   "source": [
    "fuel_eco_18.Veh_Class.value_counts()"
   ]
  },
  {
   "cell_type": "code",
   "execution_count": 203,
   "metadata": {},
   "outputs": [],
   "source": [
    "records = fuel_eco_18[fuel_eco_18['Veh_Class'] == 'minivan'].copy()\n",
    "records.replace(to_replace='minivan', value='van', inplace=True)\n",
    "fuel_eco_18.drop(fuel_eco_18[fuel_eco_18['Veh_Class'] == 'minivan'].index, inplace=True)\n",
    "fuel_eco_18 = fuel_eco_18.append(records)"
   ]
  },
  {
   "cell_type": "code",
   "execution_count": 204,
   "metadata": {
    "scrolled": true
   },
   "outputs": [
    {
     "data": {
      "text/plain": [
       "small car        296\n",
       "SUV              207\n",
       "midsize car      146\n",
       "large car         89\n",
       "pickup            78\n",
       "station wagon     40\n",
       "van                5\n",
       "Name: Veh_Class, dtype: int64"
      ]
     },
     "execution_count": 204,
     "metadata": {},
     "output_type": "execute_result"
    }
   ],
   "source": [
    "fuel_eco_18.Veh_Class.value_counts()"
   ]
  },
  {
   "cell_type": "code",
   "execution_count": 205,
   "metadata": {
    "scrolled": true
   },
   "outputs": [
    {
     "data": {
      "text/plain": [
       "SUV              508\n",
       "small car        504\n",
       "pickup           217\n",
       "midsize car      216\n",
       "large car        108\n",
       "station wagon     90\n",
       "van               37\n",
       "minivan           35\n",
       "Name: Veh_Class, dtype: int64"
      ]
     },
     "execution_count": 205,
     "metadata": {},
     "output_type": "execute_result"
    }
   ],
   "source": [
    "fuel_eco_08.Veh_Class.value_counts()"
   ]
  },
  {
   "cell_type": "code",
   "execution_count": 206,
   "metadata": {},
   "outputs": [],
   "source": [
    "records = fuel_eco_08[fuel_eco_08['Veh_Class'] == 'minivan'].copy()\n",
    "records.replace(to_replace='minivan', value='van', inplace=True)\n",
    "fuel_eco_08.drop(fuel_eco_08[fuel_eco_08['Veh_Class'] == 'minivan'].index, inplace=True)\n",
    "fuel_eco_08 = fuel_eco_08.append(records)"
   ]
  },
  {
   "cell_type": "code",
   "execution_count": 208,
   "metadata": {},
   "outputs": [
    {
     "data": {
      "text/plain": [
       "SUV              508\n",
       "small car        504\n",
       "pickup           217\n",
       "midsize car      216\n",
       "large car        108\n",
       "station wagon     90\n",
       "van               72\n",
       "Name: Veh_Class, dtype: int64"
      ]
     },
     "execution_count": 208,
     "metadata": {},
     "output_type": "execute_result"
    }
   ],
   "source": [
    "fuel_eco_08.Veh_Class.value_counts()"
   ]
  },
  {
   "cell_type": "markdown",
   "metadata": {},
   "source": [
    "#### (2008) Average fuel economy by vehicle type"
   ]
  },
  {
   "cell_type": "code",
   "execution_count": 212,
   "metadata": {},
   "outputs": [
    {
     "data": {
      "text/plain": [
       "Veh_Class\n",
       "SUV              16.06\n",
       "large car        16.10\n",
       "midsize car      18.98\n",
       "pickup           14.37\n",
       "small car        18.95\n",
       "station wagon    19.91\n",
       "van              14.08\n",
       "Name: City_MPG, dtype: float64"
      ]
     },
     "execution_count": 212,
     "metadata": {},
     "output_type": "execute_result"
    }
   ],
   "source": [
    "vt_fuel_eco_08 = round(fuel_eco_08.groupby('Veh_Class').City_MPG.mean(), 2)\n",
    "vt_fuel_eco_08"
   ]
  },
  {
   "cell_type": "markdown",
   "metadata": {},
   "source": [
    "#### (2018) Average fuel economy by vehicle type"
   ]
  },
  {
   "cell_type": "code",
   "execution_count": 213,
   "metadata": {
    "scrolled": false
   },
   "outputs": [
    {
     "data": {
      "text/plain": [
       "Veh_Class\n",
       "SUV              19.21\n",
       "large car        20.36\n",
       "midsize car      24.82\n",
       "pickup           16.55\n",
       "small car        22.41\n",
       "station wagon    27.10\n",
       "van              18.00\n",
       "Name: City_MPG, dtype: float64"
      ]
     },
     "execution_count": 213,
     "metadata": {},
     "output_type": "execute_result"
    }
   ],
   "source": [
    "vt_fuel_eco_18 = round(fuel_eco_18.groupby('Veh_Class').City_MPG.mean(),2)\n",
    "vt_fuel_eco_18"
   ]
  },
  {
   "cell_type": "code",
   "execution_count": 215,
   "metadata": {},
   "outputs": [
    {
     "data": {
      "text/html": [
       "<div>\n",
       "<style scoped>\n",
       "    .dataframe tbody tr th:only-of-type {\n",
       "        vertical-align: middle;\n",
       "    }\n",
       "\n",
       "    .dataframe tbody tr th {\n",
       "        vertical-align: top;\n",
       "    }\n",
       "\n",
       "    .dataframe thead th {\n",
       "        text-align: right;\n",
       "    }\n",
       "</style>\n",
       "<table border=\"1\" class=\"dataframe\">\n",
       "  <thead>\n",
       "    <tr style=\"text-align: right;\">\n",
       "      <th></th>\n",
       "      <th>Model</th>\n",
       "      <th>Displ</th>\n",
       "      <th>Cyl</th>\n",
       "      <th>Trans</th>\n",
       "      <th>Drive</th>\n",
       "      <th>Fuel</th>\n",
       "      <th>Veh_Class</th>\n",
       "      <th>Air_Pollution_Score</th>\n",
       "      <th>City_MPG</th>\n",
       "      <th>Hwy_MPG</th>\n",
       "      <th>Cmb_MPG</th>\n",
       "      <th>Greenhouse_Gas_Score</th>\n",
       "      <th>SmartWay</th>\n",
       "    </tr>\n",
       "  </thead>\n",
       "  <tbody>\n",
       "    <tr>\n",
       "      <th>44</th>\n",
       "      <td>AUDI allroad quattro</td>\n",
       "      <td>2.0</td>\n",
       "      <td>4</td>\n",
       "      <td>AMS-7</td>\n",
       "      <td>4WD</td>\n",
       "      <td>Gasoline</td>\n",
       "      <td>station wagon</td>\n",
       "      <td>5</td>\n",
       "      <td>22</td>\n",
       "      <td>30</td>\n",
       "      <td>25</td>\n",
       "      <td>5</td>\n",
       "      <td>No</td>\n",
       "    </tr>\n",
       "    <tr>\n",
       "      <th>59</th>\n",
       "      <td>BMW 330i Sports Wagon</td>\n",
       "      <td>2.0</td>\n",
       "      <td>4</td>\n",
       "      <td>SemiAuto-8</td>\n",
       "      <td>4WD</td>\n",
       "      <td>Gasoline</td>\n",
       "      <td>station wagon</td>\n",
       "      <td>7</td>\n",
       "      <td>23</td>\n",
       "      <td>33</td>\n",
       "      <td>27</td>\n",
       "      <td>6</td>\n",
       "      <td>No</td>\n",
       "    </tr>\n",
       "    <tr>\n",
       "      <th>205</th>\n",
       "      <td>CHEVROLET Sonic 5</td>\n",
       "      <td>1.4</td>\n",
       "      <td>4</td>\n",
       "      <td>Man-6</td>\n",
       "      <td>2WD</td>\n",
       "      <td>Gasoline</td>\n",
       "      <td>station wagon</td>\n",
       "      <td>3</td>\n",
       "      <td>28</td>\n",
       "      <td>37</td>\n",
       "      <td>32</td>\n",
       "      <td>7</td>\n",
       "      <td>Yes</td>\n",
       "    </tr>\n",
       "    <tr>\n",
       "      <th>206</th>\n",
       "      <td>CHEVROLET Sonic 5</td>\n",
       "      <td>1.4</td>\n",
       "      <td>4</td>\n",
       "      <td>SemiAuto-6</td>\n",
       "      <td>2WD</td>\n",
       "      <td>Gasoline</td>\n",
       "      <td>station wagon</td>\n",
       "      <td>3</td>\n",
       "      <td>27</td>\n",
       "      <td>35</td>\n",
       "      <td>30</td>\n",
       "      <td>7</td>\n",
       "      <td>Yes</td>\n",
       "    </tr>\n",
       "    <tr>\n",
       "      <th>253</th>\n",
       "      <td>FIAT 500L</td>\n",
       "      <td>1.4</td>\n",
       "      <td>4</td>\n",
       "      <td>Auto-6</td>\n",
       "      <td>2WD</td>\n",
       "      <td>Gasoline</td>\n",
       "      <td>station wagon</td>\n",
       "      <td>3</td>\n",
       "      <td>22</td>\n",
       "      <td>30</td>\n",
       "      <td>25</td>\n",
       "      <td>5</td>\n",
       "      <td>No</td>\n",
       "    </tr>\n",
       "    <tr>\n",
       "      <th>339</th>\n",
       "      <td>HONDA Fit</td>\n",
       "      <td>1.5</td>\n",
       "      <td>4</td>\n",
       "      <td>CVT</td>\n",
       "      <td>2WD</td>\n",
       "      <td>Gasoline</td>\n",
       "      <td>station wagon</td>\n",
       "      <td>7</td>\n",
       "      <td>33</td>\n",
       "      <td>40</td>\n",
       "      <td>36</td>\n",
       "      <td>8</td>\n",
       "      <td>Yes</td>\n",
       "    </tr>\n",
       "    <tr>\n",
       "      <th>340</th>\n",
       "      <td>HONDA Fit</td>\n",
       "      <td>1.5</td>\n",
       "      <td>4</td>\n",
       "      <td>Man-6</td>\n",
       "      <td>2WD</td>\n",
       "      <td>Gasoline</td>\n",
       "      <td>station wagon</td>\n",
       "      <td>3</td>\n",
       "      <td>29</td>\n",
       "      <td>36</td>\n",
       "      <td>31</td>\n",
       "      <td>7</td>\n",
       "      <td>Yes</td>\n",
       "    </tr>\n",
       "    <tr>\n",
       "      <th>341</th>\n",
       "      <td>HONDA Fit</td>\n",
       "      <td>1.5</td>\n",
       "      <td>4</td>\n",
       "      <td>SCV-7</td>\n",
       "      <td>2WD</td>\n",
       "      <td>Gasoline</td>\n",
       "      <td>station wagon</td>\n",
       "      <td>7</td>\n",
       "      <td>31</td>\n",
       "      <td>36</td>\n",
       "      <td>33</td>\n",
       "      <td>8</td>\n",
       "      <td>Yes</td>\n",
       "    </tr>\n",
       "    <tr>\n",
       "      <th>342</th>\n",
       "      <td>HONDA HR-V</td>\n",
       "      <td>1.8</td>\n",
       "      <td>4</td>\n",
       "      <td>CVT</td>\n",
       "      <td>2WD</td>\n",
       "      <td>Gasoline</td>\n",
       "      <td>station wagon</td>\n",
       "      <td>3</td>\n",
       "      <td>28</td>\n",
       "      <td>34</td>\n",
       "      <td>31</td>\n",
       "      <td>7</td>\n",
       "      <td>Yes</td>\n",
       "    </tr>\n",
       "    <tr>\n",
       "      <th>343</th>\n",
       "      <td>HONDA HR-V</td>\n",
       "      <td>1.8</td>\n",
       "      <td>4</td>\n",
       "      <td>CVT</td>\n",
       "      <td>4WD</td>\n",
       "      <td>Gasoline</td>\n",
       "      <td>station wagon</td>\n",
       "      <td>3</td>\n",
       "      <td>27</td>\n",
       "      <td>31</td>\n",
       "      <td>29</td>\n",
       "      <td>6</td>\n",
       "      <td>No</td>\n",
       "    </tr>\n",
       "    <tr>\n",
       "      <th>344</th>\n",
       "      <td>HONDA HR-V</td>\n",
       "      <td>1.8</td>\n",
       "      <td>4</td>\n",
       "      <td>Man-6</td>\n",
       "      <td>2WD</td>\n",
       "      <td>Gasoline</td>\n",
       "      <td>station wagon</td>\n",
       "      <td>3</td>\n",
       "      <td>25</td>\n",
       "      <td>33</td>\n",
       "      <td>28</td>\n",
       "      <td>6</td>\n",
       "      <td>No</td>\n",
       "    </tr>\n",
       "    <tr>\n",
       "      <th>345</th>\n",
       "      <td>HONDA HR-V</td>\n",
       "      <td>1.8</td>\n",
       "      <td>4</td>\n",
       "      <td>SCV-7</td>\n",
       "      <td>2WD</td>\n",
       "      <td>Gasoline</td>\n",
       "      <td>station wagon</td>\n",
       "      <td>3</td>\n",
       "      <td>28</td>\n",
       "      <td>34</td>\n",
       "      <td>31</td>\n",
       "      <td>7</td>\n",
       "      <td>Yes</td>\n",
       "    </tr>\n",
       "    <tr>\n",
       "      <th>346</th>\n",
       "      <td>HONDA HR-V</td>\n",
       "      <td>1.8</td>\n",
       "      <td>4</td>\n",
       "      <td>SCV-7</td>\n",
       "      <td>4WD</td>\n",
       "      <td>Gasoline</td>\n",
       "      <td>station wagon</td>\n",
       "      <td>3</td>\n",
       "      <td>27</td>\n",
       "      <td>31</td>\n",
       "      <td>29</td>\n",
       "      <td>6</td>\n",
       "      <td>No</td>\n",
       "    </tr>\n",
       "    <tr>\n",
       "      <th>463</th>\n",
       "      <td>KIA Soul</td>\n",
       "      <td>1.6</td>\n",
       "      <td>4</td>\n",
       "      <td>AutoMan-7</td>\n",
       "      <td>2WD</td>\n",
       "      <td>Gasoline</td>\n",
       "      <td>station wagon</td>\n",
       "      <td>3</td>\n",
       "      <td>26</td>\n",
       "      <td>31</td>\n",
       "      <td>28</td>\n",
       "      <td>6</td>\n",
       "      <td>No</td>\n",
       "    </tr>\n",
       "    <tr>\n",
       "      <th>464</th>\n",
       "      <td>KIA Soul</td>\n",
       "      <td>1.6</td>\n",
       "      <td>4</td>\n",
       "      <td>Man-6</td>\n",
       "      <td>2WD</td>\n",
       "      <td>Gasoline</td>\n",
       "      <td>station wagon</td>\n",
       "      <td>3</td>\n",
       "      <td>24</td>\n",
       "      <td>30</td>\n",
       "      <td>27</td>\n",
       "      <td>6</td>\n",
       "      <td>No</td>\n",
       "    </tr>\n",
       "    <tr>\n",
       "      <th>465</th>\n",
       "      <td>KIA Soul</td>\n",
       "      <td>1.6</td>\n",
       "      <td>4</td>\n",
       "      <td>SemiAuto-6</td>\n",
       "      <td>2WD</td>\n",
       "      <td>Gasoline</td>\n",
       "      <td>station wagon</td>\n",
       "      <td>3</td>\n",
       "      <td>25</td>\n",
       "      <td>30</td>\n",
       "      <td>27</td>\n",
       "      <td>6</td>\n",
       "      <td>No</td>\n",
       "    </tr>\n",
       "    <tr>\n",
       "      <th>466</th>\n",
       "      <td>KIA Soul</td>\n",
       "      <td>2.0</td>\n",
       "      <td>4</td>\n",
       "      <td>SemiAuto-6</td>\n",
       "      <td>2WD</td>\n",
       "      <td>Gasoline</td>\n",
       "      <td>station wagon</td>\n",
       "      <td>7</td>\n",
       "      <td>25</td>\n",
       "      <td>30</td>\n",
       "      <td>27</td>\n",
       "      <td>6</td>\n",
       "      <td>No</td>\n",
       "    </tr>\n",
       "    <tr>\n",
       "      <th>467</th>\n",
       "      <td>KIA Soul</td>\n",
       "      <td>2.0</td>\n",
       "      <td>4</td>\n",
       "      <td>SemiAuto-6</td>\n",
       "      <td>2WD</td>\n",
       "      <td>Gasoline</td>\n",
       "      <td>station wagon</td>\n",
       "      <td>5</td>\n",
       "      <td>25</td>\n",
       "      <td>30</td>\n",
       "      <td>27</td>\n",
       "      <td>6</td>\n",
       "      <td>No</td>\n",
       "    </tr>\n",
       "    <tr>\n",
       "      <th>531</th>\n",
       "      <td>MERCEDES-BENZ AMG E63 S 4Matic</td>\n",
       "      <td>4.0</td>\n",
       "      <td>8</td>\n",
       "      <td>Auto-9</td>\n",
       "      <td>4WD</td>\n",
       "      <td>Gasoline</td>\n",
       "      <td>station wagon</td>\n",
       "      <td>5</td>\n",
       "      <td>16</td>\n",
       "      <td>22</td>\n",
       "      <td>18</td>\n",
       "      <td>3</td>\n",
       "      <td>No</td>\n",
       "    </tr>\n",
       "    <tr>\n",
       "      <th>532</th>\n",
       "      <td>MERCEDES-BENZ AMG GLA45 4Matic</td>\n",
       "      <td>2.0</td>\n",
       "      <td>4</td>\n",
       "      <td>AutoMan-7</td>\n",
       "      <td>4WD</td>\n",
       "      <td>Gasoline</td>\n",
       "      <td>station wagon</td>\n",
       "      <td>3</td>\n",
       "      <td>22</td>\n",
       "      <td>28</td>\n",
       "      <td>25</td>\n",
       "      <td>5</td>\n",
       "      <td>No</td>\n",
       "    </tr>\n",
       "    <tr>\n",
       "      <th>563</th>\n",
       "      <td>MERCEDES-BENZ E400 4Matic</td>\n",
       "      <td>3.0</td>\n",
       "      <td>6</td>\n",
       "      <td>Auto-9</td>\n",
       "      <td>4WD</td>\n",
       "      <td>Gasoline</td>\n",
       "      <td>station wagon</td>\n",
       "      <td>5</td>\n",
       "      <td>19</td>\n",
       "      <td>25</td>\n",
       "      <td>21</td>\n",
       "      <td>4</td>\n",
       "      <td>No</td>\n",
       "    </tr>\n",
       "    <tr>\n",
       "      <th>564</th>\n",
       "      <td>MERCEDES-BENZ GLA 250</td>\n",
       "      <td>2.0</td>\n",
       "      <td>4</td>\n",
       "      <td>AutoMan-7</td>\n",
       "      <td>2WD</td>\n",
       "      <td>Gasoline</td>\n",
       "      <td>station wagon</td>\n",
       "      <td>5</td>\n",
       "      <td>24</td>\n",
       "      <td>33</td>\n",
       "      <td>27</td>\n",
       "      <td>6</td>\n",
       "      <td>No</td>\n",
       "    </tr>\n",
       "    <tr>\n",
       "      <th>691</th>\n",
       "      <td>SUBARU Impreza</td>\n",
       "      <td>2.0</td>\n",
       "      <td>4</td>\n",
       "      <td>Man-5</td>\n",
       "      <td>4WD</td>\n",
       "      <td>Gasoline</td>\n",
       "      <td>station wagon</td>\n",
       "      <td>7</td>\n",
       "      <td>24</td>\n",
       "      <td>31</td>\n",
       "      <td>26</td>\n",
       "      <td>5</td>\n",
       "      <td>No</td>\n",
       "    </tr>\n",
       "    <tr>\n",
       "      <th>693</th>\n",
       "      <td>SUBARU Impreza</td>\n",
       "      <td>2.0</td>\n",
       "      <td>4</td>\n",
       "      <td>Man-5</td>\n",
       "      <td>4WD</td>\n",
       "      <td>Gasoline</td>\n",
       "      <td>station wagon</td>\n",
       "      <td>6</td>\n",
       "      <td>24</td>\n",
       "      <td>31</td>\n",
       "      <td>26</td>\n",
       "      <td>5</td>\n",
       "      <td>No</td>\n",
       "    </tr>\n",
       "    <tr>\n",
       "      <th>695</th>\n",
       "      <td>SUBARU Impreza</td>\n",
       "      <td>2.0</td>\n",
       "      <td>4</td>\n",
       "      <td>SCV-7</td>\n",
       "      <td>4WD</td>\n",
       "      <td>Gasoline</td>\n",
       "      <td>station wagon</td>\n",
       "      <td>7</td>\n",
       "      <td>28</td>\n",
       "      <td>37</td>\n",
       "      <td>31</td>\n",
       "      <td>7</td>\n",
       "      <td>Yes</td>\n",
       "    </tr>\n",
       "    <tr>\n",
       "      <th>697</th>\n",
       "      <td>SUBARU Impreza</td>\n",
       "      <td>2.0</td>\n",
       "      <td>4</td>\n",
       "      <td>SCV-7</td>\n",
       "      <td>4WD</td>\n",
       "      <td>Gasoline</td>\n",
       "      <td>station wagon</td>\n",
       "      <td>6</td>\n",
       "      <td>28</td>\n",
       "      <td>37</td>\n",
       "      <td>31</td>\n",
       "      <td>7</td>\n",
       "      <td>Yes</td>\n",
       "    </tr>\n",
       "    <tr>\n",
       "      <th>699</th>\n",
       "      <td>SUBARU Impreza Sport</td>\n",
       "      <td>2.0</td>\n",
       "      <td>4</td>\n",
       "      <td>Man-5</td>\n",
       "      <td>4WD</td>\n",
       "      <td>Gasoline</td>\n",
       "      <td>station wagon</td>\n",
       "      <td>7</td>\n",
       "      <td>22</td>\n",
       "      <td>30</td>\n",
       "      <td>25</td>\n",
       "      <td>5</td>\n",
       "      <td>No</td>\n",
       "    </tr>\n",
       "    <tr>\n",
       "      <th>701</th>\n",
       "      <td>SUBARU Impreza Sport</td>\n",
       "      <td>2.0</td>\n",
       "      <td>4</td>\n",
       "      <td>Man-5</td>\n",
       "      <td>4WD</td>\n",
       "      <td>Gasoline</td>\n",
       "      <td>station wagon</td>\n",
       "      <td>6</td>\n",
       "      <td>22</td>\n",
       "      <td>30</td>\n",
       "      <td>25</td>\n",
       "      <td>5</td>\n",
       "      <td>No</td>\n",
       "    </tr>\n",
       "    <tr>\n",
       "      <th>703</th>\n",
       "      <td>SUBARU Impreza Sport</td>\n",
       "      <td>2.0</td>\n",
       "      <td>4</td>\n",
       "      <td>SCV-7</td>\n",
       "      <td>4WD</td>\n",
       "      <td>Gasoline</td>\n",
       "      <td>station wagon</td>\n",
       "      <td>7</td>\n",
       "      <td>27</td>\n",
       "      <td>35</td>\n",
       "      <td>30</td>\n",
       "      <td>7</td>\n",
       "      <td>Yes</td>\n",
       "    </tr>\n",
       "    <tr>\n",
       "      <th>705</th>\n",
       "      <td>SUBARU Impreza Sport</td>\n",
       "      <td>2.0</td>\n",
       "      <td>4</td>\n",
       "      <td>SCV-7</td>\n",
       "      <td>4WD</td>\n",
       "      <td>Gasoline</td>\n",
       "      <td>station wagon</td>\n",
       "      <td>6</td>\n",
       "      <td>27</td>\n",
       "      <td>35</td>\n",
       "      <td>30</td>\n",
       "      <td>7</td>\n",
       "      <td>Yes</td>\n",
       "    </tr>\n",
       "    <tr>\n",
       "      <th>776</th>\n",
       "      <td>VOLVO V60</td>\n",
       "      <td>2.0</td>\n",
       "      <td>4</td>\n",
       "      <td>SemiAuto-8</td>\n",
       "      <td>2WD</td>\n",
       "      <td>Gasoline</td>\n",
       "      <td>station wagon</td>\n",
       "      <td>3</td>\n",
       "      <td>25</td>\n",
       "      <td>36</td>\n",
       "      <td>29</td>\n",
       "      <td>6</td>\n",
       "      <td>No</td>\n",
       "    </tr>\n",
       "    <tr>\n",
       "      <th>777</th>\n",
       "      <td>VOLVO V60</td>\n",
       "      <td>2.0</td>\n",
       "      <td>4</td>\n",
       "      <td>SemiAuto-8</td>\n",
       "      <td>4WD</td>\n",
       "      <td>Gasoline</td>\n",
       "      <td>station wagon</td>\n",
       "      <td>3</td>\n",
       "      <td>22</td>\n",
       "      <td>32</td>\n",
       "      <td>26</td>\n",
       "      <td>5</td>\n",
       "      <td>No</td>\n",
       "    </tr>\n",
       "    <tr>\n",
       "      <th>778</th>\n",
       "      <td>VOLVO V60</td>\n",
       "      <td>2.0</td>\n",
       "      <td>4</td>\n",
       "      <td>SemiAuto-8</td>\n",
       "      <td>4WD</td>\n",
       "      <td>Gasoline</td>\n",
       "      <td>station wagon</td>\n",
       "      <td>3</td>\n",
       "      <td>22</td>\n",
       "      <td>33</td>\n",
       "      <td>26</td>\n",
       "      <td>5</td>\n",
       "      <td>No</td>\n",
       "    </tr>\n",
       "    <tr>\n",
       "      <th>779</th>\n",
       "      <td>VOLVO V60 CC</td>\n",
       "      <td>2.0</td>\n",
       "      <td>4</td>\n",
       "      <td>SemiAuto-8</td>\n",
       "      <td>4WD</td>\n",
       "      <td>Gasoline</td>\n",
       "      <td>station wagon</td>\n",
       "      <td>3</td>\n",
       "      <td>22</td>\n",
       "      <td>30</td>\n",
       "      <td>25</td>\n",
       "      <td>5</td>\n",
       "      <td>No</td>\n",
       "    </tr>\n",
       "    <tr>\n",
       "      <th>780</th>\n",
       "      <td>VOLVO V60 Polestar</td>\n",
       "      <td>2.0</td>\n",
       "      <td>4</td>\n",
       "      <td>SemiAuto-8</td>\n",
       "      <td>4WD</td>\n",
       "      <td>Gasoline</td>\n",
       "      <td>station wagon</td>\n",
       "      <td>1</td>\n",
       "      <td>20</td>\n",
       "      <td>27</td>\n",
       "      <td>22</td>\n",
       "      <td>4</td>\n",
       "      <td>No</td>\n",
       "    </tr>\n",
       "    <tr>\n",
       "      <th>781</th>\n",
       "      <td>VOLVO V90</td>\n",
       "      <td>2.0</td>\n",
       "      <td>4</td>\n",
       "      <td>SemiAuto-8</td>\n",
       "      <td>2WD</td>\n",
       "      <td>Gasoline</td>\n",
       "      <td>station wagon</td>\n",
       "      <td>5</td>\n",
       "      <td>24</td>\n",
       "      <td>34</td>\n",
       "      <td>27</td>\n",
       "      <td>6</td>\n",
       "      <td>No</td>\n",
       "    </tr>\n",
       "    <tr>\n",
       "      <th>782</th>\n",
       "      <td>VOLVO V90</td>\n",
       "      <td>2.0</td>\n",
       "      <td>4</td>\n",
       "      <td>SemiAuto-8</td>\n",
       "      <td>4WD</td>\n",
       "      <td>Gasoline</td>\n",
       "      <td>station wagon</td>\n",
       "      <td>5</td>\n",
       "      <td>22</td>\n",
       "      <td>31</td>\n",
       "      <td>25</td>\n",
       "      <td>5</td>\n",
       "      <td>No</td>\n",
       "    </tr>\n",
       "    <tr>\n",
       "      <th>783</th>\n",
       "      <td>VOLVO V90 CC</td>\n",
       "      <td>2.0</td>\n",
       "      <td>4</td>\n",
       "      <td>SemiAuto-8</td>\n",
       "      <td>4WD</td>\n",
       "      <td>Gasoline</td>\n",
       "      <td>station wagon</td>\n",
       "      <td>5</td>\n",
       "      <td>23</td>\n",
       "      <td>31</td>\n",
       "      <td>26</td>\n",
       "      <td>5</td>\n",
       "      <td>No</td>\n",
       "    </tr>\n",
       "    <tr>\n",
       "      <th>784</th>\n",
       "      <td>VOLVO V90 CC</td>\n",
       "      <td>2.0</td>\n",
       "      <td>4</td>\n",
       "      <td>SemiAuto-8</td>\n",
       "      <td>4WD</td>\n",
       "      <td>Gasoline</td>\n",
       "      <td>station wagon</td>\n",
       "      <td>5</td>\n",
       "      <td>22</td>\n",
       "      <td>29</td>\n",
       "      <td>25</td>\n",
       "      <td>5</td>\n",
       "      <td>No</td>\n",
       "    </tr>\n",
       "    <tr>\n",
       "      <th>790</th>\n",
       "      <td>KIA Soul Electric</td>\n",
       "      <td>0.0</td>\n",
       "      <td>0</td>\n",
       "      <td>Auto-1</td>\n",
       "      <td>2WD</td>\n",
       "      <td>Electricity</td>\n",
       "      <td>station wagon</td>\n",
       "      <td>10</td>\n",
       "      <td>124</td>\n",
       "      <td>93</td>\n",
       "      <td>108</td>\n",
       "      <td>10</td>\n",
       "      <td>Elite</td>\n",
       "    </tr>\n",
       "  </tbody>\n",
       "</table>\n",
       "</div>"
      ],
      "text/plain": [
       "                              Model  Displ  Cyl       Trans Drive  \\\n",
       "44             AUDI allroad quattro    2.0    4       AMS-7   4WD   \n",
       "59            BMW 330i Sports Wagon    2.0    4  SemiAuto-8   4WD   \n",
       "205               CHEVROLET Sonic 5    1.4    4       Man-6   2WD   \n",
       "206               CHEVROLET Sonic 5    1.4    4  SemiAuto-6   2WD   \n",
       "253                       FIAT 500L    1.4    4      Auto-6   2WD   \n",
       "339                       HONDA Fit    1.5    4         CVT   2WD   \n",
       "340                       HONDA Fit    1.5    4       Man-6   2WD   \n",
       "341                       HONDA Fit    1.5    4       SCV-7   2WD   \n",
       "342                      HONDA HR-V    1.8    4         CVT   2WD   \n",
       "343                      HONDA HR-V    1.8    4         CVT   4WD   \n",
       "344                      HONDA HR-V    1.8    4       Man-6   2WD   \n",
       "345                      HONDA HR-V    1.8    4       SCV-7   2WD   \n",
       "346                      HONDA HR-V    1.8    4       SCV-7   4WD   \n",
       "463                        KIA Soul    1.6    4   AutoMan-7   2WD   \n",
       "464                        KIA Soul    1.6    4       Man-6   2WD   \n",
       "465                        KIA Soul    1.6    4  SemiAuto-6   2WD   \n",
       "466                        KIA Soul    2.0    4  SemiAuto-6   2WD   \n",
       "467                        KIA Soul    2.0    4  SemiAuto-6   2WD   \n",
       "531  MERCEDES-BENZ AMG E63 S 4Matic    4.0    8      Auto-9   4WD   \n",
       "532  MERCEDES-BENZ AMG GLA45 4Matic    2.0    4   AutoMan-7   4WD   \n",
       "563       MERCEDES-BENZ E400 4Matic    3.0    6      Auto-9   4WD   \n",
       "564           MERCEDES-BENZ GLA 250    2.0    4   AutoMan-7   2WD   \n",
       "691                  SUBARU Impreza    2.0    4       Man-5   4WD   \n",
       "693                  SUBARU Impreza    2.0    4       Man-5   4WD   \n",
       "695                  SUBARU Impreza    2.0    4       SCV-7   4WD   \n",
       "697                  SUBARU Impreza    2.0    4       SCV-7   4WD   \n",
       "699            SUBARU Impreza Sport    2.0    4       Man-5   4WD   \n",
       "701            SUBARU Impreza Sport    2.0    4       Man-5   4WD   \n",
       "703            SUBARU Impreza Sport    2.0    4       SCV-7   4WD   \n",
       "705            SUBARU Impreza Sport    2.0    4       SCV-7   4WD   \n",
       "776                       VOLVO V60    2.0    4  SemiAuto-8   2WD   \n",
       "777                       VOLVO V60    2.0    4  SemiAuto-8   4WD   \n",
       "778                       VOLVO V60    2.0    4  SemiAuto-8   4WD   \n",
       "779                    VOLVO V60 CC    2.0    4  SemiAuto-8   4WD   \n",
       "780              VOLVO V60 Polestar    2.0    4  SemiAuto-8   4WD   \n",
       "781                       VOLVO V90    2.0    4  SemiAuto-8   2WD   \n",
       "782                       VOLVO V90    2.0    4  SemiAuto-8   4WD   \n",
       "783                    VOLVO V90 CC    2.0    4  SemiAuto-8   4WD   \n",
       "784                    VOLVO V90 CC    2.0    4  SemiAuto-8   4WD   \n",
       "790               KIA Soul Electric    0.0    0      Auto-1   2WD   \n",
       "\n",
       "            Fuel      Veh_Class  Air_Pollution_Score  City_MPG  Hwy_MPG  \\\n",
       "44      Gasoline  station wagon                    5        22       30   \n",
       "59      Gasoline  station wagon                    7        23       33   \n",
       "205     Gasoline  station wagon                    3        28       37   \n",
       "206     Gasoline  station wagon                    3        27       35   \n",
       "253     Gasoline  station wagon                    3        22       30   \n",
       "339     Gasoline  station wagon                    7        33       40   \n",
       "340     Gasoline  station wagon                    3        29       36   \n",
       "341     Gasoline  station wagon                    7        31       36   \n",
       "342     Gasoline  station wagon                    3        28       34   \n",
       "343     Gasoline  station wagon                    3        27       31   \n",
       "344     Gasoline  station wagon                    3        25       33   \n",
       "345     Gasoline  station wagon                    3        28       34   \n",
       "346     Gasoline  station wagon                    3        27       31   \n",
       "463     Gasoline  station wagon                    3        26       31   \n",
       "464     Gasoline  station wagon                    3        24       30   \n",
       "465     Gasoline  station wagon                    3        25       30   \n",
       "466     Gasoline  station wagon                    7        25       30   \n",
       "467     Gasoline  station wagon                    5        25       30   \n",
       "531     Gasoline  station wagon                    5        16       22   \n",
       "532     Gasoline  station wagon                    3        22       28   \n",
       "563     Gasoline  station wagon                    5        19       25   \n",
       "564     Gasoline  station wagon                    5        24       33   \n",
       "691     Gasoline  station wagon                    7        24       31   \n",
       "693     Gasoline  station wagon                    6        24       31   \n",
       "695     Gasoline  station wagon                    7        28       37   \n",
       "697     Gasoline  station wagon                    6        28       37   \n",
       "699     Gasoline  station wagon                    7        22       30   \n",
       "701     Gasoline  station wagon                    6        22       30   \n",
       "703     Gasoline  station wagon                    7        27       35   \n",
       "705     Gasoline  station wagon                    6        27       35   \n",
       "776     Gasoline  station wagon                    3        25       36   \n",
       "777     Gasoline  station wagon                    3        22       32   \n",
       "778     Gasoline  station wagon                    3        22       33   \n",
       "779     Gasoline  station wagon                    3        22       30   \n",
       "780     Gasoline  station wagon                    1        20       27   \n",
       "781     Gasoline  station wagon                    5        24       34   \n",
       "782     Gasoline  station wagon                    5        22       31   \n",
       "783     Gasoline  station wagon                    5        23       31   \n",
       "784     Gasoline  station wagon                    5        22       29   \n",
       "790  Electricity  station wagon                   10       124       93   \n",
       "\n",
       "     Cmb_MPG  Greenhouse_Gas_Score SmartWay  \n",
       "44        25                     5       No  \n",
       "59        27                     6       No  \n",
       "205       32                     7      Yes  \n",
       "206       30                     7      Yes  \n",
       "253       25                     5       No  \n",
       "339       36                     8      Yes  \n",
       "340       31                     7      Yes  \n",
       "341       33                     8      Yes  \n",
       "342       31                     7      Yes  \n",
       "343       29                     6       No  \n",
       "344       28                     6       No  \n",
       "345       31                     7      Yes  \n",
       "346       29                     6       No  \n",
       "463       28                     6       No  \n",
       "464       27                     6       No  \n",
       "465       27                     6       No  \n",
       "466       27                     6       No  \n",
       "467       27                     6       No  \n",
       "531       18                     3       No  \n",
       "532       25                     5       No  \n",
       "563       21                     4       No  \n",
       "564       27                     6       No  \n",
       "691       26                     5       No  \n",
       "693       26                     5       No  \n",
       "695       31                     7      Yes  \n",
       "697       31                     7      Yes  \n",
       "699       25                     5       No  \n",
       "701       25                     5       No  \n",
       "703       30                     7      Yes  \n",
       "705       30                     7      Yes  \n",
       "776       29                     6       No  \n",
       "777       26                     5       No  \n",
       "778       26                     5       No  \n",
       "779       25                     5       No  \n",
       "780       22                     4       No  \n",
       "781       27                     6       No  \n",
       "782       25                     5       No  \n",
       "783       26                     5       No  \n",
       "784       25                     5       No  \n",
       "790      108                    10    Elite  "
      ]
     },
     "execution_count": 215,
     "metadata": {},
     "output_type": "execute_result"
    }
   ],
   "source": [
    "fuel_eco_18.query('Veh_Class == \"station wagon\"')"
   ]
  },
  {
   "cell_type": "code",
   "execution_count": 220,
   "metadata": {},
   "outputs": [
    {
     "data": {
      "image/png": "[encoded data removed]",
      "text/plain": [
       "<Figure size 648x432 with 1 Axes>"
      ]
     },
     "metadata": {
      "needs_background": "light"
     },
     "output_type": "display_data"
    }
   ],
   "source": [
    "plt.subplots(figsize=(9,6))\n",
    "plt.bar(vt_fuel_eco_08.index, vt_fuel_eco_08, color='b')\n",
    "plt.title('2008 vs 2018 Improved fuel economy by vehicle type', fontsize=16)\n",
    "plt.ylabel('Average Fuel Economy', fontsize=14)\n",
    "plt.xlabel('Vehicle Type', fontsize =14)\n",
    "plt.legend(['2008','2018'], loc='best', prop={'size':14});"
   ]
  },
  {
   "cell_type": "markdown",
   "metadata": {},
   "source": [
    "## Which model has the highest `air_pollution_score` and fuel economy in 2008 and 2018? Compare them. "
   ]
  },
  {
   "cell_type": "code",
   "execution_count": 225,
   "metadata": {},
   "outputs": [
    {
     "data": {
      "text/html": [
       "<div>\n",
       "<style scoped>\n",
       "    .dataframe tbody tr th:only-of-type {\n",
       "        vertical-align: middle;\n",
       "    }\n",
       "\n",
       "    .dataframe tbody tr th {\n",
       "        vertical-align: top;\n",
       "    }\n",
       "\n",
       "    .dataframe thead th {\n",
       "        text-align: right;\n",
       "    }\n",
       "</style>\n",
       "<table border=\"1\" class=\"dataframe\">\n",
       "  <thead>\n",
       "    <tr style=\"text-align: right;\">\n",
       "      <th></th>\n",
       "      <th>Model</th>\n",
       "      <th>Displ</th>\n",
       "      <th>Cyl</th>\n",
       "      <th>Trans</th>\n",
       "      <th>Drive</th>\n",
       "      <th>Fuel</th>\n",
       "      <th>Veh_Class</th>\n",
       "      <th>Air_Pollution_Score</th>\n",
       "      <th>City_MPG</th>\n",
       "      <th>Hwy_MPG</th>\n",
       "      <th>Cmb_MPG</th>\n",
       "      <th>Greenhouse_Gas_Score</th>\n",
       "      <th>SmartWay</th>\n",
       "    </tr>\n",
       "  </thead>\n",
       "  <tbody>\n",
       "  </tbody>\n",
       "</table>\n",
       "</div>"
      ],
      "text/plain": [
       "Empty DataFrame\n",
       "Columns: [Model, Displ, Cyl, Trans, Drive, Fuel, Veh_Class, Air_Pollution_Score, City_MPG, Hwy_MPG, Cmb_MPG, Greenhouse_Gas_Score, SmartWay]\n",
       "Index: []"
      ]
     },
     "execution_count": 225,
     "metadata": {},
     "output_type": "execute_result"
    }
   ],
   "source": [
    "df_08.head(0)"
   ]
  },
  {
   "cell_type": "code",
   "execution_count": 221,
   "metadata": {},
   "outputs": [
    {
     "data": {
      "text/plain": [
       "9"
      ]
     },
     "execution_count": 221,
     "metadata": {},
     "output_type": "execute_result"
    }
   ],
   "source": [
    "df_08.Air_Pollution_Score.max()"
   ]
  },
  {
   "cell_type": "code",
   "execution_count": 222,
   "metadata": {},
   "outputs": [
    {
     "data": {
      "text/plain": [
       "10"
      ]
     },
     "execution_count": 222,
     "metadata": {},
     "output_type": "execute_result"
    }
   ],
   "source": [
    "df_18.Air_Pollution_Score.max()"
   ]
  },
  {
   "cell_type": "code",
   "execution_count": 226,
   "metadata": {},
   "outputs": [
    {
     "data": {
      "text/plain": [
       "46"
      ]
     },
     "execution_count": 226,
     "metadata": {},
     "output_type": "execute_result"
    }
   ],
   "source": [
    "df_08.Cmb_MPG.max()"
   ]
  },
  {
   "cell_type": "code",
   "execution_count": 228,
   "metadata": {},
   "outputs": [
    {
     "data": {
      "text/plain": [
       "108"
      ]
     },
     "execution_count": 228,
     "metadata": {},
     "output_type": "execute_result"
    }
   ],
   "source": [
    "df_18.Cmb_MPG.max()"
   ]
  },
  {
   "cell_type": "code",
   "execution_count": 245,
   "metadata": {},
   "outputs": [
    {
     "data": {
      "text/html": [
       "<div>\n",
       "<style scoped>\n",
       "    .dataframe tbody tr th:only-of-type {\n",
       "        vertical-align: middle;\n",
       "    }\n",
       "\n",
       "    .dataframe tbody tr th {\n",
       "        vertical-align: top;\n",
       "    }\n",
       "\n",
       "    .dataframe thead th {\n",
       "        text-align: right;\n",
       "    }\n",
       "</style>\n",
       "<table border=\"1\" class=\"dataframe\">\n",
       "  <thead>\n",
       "    <tr style=\"text-align: right;\">\n",
       "      <th></th>\n",
       "      <th>Model</th>\n",
       "      <th>Displ</th>\n",
       "      <th>Cyl</th>\n",
       "      <th>Trans</th>\n",
       "      <th>Drive</th>\n",
       "      <th>Fuel</th>\n",
       "      <th>Veh_Class</th>\n",
       "      <th>Air_Pollution_Score</th>\n",
       "      <th>City_MPG</th>\n",
       "      <th>Hwy_MPG</th>\n",
       "      <th>Cmb_MPG</th>\n",
       "      <th>Greenhouse_Gas_Score</th>\n",
       "      <th>SmartWay</th>\n",
       "    </tr>\n",
       "  </thead>\n",
       "  <tbody>\n",
       "    <tr>\n",
       "      <th>69</th>\n",
       "      <td>BMW 328ci</td>\n",
       "      <td>3.0</td>\n",
       "      <td>6</td>\n",
       "      <td>Man-6</td>\n",
       "      <td>2WD</td>\n",
       "      <td>Gasoline</td>\n",
       "      <td>small car</td>\n",
       "      <td>9</td>\n",
       "      <td>20</td>\n",
       "      <td>30</td>\n",
       "      <td>24</td>\n",
       "      <td>7</td>\n",
       "      <td>yes</td>\n",
       "    </tr>\n",
       "    <tr>\n",
       "      <th>70</th>\n",
       "      <td>BMW 328ci</td>\n",
       "      <td>3.0</td>\n",
       "      <td>6</td>\n",
       "      <td>Auto-S6</td>\n",
       "      <td>2WD</td>\n",
       "      <td>Gasoline</td>\n",
       "      <td>small car</td>\n",
       "      <td>9</td>\n",
       "      <td>23</td>\n",
       "      <td>31</td>\n",
       "      <td>25</td>\n",
       "      <td>7</td>\n",
       "      <td>yes</td>\n",
       "    </tr>\n",
       "    <tr>\n",
       "      <th>75</th>\n",
       "      <td>BMW 328ci Convertible</td>\n",
       "      <td>3.0</td>\n",
       "      <td>6</td>\n",
       "      <td>Man-6</td>\n",
       "      <td>2WD</td>\n",
       "      <td>Gasoline</td>\n",
       "      <td>small car</td>\n",
       "      <td>9</td>\n",
       "      <td>19</td>\n",
       "      <td>29</td>\n",
       "      <td>22</td>\n",
       "      <td>6</td>\n",
       "      <td>yes</td>\n",
       "    </tr>\n",
       "    <tr>\n",
       "      <th>76</th>\n",
       "      <td>BMW 328ci Convertible</td>\n",
       "      <td>3.0</td>\n",
       "      <td>6</td>\n",
       "      <td>Auto-S6</td>\n",
       "      <td>2WD</td>\n",
       "      <td>Gasoline</td>\n",
       "      <td>small car</td>\n",
       "      <td>9</td>\n",
       "      <td>20</td>\n",
       "      <td>30</td>\n",
       "      <td>24</td>\n",
       "      <td>7</td>\n",
       "      <td>yes</td>\n",
       "    </tr>\n",
       "    <tr>\n",
       "      <th>81</th>\n",
       "      <td>BMW 328cxi</td>\n",
       "      <td>3.0</td>\n",
       "      <td>6</td>\n",
       "      <td>Auto-S6</td>\n",
       "      <td>4WD</td>\n",
       "      <td>Gasoline</td>\n",
       "      <td>small car</td>\n",
       "      <td>9</td>\n",
       "      <td>20</td>\n",
       "      <td>27</td>\n",
       "      <td>23</td>\n",
       "      <td>7</td>\n",
       "      <td>yes</td>\n",
       "    </tr>\n",
       "    <tr>\n",
       "      <th>...</th>\n",
       "      <td>...</td>\n",
       "      <td>...</td>\n",
       "      <td>...</td>\n",
       "      <td>...</td>\n",
       "      <td>...</td>\n",
       "      <td>...</td>\n",
       "      <td>...</td>\n",
       "      <td>...</td>\n",
       "      <td>...</td>\n",
       "      <td>...</td>\n",
       "      <td>...</td>\n",
       "      <td>...</td>\n",
       "      <td>...</td>\n",
       "    </tr>\n",
       "    <tr>\n",
       "      <th>1509</th>\n",
       "      <td>VOLKSWAGEN Rabbit</td>\n",
       "      <td>2.5</td>\n",
       "      <td>5</td>\n",
       "      <td>Man-5</td>\n",
       "      <td>2WD</td>\n",
       "      <td>Gasoline</td>\n",
       "      <td>small car</td>\n",
       "      <td>9</td>\n",
       "      <td>22</td>\n",
       "      <td>29</td>\n",
       "      <td>24</td>\n",
       "      <td>7</td>\n",
       "      <td>yes</td>\n",
       "    </tr>\n",
       "    <tr>\n",
       "      <th>1510</th>\n",
       "      <td>VOLKSWAGEN Rabbit</td>\n",
       "      <td>2.5</td>\n",
       "      <td>5</td>\n",
       "      <td>Auto-S6</td>\n",
       "      <td>2WD</td>\n",
       "      <td>Gasoline</td>\n",
       "      <td>small car</td>\n",
       "      <td>9</td>\n",
       "      <td>21</td>\n",
       "      <td>29</td>\n",
       "      <td>24</td>\n",
       "      <td>7</td>\n",
       "      <td>yes</td>\n",
       "    </tr>\n",
       "    <tr>\n",
       "      <th>1511</th>\n",
       "      <td>VOLKSWAGEN Rabbit</td>\n",
       "      <td>2.5</td>\n",
       "      <td>5</td>\n",
       "      <td>Man-5</td>\n",
       "      <td>2WD</td>\n",
       "      <td>Gasoline</td>\n",
       "      <td>small car</td>\n",
       "      <td>9</td>\n",
       "      <td>22</td>\n",
       "      <td>29</td>\n",
       "      <td>24</td>\n",
       "      <td>7</td>\n",
       "      <td>yes</td>\n",
       "    </tr>\n",
       "    <tr>\n",
       "      <th>1531</th>\n",
       "      <td>VOLVO S40</td>\n",
       "      <td>2.4</td>\n",
       "      <td>5</td>\n",
       "      <td>Auto-S5</td>\n",
       "      <td>2WD</td>\n",
       "      <td>Gasoline</td>\n",
       "      <td>small car</td>\n",
       "      <td>9</td>\n",
       "      <td>20</td>\n",
       "      <td>28</td>\n",
       "      <td>23</td>\n",
       "      <td>7</td>\n",
       "      <td>yes</td>\n",
       "    </tr>\n",
       "    <tr>\n",
       "      <th>1562</th>\n",
       "      <td>VOLVO V50</td>\n",
       "      <td>2.4</td>\n",
       "      <td>5</td>\n",
       "      <td>Auto-S5</td>\n",
       "      <td>2WD</td>\n",
       "      <td>Gasoline</td>\n",
       "      <td>station wagon</td>\n",
       "      <td>9</td>\n",
       "      <td>20</td>\n",
       "      <td>28</td>\n",
       "      <td>23</td>\n",
       "      <td>7</td>\n",
       "      <td>yes</td>\n",
       "    </tr>\n",
       "  </tbody>\n",
       "</table>\n",
       "<p>103 rows × 13 columns</p>\n",
       "</div>"
      ],
      "text/plain": [
       "                      Model  Displ  Cyl    Trans Drive      Fuel  \\\n",
       "69                BMW 328ci    3.0    6    Man-6   2WD  Gasoline   \n",
       "70                BMW 328ci    3.0    6  Auto-S6   2WD  Gasoline   \n",
       "75    BMW 328ci Convertible    3.0    6    Man-6   2WD  Gasoline   \n",
       "76    BMW 328ci Convertible    3.0    6  Auto-S6   2WD  Gasoline   \n",
       "81               BMW 328cxi    3.0    6  Auto-S6   4WD  Gasoline   \n",
       "...                     ...    ...  ...      ...   ...       ...   \n",
       "1509      VOLKSWAGEN Rabbit    2.5    5    Man-5   2WD  Gasoline   \n",
       "1510      VOLKSWAGEN Rabbit    2.5    5  Auto-S6   2WD  Gasoline   \n",
       "1511      VOLKSWAGEN Rabbit    2.5    5    Man-5   2WD  Gasoline   \n",
       "1531              VOLVO S40    2.4    5  Auto-S5   2WD  Gasoline   \n",
       "1562              VOLVO V50    2.4    5  Auto-S5   2WD  Gasoline   \n",
       "\n",
       "          Veh_Class  Air_Pollution_Score  City_MPG  Hwy_MPG  Cmb_MPG  \\\n",
       "69        small car                    9        20       30       24   \n",
       "70        small car                    9        23       31       25   \n",
       "75        small car                    9        19       29       22   \n",
       "76        small car                    9        20       30       24   \n",
       "81        small car                    9        20       27       23   \n",
       "...             ...                  ...       ...      ...      ...   \n",
       "1509      small car                    9        22       29       24   \n",
       "1510      small car                    9        21       29       24   \n",
       "1511      small car                    9        22       29       24   \n",
       "1531      small car                    9        20       28       23   \n",
       "1562  station wagon                    9        20       28       23   \n",
       "\n",
       "      Greenhouse_Gas_Score SmartWay  \n",
       "69                       7      yes  \n",
       "70                       7      yes  \n",
       "75                       6      yes  \n",
       "76                       7      yes  \n",
       "81                       7      yes  \n",
       "...                    ...      ...  \n",
       "1509                     7      yes  \n",
       "1510                     7      yes  \n",
       "1511                     7      yes  \n",
       "1531                     7      yes  \n",
       "1562                     7      yes  \n",
       "\n",
       "[103 rows x 13 columns]"
      ]
     },
     "execution_count": 245,
     "metadata": {},
     "output_type": "execute_result"
    }
   ],
   "source": [
    "df_08.query('Air_Pollution_Score == 9')"
   ]
  },
  {
   "cell_type": "code",
   "execution_count": 247,
   "metadata": {},
   "outputs": [
    {
     "data": {
      "text/html": [
       "<div>\n",
       "<style scoped>\n",
       "    .dataframe tbody tr th:only-of-type {\n",
       "        vertical-align: middle;\n",
       "    }\n",
       "\n",
       "    .dataframe tbody tr th {\n",
       "        vertical-align: top;\n",
       "    }\n",
       "\n",
       "    .dataframe thead th {\n",
       "        text-align: right;\n",
       "    }\n",
       "</style>\n",
       "<table border=\"1\" class=\"dataframe\">\n",
       "  <thead>\n",
       "    <tr style=\"text-align: right;\">\n",
       "      <th></th>\n",
       "      <th>Model</th>\n",
       "      <th>Displ</th>\n",
       "      <th>Cyl</th>\n",
       "      <th>Trans</th>\n",
       "      <th>Drive</th>\n",
       "      <th>Fuel</th>\n",
       "      <th>Veh_Class</th>\n",
       "      <th>Air_Pollution_Score</th>\n",
       "      <th>City_MPG</th>\n",
       "      <th>Hwy_MPG</th>\n",
       "      <th>Cmb_MPG</th>\n",
       "      <th>Greenhouse_Gas_Score</th>\n",
       "      <th>SmartWay</th>\n",
       "    </tr>\n",
       "  </thead>\n",
       "  <tbody>\n",
       "    <tr>\n",
       "      <th>790</th>\n",
       "      <td>KIA Soul Electric</td>\n",
       "      <td>0.0</td>\n",
       "      <td>0</td>\n",
       "      <td>Auto-1</td>\n",
       "      <td>2WD</td>\n",
       "      <td>Electricity</td>\n",
       "      <td>station wagon</td>\n",
       "      <td>10</td>\n",
       "      <td>124</td>\n",
       "      <td>93</td>\n",
       "      <td>108</td>\n",
       "      <td>10</td>\n",
       "      <td>Elite</td>\n",
       "    </tr>\n",
       "  </tbody>\n",
       "</table>\n",
       "</div>"
      ],
      "text/plain": [
       "                 Model  Displ  Cyl   Trans Drive         Fuel      Veh_Class  \\\n",
       "790  KIA Soul Electric    0.0    0  Auto-1   2WD  Electricity  station wagon   \n",
       "\n",
       "     Air_Pollution_Score  City_MPG  Hwy_MPG  Cmb_MPG  Greenhouse_Gas_Score  \\\n",
       "790                   10       124       93      108                    10   \n",
       "\n",
       "    SmartWay  \n",
       "790    Elite  "
      ]
     },
     "execution_count": 247,
     "metadata": {},
     "output_type": "execute_result"
    }
   ],
   "source": [
    "df_18.query('Air_Pollution_Score == 10')"
   ]
  },
  {
   "cell_type": "code",
   "execution_count": 230,
   "metadata": {},
   "outputs": [],
   "source": [
    "air_max_08 = df_08.Air_Pollution_Score.max()\n",
    "air_max_18 = df_18.Air_Pollution_Score.max()\n",
    "cmb_max_08 = df_08.Cmb_MPG.max()\n",
    "cmb_max_18 = df_18.Cmb_MPG.max()"
   ]
  },
  {
   "cell_type": "code",
   "execution_count": 241,
   "metadata": {},
   "outputs": [
    {
     "data": {
      "text/html": [
       "<div>\n",
       "<style scoped>\n",
       "    .dataframe tbody tr th:only-of-type {\n",
       "        vertical-align: middle;\n",
       "    }\n",
       "\n",
       "    .dataframe tbody tr th {\n",
       "        vertical-align: top;\n",
       "    }\n",
       "\n",
       "    .dataframe thead th {\n",
       "        text-align: right;\n",
       "    }\n",
       "</style>\n",
       "<table border=\"1\" class=\"dataframe\">\n",
       "  <thead>\n",
       "    <tr style=\"text-align: right;\">\n",
       "      <th></th>\n",
       "      <th>Model</th>\n",
       "      <th>Displ</th>\n",
       "      <th>Cyl</th>\n",
       "      <th>Trans</th>\n",
       "      <th>Drive</th>\n",
       "      <th>Fuel</th>\n",
       "      <th>Veh_Class</th>\n",
       "      <th>Air_Pollution_Score</th>\n",
       "      <th>City_MPG</th>\n",
       "      <th>Hwy_MPG</th>\n",
       "      <th>Cmb_MPG</th>\n",
       "      <th>Greenhouse_Gas_Score</th>\n",
       "      <th>SmartWay</th>\n",
       "    </tr>\n",
       "  </thead>\n",
       "  <tbody>\n",
       "    <tr>\n",
       "      <th>1389</th>\n",
       "      <td>TOYOTA Prius</td>\n",
       "      <td>1.5</td>\n",
       "      <td>4</td>\n",
       "      <td>Auto-AV</td>\n",
       "      <td>2WD</td>\n",
       "      <td>Gasoline</td>\n",
       "      <td>midsize car</td>\n",
       "      <td>9</td>\n",
       "      <td>48</td>\n",
       "      <td>45</td>\n",
       "      <td>46</td>\n",
       "      <td>10</td>\n",
       "      <td>yes</td>\n",
       "    </tr>\n",
       "  </tbody>\n",
       "</table>\n",
       "</div>"
      ],
      "text/plain": [
       "             Model  Displ  Cyl    Trans Drive      Fuel    Veh_Class  \\\n",
       "1389  TOYOTA Prius    1.5    4  Auto-AV   2WD  Gasoline  midsize car   \n",
       "\n",
       "      Air_Pollution_Score  City_MPG  Hwy_MPG  Cmb_MPG  Greenhouse_Gas_Score  \\\n",
       "1389                    9        48       45       46                    10   \n",
       "\n",
       "     SmartWay  \n",
       "1389      yes  "
      ]
     },
     "execution_count": 241,
     "metadata": {},
     "output_type": "execute_result"
    }
   ],
   "source": [
    "best_ac_08 = df_08.query(f'Air_Pollution_Score == {air_max_08} and Cmb_MPG == {cmb_max_08}')\n",
    "best_ac_08"
   ]
  },
  {
   "cell_type": "code",
   "execution_count": 242,
   "metadata": {},
   "outputs": [
    {
     "data": {
      "text/html": [
       "<div>\n",
       "<style scoped>\n",
       "    .dataframe tbody tr th:only-of-type {\n",
       "        vertical-align: middle;\n",
       "    }\n",
       "\n",
       "    .dataframe tbody tr th {\n",
       "        vertical-align: top;\n",
       "    }\n",
       "\n",
       "    .dataframe thead th {\n",
       "        text-align: right;\n",
       "    }\n",
       "</style>\n",
       "<table border=\"1\" class=\"dataframe\">\n",
       "  <thead>\n",
       "    <tr style=\"text-align: right;\">\n",
       "      <th></th>\n",
       "      <th>Model</th>\n",
       "      <th>Displ</th>\n",
       "      <th>Cyl</th>\n",
       "      <th>Trans</th>\n",
       "      <th>Drive</th>\n",
       "      <th>Fuel</th>\n",
       "      <th>Veh_Class</th>\n",
       "      <th>Air_Pollution_Score</th>\n",
       "      <th>City_MPG</th>\n",
       "      <th>Hwy_MPG</th>\n",
       "      <th>Cmb_MPG</th>\n",
       "      <th>Greenhouse_Gas_Score</th>\n",
       "      <th>SmartWay</th>\n",
       "    </tr>\n",
       "  </thead>\n",
       "  <tbody>\n",
       "    <tr>\n",
       "      <th>790</th>\n",
       "      <td>KIA Soul Electric</td>\n",
       "      <td>0.0</td>\n",
       "      <td>0</td>\n",
       "      <td>Auto-1</td>\n",
       "      <td>2WD</td>\n",
       "      <td>Electricity</td>\n",
       "      <td>station wagon</td>\n",
       "      <td>10</td>\n",
       "      <td>124</td>\n",
       "      <td>93</td>\n",
       "      <td>108</td>\n",
       "      <td>10</td>\n",
       "      <td>Elite</td>\n",
       "    </tr>\n",
       "  </tbody>\n",
       "</table>\n",
       "</div>"
      ],
      "text/plain": [
       "                 Model  Displ  Cyl   Trans Drive         Fuel      Veh_Class  \\\n",
       "790  KIA Soul Electric    0.0    0  Auto-1   2WD  Electricity  station wagon   \n",
       "\n",
       "     Air_Pollution_Score  City_MPG  Hwy_MPG  Cmb_MPG  Greenhouse_Gas_Score  \\\n",
       "790                   10       124       93      108                    10   \n",
       "\n",
       "    SmartWay  \n",
       "790    Elite  "
      ]
     },
     "execution_count": 242,
     "metadata": {},
     "output_type": "execute_result"
    }
   ],
   "source": [
    "best_ac_18 = df_18.query(f'Air_Pollution_Score == {air_max_18} and Cmb_MPG == {cmb_max_18}')\n",
    "best_ac_18"
   ]
  },
  {
   "cell_type": "code",
   "execution_count": null,
   "metadata": {},
   "outputs": [],
   "source": []
  }
 ],
 "metadata": {
  "kernelspec": {
   "display_name": "Python 3",
   "language": "python",
   "name": "python3"
  },
  "language_info": {
   "codemirror_mode": {
    "name": "ipython",
    "version": 3
   },
   "file_extension": ".py",
   "mimetype": "text/x-python",
   "name": "python",
   "nbconvert_exporter": "python",
   "pygments_lexer": "ipython3",
   "version": "3.7.6"
  }
 },
 "nbformat": 4,
 "nbformat_minor": 2
}
